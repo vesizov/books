{
 "cells": [
  {
   "cell_type": "code",
   "execution_count": 1,
   "id": "f2b7bfb8",
   "metadata": {},
   "outputs": [
    {
     "name": "stdout",
     "output_type": "stream",
     "text": [
      "2 (2,) <class 'tuple'>\n"
     ]
    }
   ],
   "source": [
    "x = 1\n",
    "y = (2,)\n",
    "\n",
    "x ,= y\n",
    "\n",
    "print(x,y, type(y))"
   ]
  },
  {
   "cell_type": "code",
   "execution_count": null,
   "id": "236764de",
   "metadata": {},
   "outputs": [],
   "source": [
    "A0 = dict(zip(('a','b','c','d','e'),(1,2,3,4,5)))\n",
    "A1 = range(10)\n",
    "A2 = sorted([i for i in A1 if i in A0])\n",
    "A3 = sorted([A0[s] for s in A0])\n",
    "A4 = [i for i in A1 if i in A3]\n",
    "A5 = {i:i*i for i in A1}\n",
    "A6 = [[i,i*i] for i in A1]"
   ]
  },
  {
   "cell_type": "code",
   "execution_count": null,
   "id": "6fecc4eb",
   "metadata": {},
   "outputs": [],
   "source": [
    "print(A0)\n",
    "print(A1)\n",
    "print(A2)\n",
    "print(A3)\n",
    "print(A4)\n",
    "print(A5)\n",
    "print(A6)"
   ]
  },
  {
   "cell_type": "code",
   "execution_count": null,
   "id": "c224c893",
   "metadata": {},
   "outputs": [],
   "source": [
    "class Animal():\n",
    "    def __init__(self, name):\n",
    "        self.name = name\n",
    "\n",
    "    def say(self):\n",
    "        print(self.name + \" хочет что-то сказать\")\n",
    "\n",
    "    def swim(self):\n",
    "        print(self.name + \" подходит к воде\")\n",
    "\n",
    "\n",
    "class Cat(Animal):\n",
    "    def say(self):\n",
    "        super(Cat, self).say()\n",
    "        print(self.name + \" говорит Мяу\")\n",
    "\n",
    "    def swim(self):\n",
    "        super(Cat, self).swim()\n",
    "        print(self.name + \" боится воды\")\n",
    "\n",
    "\n",
    "class Dog(Animal):\n",
    "    def say(self):\n",
    "        super(Dog, self).say()\n",
    "        print(self.name + \" говорит Гав\")\n",
    "\n",
    "    def swim(self):\n",
    "        super(Dog, self).swim()\n",
    "        print(self.name + \" плывет по-собачьи\")\n",
    "\n",
    "\n",
    "class CatDog(Cat,Dog):\n",
    "    swim = Dog.swim\n",
    "\n",
    "    def say(self):\n",
    "        super(CatDog, self).say()\n",
    "\n",
    "cat = Cat(\"Кот\")\n",
    "dog = Dog(\"Пес\")\n",
    "catDog = CatDog(\"КотоПес\")\n",
    "\n",
    "cat.say()\n",
    "# Кот хочет что-то сказать\n",
    "# Кот говорит Мяу\n",
    "\n",
    "dog.say()\n",
    "# Пес хочет что-то сказать\n",
    "# Пес говорит Гав\n",
    "\n",
    "catDog.say()\n",
    "# КотоПес хочет что-то сказать\n",
    "# КотоПес говорит Гав\n",
    "# КотоПес говорит Мяу\n",
    "\n",
    "cat.swim()\n",
    "# Кот подходит к воде\n",
    "# Кот боится воды\n",
    "\n",
    "dog.swim()\n",
    "# Пес подходит к воде\n",
    "# Пес плывет по-собачьи\n",
    "\n",
    "catDog.swim()\n",
    "# КотоПес подходит к воде\n",
    "# КотоПес плывет по-собачьи"
   ]
  },
  {
   "cell_type": "code",
   "execution_count": null,
   "id": "e7967920",
   "metadata": {},
   "outputs": [],
   "source": [
    "from functools import lru_cache\n",
    "@lru_cache(maxsize=None)\n",
    "def fib(n):\n",
    "    if n <= 1:\n",
    "        return n\n",
    "    return fib(n - 1) + fib(n - 2)\n",
    "\n",
    "def main():\n",
    "    for i in range(400):\n",
    "        print(i, fib(i))\n",
    "    print('done')\n",
    "\n",
    "main()"
   ]
  },
  {
   "cell_type": "code",
   "execution_count": null,
   "id": "90f43678",
   "metadata": {},
   "outputs": [],
   "source": [
    "# How to merge two dictionaries\n",
    "# in Python 3.5+:\n",
    "\n",
    "x = {'a': 1, 'b': 2}\n",
    "y = {'b': 3, 'c': 4}\n",
    "z = {**x, **y}\n",
    "z\n",
    "#{'c': 4, 'a': 1, 'b': 3}\n"
   ]
  },
  {
   "cell_type": "code",
   "execution_count": null,
   "id": "ea9a13fe",
   "metadata": {},
   "outputs": [],
   "source": [
    "# Function argument unpacking\n",
    "\n",
    "def myfunc(x, y, z):\n",
    "    print(x, y, z)\n",
    "\n",
    "tuple_vec = (1, 0, 1)\n",
    "dict_vec = {'x': 1, 'y': 0, 'z': 1}\n",
    "\n",
    "myfunc(*tuple_vec)\n",
    "\n",
    "\n",
    "myfunc(**dict_vec)\n"
   ]
  },
  {
   "cell_type": "code",
   "execution_count": null,
   "id": "8dc28c23",
   "metadata": {},
   "outputs": [],
   "source": [
    "# The lambda keyword in Python provides a\n",
    "# shortcut for declaring small and\n",
    "# anonymous functions:\n",
    "\n",
    "add = lambda x, y: x + y\n",
    "add(5, 3)\n",
    "\n",
    "# You could declare the same add()\n",
    "# function with the def keyword:\n",
    "\n",
    "def add(x, y):\n",
    "    return x + y\n",
    "add(5, 3)\n",
    "\n",
    "# So what's the big fuss about?\n",
    "# Lambdas are *function expressions*:\n",
    "(lambda x, y: x + y)(5, 3)\n",
    "\n",
    "# → Lambda functions are single-expression\n",
    "# functions that are not necessarily bound\n",
    "# to a name (they can be anonymous).\n",
    "\n",
    "# → Lambda functions can't use regular\n",
    "# Python statements and always include an\n",
    "# implicit `return` statement."
   ]
  },
  {
   "cell_type": "code",
   "execution_count": null,
   "id": "eb8e67b4",
   "metadata": {},
   "outputs": [],
   "source": [
    "d='qwe 🤠'\n",
    "print()\n",
    "print(f'{d:>14}')\n",
    "print(f'{d!a}')\n",
    "#x = 'test'\n",
    "#f'{x:>10}' → '      test'\n",
    "#f'{x:*<8}' → 'test****'\n",
    "#f'{x:=^8}' → '==test=='"
   ]
  },
  {
   "cell_type": "code",
   "execution_count": null,
   "id": "9e1b8358",
   "metadata": {},
   "outputs": [],
   "source": [
    " class MyClass():\n",
    "    \n",
    "    TOTAL_OBJECTS=0\n",
    "    \n",
    "    def __init__(self):\n",
    "        MyClass.TOTAL_OBJECTS = MyClass.TOTAL_OBJECTS+1\n",
    "       \n",
    "    @classmethod\n",
    "    def total_objects(cls):\n",
    "        print(\"Total objects: \",cls.TOTAL_OBJECTS)\n",
    "# Создаем объекты        \n",
    "my_obj1 = MyClass()\n",
    "my_obj2 = MyClass()\n",
    "my_obj3 = MyClass()\n",
    "# Вызываем classmethod \n",
    "MyClass.total_objects()"
   ]
  },
  {
   "cell_type": "code",
   "execution_count": null,
   "id": "207baa73",
   "metadata": {},
   "outputs": [],
   "source": [
    "q = [[0,1,2],\n",
    "     [3,4,5],\n",
    "     [6,7,8]]\n",
    "q[1][2]\n"
   ]
  },
  {
   "cell_type": "code",
   "execution_count": null,
   "id": "67d3e988",
   "metadata": {},
   "outputs": [],
   "source": [
    "class Dog():\n",
    "    def __init__(self, name = 'woofy'):\n",
    "        self.name = name\n",
    "\n",
    "    def getDogName(self):\n",
    "        return self.name\n",
    "    def dog_call(self):\n",
    "        return 'Hey ' + self.getDogName() # Just cast it on self!!!!\n",
    "    @classmethod\n",
    "    def newDog(cls, new_name):\n",
    "        return Dog(new_name)"
   ]
  },
  {
   "cell_type": "code",
   "execution_count": null,
   "id": "04a829c7",
   "metadata": {},
   "outputs": [],
   "source": [
    "d = Dog()\n",
    "c = d.newDog('Sharik')\n",
    "c.getDogName()\n",
    "c.dog_call()"
   ]
  },
  {
   "cell_type": "code",
   "execution_count": null,
   "id": "091313f3",
   "metadata": {},
   "outputs": [],
   "source": [
    "try:\n",
    "    print(int('qwe'))\n",
    "except ValueError:\n",
    "    print('not a number')"
   ]
  },
  {
   "cell_type": "code",
   "execution_count": null,
   "id": "b69315dd",
   "metadata": {},
   "outputs": [],
   "source": [
    "class Fibbonachi:\n",
    "\n",
    "    def __iter__(self):\n",
    "        self.cur_val = 0\n",
    "        self.next_val = 1\n",
    "        return self\n",
    "\n",
    "    def __next__(self):\n",
    "        tmp = self.next_val\n",
    "        self.next_val += self.cur_val\n",
    "        self.cur_val = tmp\n",
    "        return tmp\n",
    "\n",
    "\n",
    "for i in Fibbonachi():\n",
    "    print(i)\n",
    "    if i > 7: break"
   ]
  },
  {
   "cell_type": "code",
   "execution_count": null,
   "id": "ea7f060b",
   "metadata": {},
   "outputs": [],
   "source": [
    "xvec = [10, 20, 30]\n",
    "yvec = [7, 5, 3]\n",
    "\n",
    "#print(dict(zip(xvec, yvec)))\n",
    "\n",
    "sum(x*y for x,y in zip(xvec, yvec))\n"
   ]
  },
  {
   "cell_type": "code",
   "execution_count": null,
   "id": "3fe4b645",
   "metadata": {},
   "outputs": [],
   "source": [
    "not None"
   ]
  },
  {
   "cell_type": "code",
   "execution_count": null,
   "id": "559e9068",
   "metadata": {},
   "outputs": [],
   "source": [
    "a = {1:2,3:4}\n",
    "b = {1:2,3:4,5:6}\n",
    "a.update(b)\n",
    "print(a)\n",
    "print(b)\n",
    "print(id(a))\n",
    "print(id(b))"
   ]
  },
  {
   "cell_type": "code",
   "execution_count": null,
   "id": "70e18f57",
   "metadata": {},
   "outputs": [],
   "source": [
    "'55'<'5555'"
   ]
  },
  {
   "cell_type": "code",
   "execution_count": null,
   "id": "a0f9cc83",
   "metadata": {},
   "outputs": [],
   "source": [
    "if 'Anything except False, empty string and empty type':\n",
    "    print('Hi')"
   ]
  },
  {
   "cell_type": "code",
   "execution_count": null,
   "id": "431f3ed6",
   "metadata": {},
   "outputs": [],
   "source": [
    "l = [1.5, 'Python', False]\n",
    "t = (1.2,'Java','True')\n",
    "for i in range(len(l)):\n",
    "    if l[i]:\n",
    "        l[i] = l[i] + t[i]\n",
    "        print(l[i])\n",
    "    else:\n",
    "        t[i] = l[i] + t[i]"
   ]
  },
  {
   "cell_type": "code",
   "execution_count": null,
   "id": "0657c4bd",
   "metadata": {},
   "outputs": [],
   "source": [
    "print(False + False, True + False, True + True)"
   ]
  },
  {
   "cell_type": "code",
   "execution_count": null,
   "id": "4b8e73d6",
   "metadata": {
    "scrolled": true
   },
   "outputs": [],
   "source": [
    "class Pet:\n",
    "    def call_me(self):\n",
    "        print('Bella',self)\n",
    "\n",
    "cat = Pet()\n",
    "cat.call_me()\n",
    "#Pet.call_me(1)"
   ]
  },
  {
   "cell_type": "code",
   "execution_count": null,
   "id": "b33fee54",
   "metadata": {},
   "outputs": [],
   "source": [
    "def f(par2,par1):\n",
    "    return par1+par2\n",
    "print(f(1,2))\n",
    "print(f(par2=1,2)) #error"
   ]
  },
  {
   "cell_type": "code",
   "execution_count": null,
   "id": "6afba149",
   "metadata": {},
   "outputs": [],
   "source": [
    "True and False"
   ]
  },
  {
   "cell_type": "code",
   "execution_count": null,
   "id": "7aeb9b44",
   "metadata": {},
   "outputs": [],
   "source": [
    "False or False"
   ]
  },
  {
   "cell_type": "code",
   "execution_count": null,
   "id": "5620edbe",
   "metadata": {},
   "outputs": [],
   "source": [
    "True or True and False or False# 1st executed is 'and', 'or' is last of all\n",
    "# https://letpy.com/handbook/operator-priorities/"
   ]
  },
  {
   "cell_type": "code",
   "execution_count": null,
   "id": "d91c1f47",
   "metadata": {},
   "outputs": [],
   "source": [
    "t=(1,2,3,4)\n",
    "t = t[-2:-1]\n",
    "print(t)\n",
    "t = t[-1]\n",
    "t"
   ]
  },
  {
   "cell_type": "code",
   "execution_count": null,
   "id": "10354726",
   "metadata": {},
   "outputs": [],
   "source": [
    "l = [1,2,3,4]\n",
    "list(map(lambda x: x + 1,l))"
   ]
  },
  {
   "cell_type": "code",
   "execution_count": null,
   "id": "31212c0e",
   "metadata": {},
   "outputs": [],
   "source": [
    "aquarium_creatures = [\n",
    "    {\"name\": \"sammy\", \"species\": \"shark\", \"tank number\": 11, \"type\": \"fish\"},\n",
    "    {\"name\": \"ashley\", \"species\": \"crab\", \"tank number\": 25, \"type\": \"shellfish\"},\n",
    "    {\"name\": \"jo\", \"species\": \"guppy\", \"tank number\": 18, \"type\": \"fish\"},\n",
    "    {\"name\": \"jackie\", \"species\": \"lobster\", \"tank number\": 21, \"type\": \"shellfish\"},\n",
    "    {\"name\": \"charlie\", \"species\": \"clownfish\", \"tank number\": 12, \"type\": \"fish\"},\n",
    "    {\"name\": \"olly\", \"species\": \"green turtle\", \"tank number\": 34, \"type\": \"turtle\"}\n",
    "]\n",
    "\n",
    "def assign_to_tank(aquarium_creatures, new_tank_number):\n",
    "    def apply(x):\n",
    "        x[\"tank number\"] = new_tank_number\n",
    "        return x\n",
    "    return map(apply, aquarium_creatures)\n",
    "list(assign_to_tank(aquarium_creatures,21))"
   ]
  },
  {
   "cell_type": "code",
   "execution_count": null,
   "id": "e92ae7ef",
   "metadata": {},
   "outputs": [],
   "source": [
    "l = [[c for c in range(r)] for r in range(3)]\n",
    "print(l)\n",
    "for x in l:\n",
    "    if len(x) < 2:\n",
    "        print('*')"
   ]
  },
  {
   "cell_type": "code",
   "execution_count": null,
   "id": "3cabb728",
   "metadata": {
    "scrolled": true
   },
   "outputs": [],
   "source": [
    "class MyClass(object):\n",
    "    pass\n",
    "class MySubClass(MyClass):\n",
    "    pass\n",
    "#print(isinstance(MySubClass, object))\n",
    "#print(issubclass(MySubClass, MyClass))\n",
    "#print(isinstance(MySubClass, MyClass))\n",
    "\n",
    "test = MySubClass()\n",
    "print(isinstance(test, MyClass)) # >>True!!!"
   ]
  },
  {
   "cell_type": "code",
   "execution_count": null,
   "id": "a043b42f",
   "metadata": {},
   "outputs": [],
   "source": [
    "a = [1,2,[3]]\n",
    "b = list(a)\n",
    "c = a.copy()\n",
    "a[2][0] = 0\n",
    "\n",
    "print(a)\n",
    "print(b)\n",
    "print(c)\n",
    "a[2] is b[2]"
   ]
  },
  {
   "cell_type": "code",
   "execution_count": null,
   "id": "87777f0b",
   "metadata": {},
   "outputs": [],
   "source": []
  },
  {
   "cell_type": "code",
   "execution_count": null,
   "id": "d493e7a2",
   "metadata": {},
   "outputs": [],
   "source": [
    "i = 4\n",
    "print(f\"{i = }\")"
   ]
  },
  {
   "cell_type": "code",
   "execution_count": null,
   "id": "19c81248",
   "metadata": {},
   "outputs": [],
   "source": [
    "x, y, z = input('Enter the room sizes ').strip().split()\n",
    "x, y, z = map(int, (x,y,z))\n",
    "volume = x * y * z\n",
    "print(f\"{volume = }\")\n"
   ]
  },
  {
   "cell_type": "markdown",
   "id": "2ace9b4d",
   "metadata": {},
   "source": [
    " "
   ]
  },
  {
   "cell_type": "code",
   "execution_count": null,
   "id": "2e83d21f",
   "metadata": {},
   "outputs": [],
   "source": [
    "from functools import reduce\n",
    "\n",
    "volume = reduce(lambda x,y: x * y,\n",
    "                map(int, input('Enter the room sizes ').strip().split())\n",
    "                )\n",
    "print(f\"{volume = }\")"
   ]
  },
  {
   "cell_type": "code",
   "execution_count": null,
   "id": "83eac23d",
   "metadata": {},
   "outputs": [],
   "source": [
    "a = tuple('hello, world!')\n",
    "print(a)"
   ]
  },
  {
   "cell_type": "code",
   "execution_count": null,
   "id": "9c2de87c",
   "metadata": {},
   "outputs": [],
   "source": [
    "a = 1\n",
    "b = 0\n",
    "print(a)"
   ]
  },
  {
   "cell_type": "code",
   "execution_count": null,
   "id": "189c91d3",
   "metadata": {},
   "outputs": [],
   "source": [
    "test = [0,1,2,3,[],'',False,(),'a','b','c']\n",
    "list(filter(bool, test))"
   ]
  },
  {
   "cell_type": "code",
   "execution_count": null,
   "id": "dec5213a",
   "metadata": {},
   "outputs": [],
   "source": [
    "\n",
    "list_of_stop_words = [\"в\", \"и\", \"по\", \"за\"]\n",
    "\n",
    "string_to_process = \"Сервис по поиску работы и сотрудников HeadHunter опубликовал подборку высокооплачиваемых вакансий в России за август.\"\n",
    "\n",
    "split_str = string_to_process.split()\n",
    "filtered_str = ' '.join(filter(lambda s: s not in list_of_stop_words, split_str))\n",
    "\n",
    "print(filtered_str)"
   ]
  },
  {
   "cell_type": "code",
   "execution_count": null,
   "id": "27469368",
   "metadata": {},
   "outputs": [],
   "source": [
    "class Some_char():\n",
    "    c = 121\n",
    "    \n",
    "    def __init__(self, a = 1, b ='2',c = 3.4):\n",
    "        self.a = a\n",
    "        self.b = b\n",
    "        self.c = c\n",
    "    def plus(self, n):\n",
    "        if isinstance(n,int):\n",
    "            return self.a + n\n",
    "        elif isinstance(n, str):\n",
    "            return self.b + n\n",
    "        elif isinstance(n, float):\n",
    "            return self.c + n\n",
    "        else:\n",
    "            raise ValueError('Wrong input')\n",
    "            \n",
    "ob = Some_char()\n",
    "print(Some_char.__dict__)\n",
    "print('\\n \\n')\n",
    "print(ob.__dict__)"
   ]
  },
  {
   "cell_type": "code",
   "execution_count": null,
   "id": "c3e35670",
   "metadata": {},
   "outputs": [],
   "source": [
    "\n",
    "def rev(arr):\n",
    "    arr.append(arr.pop(0))\n",
    "    if arr[0] != 0:\n",
    "        return rev(arr)\n",
    "    else:\n",
    "        return arr\n",
    "        \n",
    "print(rev([1,2,3,0]))\n"
   ]
  },
  {
   "cell_type": "code",
   "execution_count": null,
   "id": "50e74b21",
   "metadata": {},
   "outputs": [],
   "source": [
    "arr = {\"a\":1,\"b\":2,\"c\":3,\"d\":0}\n",
    "arr['a']\n"
   ]
  },
  {
   "cell_type": "code",
   "execution_count": null,
   "id": "faf87cbf",
   "metadata": {},
   "outputs": [],
   "source": [
    "st = 'asd, qqq,,asd'\n",
    "st.split(',')"
   ]
  },
  {
   "cell_type": "code",
   "execution_count": null,
   "id": "96acaa86",
   "metadata": {},
   "outputs": [],
   "source": [
    "class CLass():\n",
    "    def __init__(self, a):\n",
    "        self.__a = a\n",
    "        \n",
    "    def out(self):\n",
    "        return self.__a\n",
    "    def inp(self, value):\n",
    "        self.__a = value\n",
    "    def hey(self):\n",
    "        print('Hey')"
   ]
  },
  {
   "cell_type": "code",
   "execution_count": null,
   "id": "e971a942",
   "metadata": {},
   "outputs": [],
   "source": [
    "c = CLass(121)\n",
    "c._CLass__a"
   ]
  },
  {
   "cell_type": "code",
   "execution_count": null,
   "id": "6071f688",
   "metadata": {},
   "outputs": [],
   "source": [
    "class claSS(CLass):\n",
    "    def __init__(self,a,b,c):\n",
    "        super().__init__(a)\n",
    "        self.b = b\n",
    "        self.c = c"
   ]
  },
  {
   "cell_type": "code",
   "execution_count": null,
   "id": "dc489bd2",
   "metadata": {},
   "outputs": [],
   "source": [
    "cl = claSS(1,2,3)\n",
    "cl.out()"
   ]
  },
  {
   "cell_type": "code",
   "execution_count": null,
   "id": "9af803e3",
   "metadata": {},
   "outputs": [],
   "source": [
    "class Pizza():\n",
    "    order_number = 0\n",
    "    def __init__(self, ingredients):\n",
    "        self.ingredients = ingredients\n",
    "        self.order_number = Pizza.order_number+1\n",
    "        Pizza.order_number += 1\n",
    "    def hawaiian():\n",
    "        return Pizza(['ham','pineapple'])\n",
    "    def meat_festival():\n",
    "        return Pizza(['beef', 'meatball', 'bacon'])\n",
    "    def garden_feast():\n",
    "        return Pizza(['spinach', 'olives', 'mushroom'])"
   ]
  },
  {
   "cell_type": "code",
   "execution_count": null,
   "id": "a8fc6a70",
   "metadata": {},
   "outputs": [],
   "source": [
    "'www.example.com'.strip('cmow.')#mindfuck"
   ]
  },
  {
   "cell_type": "code",
   "execution_count": null,
   "id": "b9b01b63",
   "metadata": {},
   "outputs": [],
   "source": [
    "yield from"
   ]
  },
  {
   "cell_type": "code",
   "execution_count": null,
   "id": "1c89fb0e",
   "metadata": {},
   "outputs": [],
   "source": [
    "l =[1,1,2]\n",
    "\n",
    "for i in range(1, len(l)):\n",
    "    print(l[i-1]<l[i])\n",
    "\n"
   ]
  },
  {
   "cell_type": "code",
   "execution_count": null,
   "id": "245bb418",
   "metadata": {},
   "outputs": [],
   "source": [
    "a ='XCIX'\n",
    "b = list(a)\n",
    "print(b)\n",
    "print(b.pop())\n",
    "print(b) "
   ]
  },
  {
   "cell_type": "code",
   "execution_count": null,
   "id": "9889a360",
   "metadata": {},
   "outputs": [],
   "source": [
    "import random\n",
    "\n",
    "def random_line(afile):\n",
    "\n",
    "    try:\n",
    "        line = next(afile)\n",
    "        for num, aline in enumerate(afile,2):\n",
    "            if random.randrange(num): continue\n",
    "            line = aline\n",
    "   \n",
    "        return line\n",
    "    except StopIteration:       \n",
    "        return 'Oops!'\n",
    "        \n",
    "with open('WordsStockRus.txt','r',encoding='utf-8') as afile:\n",
    "     print(random_line(afile))\n",
    "     \n",
    "    "
   ]
  },
  {
   "cell_type": "code",
   "execution_count": null,
   "id": "9829425d",
   "metadata": {},
   "outputs": [],
   "source": [
    "for i in enumerate([1230,1,2,3]):\n",
    "    print(i)"
   ]
  },
  {
   "cell_type": "code",
   "execution_count": null,
   "id": "1e0dc48c",
   "metadata": {},
   "outputs": [],
   "source": [
    "word = 'qeqeqeqw121'\n",
    "_word = ['*' for _ in word]\n",
    "# print(_word)\n",
    "\n",
    "def guess_char(char):\n",
    "    if char in word:\n",
    "        char_idx = (idx for  idx, _char in enumerate(word) if _char == char)\n",
    "            \n",
    "        for idx in char_idx:\n",
    "            _word[idx] = char\n",
    "    print(''.join(_word))\n",
    "\n",
    "    \n",
    "guess_char('1')\n",
    "guess_char('q')\n",
    "guess_char('e')"
   ]
  },
  {
   "cell_type": "code",
   "execution_count": null,
   "id": "2e449db3",
   "metadata": {},
   "outputs": [],
   "source": [
    "import csv\n",
    "num = 0\n",
    "with open('/Users/vladimir/Documents/upgrade/Questions.csv') as file:\n",
    "    reader = csv.reader(file, delimiter =';')\n",
    "    question = next(q for n, q in enumerate(reader) if n == num)\n",
    "question"
   ]
  },
  {
   "cell_type": "code",
   "execution_count": null,
   "id": "d1c11667",
   "metadata": {},
   "outputs": [],
   "source": [
    "e = enumerate('word')\n",
    "print(next(e))\n",
    "print(next(e))\n",
    "print(next(e))"
   ]
  },
  {
   "cell_type": "code",
   "execution_count": null,
   "id": "cfea6061",
   "metadata": {},
   "outputs": [],
   "source": [
    "a = {1:'a', 2:'b'}\n",
    "a[3] = 'c'\n",
    "a"
   ]
  },
  {
   "cell_type": "code",
   "execution_count": null,
   "id": "1bc286be",
   "metadata": {},
   "outputs": [],
   "source": [
    "#sum(1 for line in open('file', 'r'))"
   ]
  },
  {
   "cell_type": "code",
   "execution_count": null,
   "id": "dfd39952",
   "metadata": {},
   "outputs": [],
   "source": [
    "round(3.21231231,3)"
   ]
  },
  {
   "cell_type": "code",
   "execution_count": null,
   "id": "b6e9fc9c",
   "metadata": {},
   "outputs": [],
   "source": [
    "def gena():\n",
    "    yield from range(10)\n",
    "    \n",
    "t = gena()\n",
    "print(next(t))\n",
    "print(next(t))\n",
    "print(next(t))\n",
    "\n",
    "def old_gena():\n",
    "    for i in range(10):\n",
    "        yield i\n",
    "        \n",
    "\n",
    "   "
   ]
  },
  {
   "cell_type": "code",
   "execution_count": 41,
   "id": "5bd4d44a",
   "metadata": {},
   "outputs": [
    {
     "name": "stdout",
     "output_type": "stream",
     "text": [
      "0\n",
      "hi\n",
      "1\n",
      "hi\n",
      "2\n",
      "hi\n",
      "3\n",
      "hi\n",
      "4\n",
      "hi\n",
      "5\n",
      "hi\n",
      "6\n",
      "hi\n",
      "7\n",
      "hi\n",
      "8\n",
      "hi\n",
      "9\n",
      "hi\n",
      "10\n",
      "11\n",
      "12\n",
      "13\n",
      "14\n",
      "15\n",
      "16\n",
      "17\n",
      "18\n",
      "19\n"
     ]
    }
   ],
   "source": [
    "def generator2():\n",
    "    for i in range(10):\n",
    "        yield i\n",
    "\n",
    "def generator3():\n",
    "    for j in range(10, 20):\n",
    "        yield j\n",
    "        \n",
    "def generator():\n",
    "    yield from generator2()\n",
    "    yield from generator3()\n",
    "    \n",
    "for i in generator():\n",
    "    print(i)"
   ]
  },
  {
   "cell_type": "code",
   "execution_count": null,
   "id": "88ce8eff",
   "metadata": {},
   "outputs": [],
   "source": [
    "l = list('abc')\n",
    "print(l)\n",
    "l.extend([c.upper() for c in l])\n",
    "print(l)"
   ]
  },
  {
   "cell_type": "code",
   "execution_count": null,
   "id": "49ad910c",
   "metadata": {},
   "outputs": [],
   "source": [
    "with open('sample.txt','r') as file:\n",
    "    print(type(file))\n",
    "    for a in file:\n",
    "        print(a)"
   ]
  },
  {
   "cell_type": "code",
   "execution_count": null,
   "id": "7ede52af",
   "metadata": {},
   "outputs": [],
   "source": [
    "n_list = [1, 2, 3]\n",
    "i = iter(n_list)\n",
    "for n in i:\n",
    "     print('hi', n)\n",
    "for n in i:\n",
    "     print('hi', n)\n",
    "for n in i:\n",
    "     print('hi', n)"
   ]
  },
  {
   "cell_type": "code",
   "execution_count": null,
   "id": "f1f9f2a5",
   "metadata": {},
   "outputs": [],
   "source": [
    "from inspect import getgeneratorstate\n",
    "\n",
    "def subgen():\n",
    "    x = 'Hello coder'\n",
    "    message = yield x\n",
    "    print('Sub says:', message)\n",
    "g = subgen()\n",
    "\n",
    "   \n",
    "print(g.send(None))\n",
    "\n",
    "g.send('Hi!')\n",
    "print(getgeneratorstate(subgen()))"
   ]
  },
  {
   "cell_type": "code",
   "execution_count": 21,
   "id": "17f1b25e",
   "metadata": {},
   "outputs": [
    {
     "name": "stdout",
     "output_type": "stream",
     "text": [
      "A\n",
      "C\n",
      "B\n",
      "D\n"
     ]
    }
   ],
   "source": [
    "class A:\n",
    "    def __init__(self):\n",
    "        print('A')\n",
    "        \n",
    "class B(A):\n",
    "    def __init__(self):\n",
    "        super().__init__()\n",
    "        print('B')\n",
    "        \n",
    "class C(A):\n",
    "    def __init__(self):\n",
    "        super().__init__()\n",
    "        print('C')\n",
    "class D(B, C):\n",
    "    def __init__(self):\n",
    "        super().__init__()\n",
    "        print('D')\n",
    "\n",
    "a = D()"
   ]
  },
  {
   "cell_type": "code",
   "execution_count": 3,
   "id": "6fb4a8b8",
   "metadata": {},
   "outputs": [
    {
     "name": "stdout",
     "output_type": "stream",
     "text": [
      "[1, 2, 2, 23.3, 4, 3, 2]\n"
     ]
    }
   ],
   "source": [
    "slist = [1,2,2,[23.3,4,[3,2]]]\n",
    "\n",
    "\n",
    "def outy(qwe):\n",
    "    inny = []\n",
    "    def foo(s: list, a:list):    \n",
    "        for n in s:\n",
    "            if isinstance(n, list):\n",
    "                foo(n,a)\n",
    "            else:\n",
    "                a.append(n)\n",
    "    foo(qwe, inny)\n",
    "    return inny\n",
    "\n",
    "print(outy(slist))"
   ]
  },
  {
   "cell_type": "code",
   "execution_count": 2,
   "id": "d3aa652f",
   "metadata": {},
   "outputs": [
    {
     "data": {
      "text/plain": [
       "False"
      ]
     },
     "execution_count": 2,
     "metadata": {},
     "output_type": "execute_result"
    }
   ],
   "source": [
    "def f(string):\n",
    "    string = string.split()\n",
    "    \n",
    "    return sorted(string[0]) == sorted(string[1])\n",
    "f('qweqq ewq')"
   ]
  },
  {
   "cell_type": "code",
   "execution_count": 12,
   "id": "c7e38c91",
   "metadata": {},
   "outputs": [
    {
     "data": {
      "text/plain": [
       "['qwe', 'ewq']"
      ]
     },
     "execution_count": 12,
     "metadata": {},
     "output_type": "execute_result"
    }
   ],
   "source": [
    "'qwe ewq'.split()"
   ]
  },
  {
   "cell_type": "code",
   "execution_count": 44,
   "id": "88c65b61",
   "metadata": {},
   "outputs": [
    {
     "data": {
      "text/plain": [
       "True"
      ]
     },
     "execution_count": 44,
     "metadata": {},
     "output_type": "execute_result"
    }
   ],
   "source": [
    "a = ['a', 'b', 'c', 'da']\n",
    "b = ['good', 'var']\n",
    "\n",
    "\n",
    "def f(text:str, white_list:list, black_list:list):\n",
    "    if set(txt:=text.split()).issuperset(set(white_list)):\n",
    "        for item in txt:\n",
    "            if item in black_list:\n",
    "                return False\n",
    "        return True\n",
    "    else:\n",
    "        return False\n",
    "    \n",
    "    \n",
    "    \n",
    "f('good var to do it', b, a)"
   ]
  },
  {
   "cell_type": "code",
   "execution_count": null,
   "id": "9945deef",
   "metadata": {},
   "outputs": [],
   "source": [
    "def fizz_buzz(n):\n",
    "    if n%3==0 and n%5==0:\n",
    "        return 'FizzBuzz'\n",
    "    elif n%3==0:\n",
    "        return 'Fizz'\n",
    "    elif n%5==0:\n",
    "        return 'Buzz'\n",
    "    else:\n",
    "        return n\n",
    "    \n",
    "for i in range(100):\n",
    "    print(fizz_buzz(i+1))"
   ]
  },
  {
   "cell_type": "code",
   "execution_count": null,
   "id": "e4b5b378",
   "metadata": {},
   "outputs": [],
   "source": [
    "def new_fizz_buzz(n):\n",
    "    fb=''\n",
    "   \n",
    "    if n%3==0: fb += 'Fizz'\n",
    "        \n",
    "    if n%5==0: fb += 'Buzz'\n",
    "        \n",
    "    return fb if fb else n\n",
    "\n",
    "for i in range(100):\n",
    "    print(new_fizz_buzz(i+1))   "
   ]
  },
  {
   "cell_type": "code",
   "execution_count": 107,
   "id": "98427cdc",
   "metadata": {},
   "outputs": [
    {
     "name": "stdout",
     "output_type": "stream",
     "text": [
      "[[35, 44], [37, 65], [37, 68], [46, 74], [52, 74], [118, 146]]\n",
      "(35, 102)\n"
     ]
    },
    {
     "data": {
      "text/plain": [
       "83"
      ]
     },
     "execution_count": 107,
     "metadata": {},
     "output_type": "execute_result"
    }
   ],
   "source": [
    "from functools import reduce\n",
    "a = 15\n",
    "b = 165\n",
    "\n",
    "otr =([37, 68],\n",
    "      [52, 74],\n",
    "      [118, 146],\n",
    "      [35, 44],\n",
    "      [37, 65],\n",
    "      [46, 74])\n",
    "\n",
    "length_1 = b-a\n",
    "def l(a,b):\n",
    "    if b[0] <= a[1]:\n",
    "        return a[0], max(a[1],b[1]) #Its important!\n",
    "    else:\n",
    "        return a[0], b[1]-(b[0]-a[1])\n",
    "\n",
    "print(sorted(otr))\n",
    "perek_otrezok = reduce(l,sorted(otr))\n",
    "print(perek_otrezok)\n",
    "\n",
    "\n",
    "length_perek = perek_otrezok[1]-perek_otrezok[0]\n",
    "\n",
    "length_1 - length_perek\n",
    "\n"
   ]
  },
  {
   "cell_type": "code",
   "execution_count": 110,
   "id": "bffb741b",
   "metadata": {},
   "outputs": [
    {
     "name": "stdout",
     "output_type": "stream",
     "text": [
      "Section(35, 102)\n",
      "83\n"
     ]
    }
   ],
   "source": [
    "a=15\n",
    "b=165\n",
    "\n",
    "otr =([37, 68],\n",
    "      [52, 74],\n",
    "      [118, 146],\n",
    "      [35, 44],\n",
    "      [37, 65],\n",
    "      [46, 74])\n",
    "\n",
    "class Otr:\n",
    "    def __init__(self,start, end):\n",
    "        self.start = start\n",
    "        self.end = end\n",
    "        \n",
    "        \n",
    "    @classmethod\n",
    "    def from_list(cls, *args):\n",
    "        new_ones = []\n",
    "        for item in args:\n",
    "            new_ones.append(cls(item[0],item[1]))\n",
    "        return new_ones\n",
    "    \n",
    "    \n",
    "    def __len__(self):\n",
    "        return self.end - self.start\n",
    "            \n",
    "        \n",
    "    def __add__(self, otr):\n",
    "        if min(self.end, otr.end) >= max(self.start, otr.start):\n",
    "            return Otr(min(self.start, otr.start), max(self.end, otr.end))\n",
    "\n",
    "        elif self.end < otr.start:       \n",
    "            return Otr(self.start, self.end + len(otr))\n",
    "        \n",
    "        elif otr.end < self.start:\n",
    "            return Otr(self.start - len(otr), self.end)\n",
    "    \n",
    "\n",
    "    def __str__(self):\n",
    "        return f'Section({self.start}, {self.end})'\n",
    "\n",
    "    \n",
    "    def __repr__(self):\n",
    "        return f'Otr({self.start}, {self.end})'\n",
    "    \n",
    "    \n",
    "    def __radd__(self, other):\n",
    "        if other == 0:\n",
    "            return self\n",
    "        else:\n",
    "            return self + other\n",
    "\n",
    "original = Otr(a,b)\n",
    "n_otr = Otr.from_list(*otr)\n",
    "print(sum(n_otr))\n",
    "print(len(original) - len(sum(n_otr)))\n"
   ]
  },
  {
   "cell_type": "code",
   "execution_count": 251,
   "id": "30a68ead",
   "metadata": {},
   "outputs": [],
   "source": [
    "l = list(range(2,99,2))\n",
    "l.append(99)"
   ]
  },
  {
   "cell_type": "code",
   "execution_count": 261,
   "id": "bda79e1b",
   "metadata": {},
   "outputs": [
    {
     "data": {
      "text/plain": [
       "[[2, 4, 6],\n",
       " [8, 10, 12],\n",
       " [14, 16, 18],\n",
       " [20, 22, 24],\n",
       " [26, 28, 30],\n",
       " [32, 34, 36],\n",
       " [38, 40, 42],\n",
       " [44, 46, 48],\n",
       " [50, 52, 54],\n",
       " [56, 58, 60],\n",
       " [62, 64, 66],\n",
       " [68, 70, 72],\n",
       " [74, 76, 78],\n",
       " [80, 82, 84],\n",
       " [86, 88, 90],\n",
       " [92, 94, 96],\n",
       " [98, 99]]"
      ]
     },
     "execution_count": 261,
     "metadata": {},
     "output_type": "execute_result"
    }
   ],
   "source": [
    "def chunk(your_array:list, chunk_length:int):\n",
    "    idx_gen = (idx for idx,item in enumerate(your_array) if item in your_array[::chunk_length])\n",
    "    return [your_array[i:i+chunk_length] for i in idx_gen]\n",
    "chunk(l,3)"
   ]
  },
  {
   "cell_type": "code",
   "execution_count": 206,
   "id": "801ad4b0",
   "metadata": {},
   "outputs": [
    {
     "data": {
      "text/plain": [
       "[[2, 4, 6, 8, 10, 12, 14, 16, 18, 20],\n",
       " [22, 24, 26, 28, 30, 32, 34, 36, 38, 40],\n",
       " [42, 44, 46, 48, 50, 52, 54, 56, 58, 60],\n",
       " [62, 64, 66, 68, 70, 72, 74, 76, 78, 80],\n",
       " [82, 84, 86, 88, 90, 92, 94, 96, 98, 99]]"
      ]
     },
     "execution_count": 206,
     "metadata": {},
     "output_type": "execute_result"
    }
   ],
   "source": [
    "def chunker(your_array:list, chunk_length:int):\n",
    "    if chunk_length <= 0:\n",
    "        raise ValueError('Wrong input')\n",
    "    res = []\n",
    "    def raz(res, array, step, s_idx=0):\n",
    "        f_idx = s_idx+step\n",
    "        if ex:=array[s_idx: f_idx]:\n",
    "            res.append(ex)\n",
    "            raz(res, array, step, f_idx)\n",
    "        return res\n",
    "    return raz(res, your_array, chunk_length)\n",
    "\n",
    "chunker(l,10)  "
   ]
  },
  {
   "cell_type": "code",
   "execution_count": 42,
   "id": "70d10e74",
   "metadata": {},
   "outputs": [
    {
     "data": {
      "text/plain": [
       "[[2, 4, 6, 8, 10, 12, 14, 16, 18, 20],\n",
       " [22, 24, 26, 28, 30, 32, 34, 36, 38, 40],\n",
       " [42, 44, 46, 48, 50, 52, 54, 56, 58, 60],\n",
       " [62, 64, 66, 68, 70, 72, 74, 76, 78, 80],\n",
       " [82, 84, 86, 88, 90, 92, 94, 96, 98]]"
      ]
     },
     "execution_count": 42,
     "metadata": {},
     "output_type": "execute_result"
    }
   ],
   "source": [
    "l =list(range(2,99,2))\n",
    "\n",
    "def chunk_2(nums, chunk_size):\n",
    "    if chunk_size <= 0:\n",
    "        raise ValueError('Wrong input')\n",
    "    nums_copy = nums.copy()\n",
    "    result = []\n",
    "    last_chunk = []\n",
    "    while nums_copy:\n",
    "        if len(last_chunk) == chunk_size:\n",
    "            result.append(last_chunk)\n",
    "            last_chunk = []            \n",
    "        else:\n",
    "            last_chunk.append(nums_copy.pop(0))\n",
    "    if last_chunk:\n",
    "        result.append(last_chunk)\n",
    "    return result\n",
    "\n",
    "chunk_2(l, 10)\n",
    "            "
   ]
  },
  {
   "cell_type": "code",
   "execution_count": 240,
   "id": "88379c6f",
   "metadata": {},
   "outputs": [
    {
     "data": {
      "text/plain": [
       "[[4, 16, 36, 64, 100, 144, 196, 256, 324, 400],\n",
       " [22, 24, 26, 28, 30, 32, 34, 36, 38, 40],\n",
       " [42, 44, 46, 48, 50, 52, 54, 56, 58, 60],\n",
       " [62, 64, 66, 68, 70, 72, 74, 76, 78, 80],\n",
       " [82, 84, 86, 88, 90, 92, 94, 96, 98]]"
      ]
     },
     "execution_count": 240,
     "metadata": {},
     "output_type": "execute_result"
    }
   ],
   "source": [
    "l =list(range(2,99,2))\n",
    "\n",
    "def square_chunk(chunk_list,n):\n",
    "    if len(chunk_list)<n:\n",
    "        n = len(chunk_list)\n",
    "    i = 0\n",
    "    while i<n>0:\n",
    "        chunk_list[i] = list(map(lambda x: x**2, chunk_list[i]))\n",
    "        i += 1\n",
    "    return chunk_list\n",
    "\n",
    "\n",
    "square_chunk(chunk_2(l, 10), 1)"
   ]
  },
  {
   "cell_type": "code",
   "execution_count": 244,
   "id": "a8fcf3e1",
   "metadata": {},
   "outputs": [],
   "source": [
    "def square_chunk_2(chunk_list,n): #%uck!\n",
    "    i = n if len(chunk_list)>=n else len(chunk_list)\n",
    "    \n",
    "    for idx in range(i):\n",
    "        chunk_list[idx] = [k**2 for k in chunk_list[idx]]\n",
    "        \n",
    "    return chunk_list\n",
    "\n",
    "\n",
    "t_list = square_chunk_2(chunk_2(l, 10), 2)"
   ]
  },
  {
   "cell_type": "code",
   "execution_count": 37,
   "id": "b5df24ef",
   "metadata": {},
   "outputs": [
    {
     "ename": "NameError",
     "evalue": "name 't_list' is not defined",
     "output_type": "error",
     "traceback": [
      "\u001b[0;31m---------------------------------------------------------------------------\u001b[0m",
      "\u001b[0;31mNameError\u001b[0m                                 Traceback (most recent call last)",
      "\u001b[0;32m/var/folders/82/8prxbgf53bz3dt6dhjymb2ch0000gn/T/ipykernel_10563/2203269065.py\u001b[0m in \u001b[0;36m<module>\u001b[0;34m\u001b[0m\n\u001b[1;32m      1\u001b[0m \u001b[0;31m#merging\u001b[0m\u001b[0;34m\u001b[0m\u001b[0;34m\u001b[0m\u001b[0m\n\u001b[1;32m      2\u001b[0m \u001b[0mres\u001b[0m \u001b[0;34m=\u001b[0m \u001b[0;34m[\u001b[0m\u001b[0;34m]\u001b[0m\u001b[0;34m\u001b[0m\u001b[0;34m\u001b[0m\u001b[0m\n\u001b[0;32m----> 3\u001b[0;31m \u001b[0;32mfor\u001b[0m \u001b[0mitem\u001b[0m \u001b[0;32min\u001b[0m \u001b[0mt_list\u001b[0m \u001b[0;34m:\u001b[0m\u001b[0;34m\u001b[0m\u001b[0;34m\u001b[0m\u001b[0m\n\u001b[0m\u001b[1;32m      4\u001b[0m     \u001b[0mres\u001b[0m\u001b[0;34m.\u001b[0m\u001b[0mextend\u001b[0m\u001b[0;34m(\u001b[0m\u001b[0mitem\u001b[0m\u001b[0;34m)\u001b[0m\u001b[0;34m\u001b[0m\u001b[0;34m\u001b[0m\u001b[0m\n\u001b[1;32m      5\u001b[0m \u001b[0;34m\u001b[0m\u001b[0m\n",
      "\u001b[0;31mNameError\u001b[0m: name 't_list' is not defined"
     ]
    }
   ],
   "source": [
    "#merging\n",
    "res = []\n",
    "for item in t_list :\n",
    "    res.extend(item)\n",
    "\n",
    "res"
   ]
  },
  {
   "cell_type": "code",
   "execution_count": 13,
   "id": "8687cfef",
   "metadata": {},
   "outputs": [
    {
     "name": "stdout",
     "output_type": "stream",
     "text": [
      "Enter an integer number: 3\n",
      "The number is odd\n"
     ]
    }
   ],
   "source": [
    "number = int(input('Enter an integer number: '))\n",
    "print('The number is even' if number%2 == 0 else 'The number is odd')"
   ]
  },
  {
   "cell_type": "code",
   "execution_count": 46,
   "id": "917afe69",
   "metadata": {},
   "outputs": [
    {
     "data": {
      "text/plain": [
       "2"
      ]
     },
     "execution_count": 46,
     "metadata": {},
     "output_type": "execute_result"
    }
   ],
   "source": [
    "class Slist():\n",
    "    def __init__(self, *args):\n",
    "        self.__inny = []\n",
    "        for item in args:\n",
    "            self.__inny.append(item)\n",
    "                      \n",
    "    def __getitem__(self, idx):\n",
    "        if idx<=0:\n",
    "            raise IndexError('Only positive idx values!')\n",
    "        else:\n",
    "            return self.__inny[idx-1] \n",
    "s_list = Slist(*[2**n for n in range(1,11)])\n",
    "s_list[1]"
   ]
  },
  {
   "cell_type": "code",
   "execution_count": 56,
   "id": "90f05f7e",
   "metadata": {},
   "outputs": [
    {
     "data": {
      "text/plain": [
       "1024"
      ]
     },
     "execution_count": 56,
     "metadata": {},
     "output_type": "execute_result"
    }
   ],
   "source": [
    "class New_List(list):\n",
    "    def __getitem__(self, idx):\n",
    "        if idx<0:\n",
    "            return super().__getitem__(idx)\n",
    "        elif idx == 0:\n",
    "            raise IndexError('No zeros in idx values!')\n",
    "        else:\n",
    "            return super().__getitem__(idx -1)\n",
    "\n",
    "n_list = New_List([2**n for n in range(1,11)])\n",
    "n_list[-1]"
   ]
  },
  {
   "cell_type": "code",
   "execution_count": null,
   "id": "2be0428b",
   "metadata": {},
   "outputs": [],
   "source": []
  }
 ],
 "metadata": {
  "kernelspec": {
   "display_name": "Python 3 (ipykernel)",
   "language": "python",
   "name": "python3"
  },
  "language_info": {
   "codemirror_mode": {
    "name": "ipython",
    "version": 3
   },
   "file_extension": ".py",
   "mimetype": "text/x-python",
   "name": "python",
   "nbconvert_exporter": "python",
   "pygments_lexer": "ipython3",
   "version": "3.9.7"
  }
 },
 "nbformat": 4,
 "nbformat_minor": 5
}
