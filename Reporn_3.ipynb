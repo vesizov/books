{
 "cells": [
  {
   "cell_type": "code",
   "execution_count": 2,
   "id": "0f358656",
   "metadata": {},
   "outputs": [],
   "source": [
    "class Shape:\n",
    "    \n",
    "    def __init__(self):\n",
    "        print('Shape created')\n",
    "        \n",
    "    @property    \n",
    "    def draw(self):\n",
    "        print('Drawing a shape')\n",
    "        \n",
    "    def area(self):\n",
    "        print('Calc area')\n",
    "        \n",
    "    def perimeter(self):\n",
    "        print('Calc perimeter')"
   ]
  },
  {
   "cell_type": "code",
   "execution_count": 3,
   "id": "d627b667",
   "metadata": {},
   "outputs": [
    {
     "name": "stdout",
     "output_type": "stream",
     "text": [
      "Shape created\n",
      "Drawing a shape\n"
     ]
    }
   ],
   "source": [
    "sh = Shape()\n",
    "sh.draw"
   ]
  },
  {
   "cell_type": "code",
   "execution_count": 4,
   "id": "7be4b1fd",
   "metadata": {},
   "outputs": [],
   "source": [
    "class Rectangle(Shape):\n",
    "    def __init__(self, width, height):\n",
    "        \n",
    "        super().__init__()\n",
    "        \n",
    "        self.width = width\n",
    "        self.height = height\n",
    "        \n",
    "        print('Rectangle created')\n",
    "        \n",
    "        super().area()\n",
    "        \n",
    "    def area(self):\n",
    "        return self.width * self.height\n",
    "    def perimeter(self):\n",
    "        return 2 * (self.width + self.height)\n",
    "    def draw(self):\n",
    "        print(f'Drawing rectangle with width = {self.width} and height = {self.height}')"
   ]
  },
  {
   "cell_type": "code",
   "execution_count": 6,
   "id": "cb216c1e",
   "metadata": {},
   "outputs": [
    {
     "name": "stdout",
     "output_type": "stream",
     "text": [
      "Shape created\n",
      "Rectangle created\n",
      "Calc area\n",
      "Drawing rectangle with width = 10 and height = 15\n"
     ]
    }
   ],
   "source": [
    "rect = Rectangle(10,15)\n",
    "rect.draw()"
   ]
  },
  {
   "cell_type": "code",
   "execution_count": 47,
   "id": "8d06979d",
   "metadata": {},
   "outputs": [
    {
     "name": "stdout",
     "output_type": "stream",
     "text": [
      "150\n",
      "50\n"
     ]
    }
   ],
   "source": [
    "print(rect.area())\n",
    "print(rect.perimeter())"
   ]
  },
  {
   "cell_type": "code",
   "execution_count": 25,
   "id": "b5e11b7d",
   "metadata": {},
   "outputs": [],
   "source": [
    "import math\n",
    "\n",
    "\n",
    "class Triangle(Shape):\n",
    "    \n",
    "    def __init__(self, a, b, c):\n",
    "        \n",
    "        Shape.__init__(self)\n",
    "        self.a = a\n",
    "        self.b = b\n",
    "        self.c = c\n",
    "        \n",
    "        print('Triangle created')\n",
    "\n",
    "    def draw(self):\n",
    "        print(f'Drawing triangle with sides = {self.a}, {self.b}, {self.c}')\n",
    "        \n",
    "    def area(self):\n",
    "        s = (self.a + self.b +self.c) / 2\n",
    "        return math.sqrt(s * (s - self.a) * (s - self.b) * (s - self.c))\n",
    "\n",
    "    def perimeter(self):\n",
    "        return self.a+self.b+self.c"
   ]
  },
  {
   "cell_type": "code",
   "execution_count": 26,
   "id": "d54aeff9",
   "metadata": {},
   "outputs": [
    {
     "name": "stdout",
     "output_type": "stream",
     "text": [
      "Shape created\n",
      "Triangle created\n",
      "43.30127018922193 30\n"
     ]
    }
   ],
   "source": [
    "tri = Triangle(10,10,10)\n",
    "print(tri.area(), tri.perimeter())"
   ]
  },
  {
   "cell_type": "code",
   "execution_count": 27,
   "id": "7333a7eb",
   "metadata": {},
   "outputs": [
    {
     "name": "stdout",
     "output_type": "stream",
     "text": [
      "150\n",
      "43.30127018922193\n"
     ]
    }
   ],
   "source": [
    "for any_shape in [rect, tri]:\n",
    "    print(any_shape.area())"
   ]
  },
  {
   "cell_type": "code",
   "execution_count": 28,
   "id": "d8f37743",
   "metadata": {},
   "outputs": [
    {
     "name": "stdout",
     "output_type": "stream",
     "text": [
      "2 (2,) <class 'tuple'>\n"
     ]
    }
   ],
   "source": [
    "x = 1\n",
    "y = (2,)\n",
    "\n",
    "x ,= y\n",
    "\n",
    "print(x,y, type(y))"
   ]
  },
  {
   "cell_type": "code",
   "execution_count": 7,
   "id": "c9f8b658",
   "metadata": {},
   "outputs": [],
   "source": [
    "class Animal:\n",
    "    def die(self):\n",
    "        print('bye-bye')\n",
    "        self.health = 0\n",
    "class Carnivour:\n",
    "    def hunt(self):\n",
    "        print('eating')\n",
    "        self.satiety = 100\n",
    "\n",
    "class Dog(Animal,Carnivour):\n",
    "    def bark(self):\n",
    "        print('woof-woof')\n",
    "    "
   ]
  },
  {
   "cell_type": "code",
   "execution_count": 8,
   "id": "7a99dac6",
   "metadata": {},
   "outputs": [
    {
     "name": "stdout",
     "output_type": "stream",
     "text": [
      "woof-woof\n",
      "eating\n",
      "bye-bye\n"
     ]
    }
   ],
   "source": [
    "dog = Dog()\n",
    "dog.bark()\n",
    "dog.hunt()\n",
    "dog.die()"
   ]
  },
  {
   "cell_type": "code",
   "execution_count": 9,
   "id": "d7aac8de",
   "metadata": {},
   "outputs": [],
   "source": [
    "class Animal:\n",
    "    def set_health(self,health):\n",
    "        print('set in animal')\n",
    "class Carnivour(Animal):\n",
    "    def set_health(self,health):\n",
    "        print('set in carnivour')\n",
    "class Mammal(Animal):\n",
    "    def set_health(self,health):\n",
    "        print('set in mammal')\n",
    "\n",
    "class Dog(Mammal, Carnivour): \n",
    "#class Dog(Carnivour, Mammal):\n",
    "    pass"
   ]
  },
  {
   "cell_type": "code",
   "execution_count": 10,
   "id": "ae13e262",
   "metadata": {},
   "outputs": [
    {
     "name": "stdout",
     "output_type": "stream",
     "text": [
      "set in mammal\n"
     ]
    }
   ],
   "source": [
    "dog = Dog()\n",
    "dog.set_health(10)"
   ]
  },
  {
   "cell_type": "code",
   "execution_count": 11,
   "id": "7c74c475",
   "metadata": {},
   "outputs": [],
   "source": [
    "class Animal:\n",
    "    def set_health(self,health):\n",
    "        print('set in animal')\n",
    "class Carnivour(Animal):\n",
    "    def set_health(self,health):\n",
    "        print('set in carnivour')\n",
    "class Mammal(Animal):\n",
    "    def set_health(self,health):\n",
    "        print('set in mammal')\n",
    "class Dog(Mammal, Carnivour):\n",
    "    def set_health(self,health):\n",
    "        Mammal.set_health(self, health)\n",
    "        Carnivour.set_health(self, health)\n",
    "        Animal.set_health(self, health)\n",
    "            \n",
    "        print('set in dog')"
   ]
  },
  {
   "cell_type": "code",
   "execution_count": 12,
   "id": "a63b906b",
   "metadata": {},
   "outputs": [
    {
     "name": "stdout",
     "output_type": "stream",
     "text": [
      "set in mammal\n",
      "set in carnivour\n",
      "set in animal\n",
      "set in dog\n"
     ]
    }
   ],
   "source": [
    "dog = Dog()\n",
    "dog.set_health(10)"
   ]
  },
  {
   "cell_type": "code",
   "execution_count": 37,
   "id": "03bf8b8d",
   "metadata": {},
   "outputs": [],
   "source": [
    "class Animal:\n",
    "    def set_health(self,health):\n",
    "        print('set in animal')\n",
    "class Carnivour(Animal):\n",
    "    def set_health(self,health):\n",
    "        super().set_health(health)\n",
    "#         Animal.set_health(self, health)\n",
    "        print('set in carnivour')\n",
    "class Mammal(Animal):\n",
    "    def set_health(self,health):\n",
    "      \n",
    "        super().set_health(health)\n",
    "#         Animal.set_health(self, health)\n",
    "        print('set in mammal')\n",
    "class Dog(Mammal, Carnivour):\n",
    "    def set_health(self,health):\n",
    "        super().set_health(health)\n",
    "#         Mammal.set_health(self, health)\n",
    "#         Carnivour.set_health(self, health)\n",
    "            \n",
    "        print('set in dog')"
   ]
  },
  {
   "cell_type": "code",
   "execution_count": 38,
   "id": "3dc6e43a",
   "metadata": {},
   "outputs": [
    {
     "name": "stdout",
     "output_type": "stream",
     "text": [
      "set in animal\n",
      "set in carnivour\n",
      "set in mammal\n",
      "set in dog\n"
     ]
    },
    {
     "data": {
      "text/plain": [
       "[__main__.Dog, __main__.Mammal, __main__.Carnivour, __main__.Animal, object]"
      ]
     },
     "execution_count": 38,
     "metadata": {},
     "output_type": "execute_result"
    }
   ],
   "source": [
    "dog = Dog()\n",
    "dog.set_health(10)\n",
    "Dog.mro()"
   ]
  },
  {
   "cell_type": "code",
   "execution_count": 35,
   "id": "fb5a27f2",
   "metadata": {},
   "outputs": [],
   "source": [
    "class Animal:\n",
    "    def __init__(self):\n",
    "        self.health = 100\n",
    "    def hit(self, damage):\n",
    "        self.health -= damage\n",
    "class Carnivour(Animal):\n",
    "    def __init__(self):\n",
    "        super().__init__() # very interesting\n",
    "        self.legs = 4"
   ]
  },
  {
   "cell_type": "code",
   "execution_count": 36,
   "id": "fb48e14e",
   "metadata": {},
   "outputs": [
    {
     "name": "stdout",
     "output_type": "stream",
     "text": [
      "90\n"
     ]
    }
   ],
   "source": [
    "c = Carnivour()\n",
    "c.hit(10)\n",
    "print(c.health)"
   ]
  },
  {
   "cell_type": "code",
   "execution_count": 19,
   "id": "02117faa",
   "metadata": {},
   "outputs": [],
   "source": [
    "class Vehicle:\n",
    "    def __init__(self, position):\n",
    "        self.position = position\n",
    "        \n",
    "    def travel(self, destination):\n",
    "        route = self.calculate_route(source = self.position, to = destination)# self.* !!! \n",
    "        self.move_along(route)\n",
    "        \n",
    "    def calculate_route(self, source, to):\n",
    "        return 0\n",
    "\n",
    "    def move_along(self,route):\n",
    "        print('moving')\n",
    "\n",
    "class Car(Vehicle):\n",
    "    pass\n",
    "\n",
    "class Airplane(Vehicle):\n",
    "    pass"
   ]
  },
  {
   "cell_type": "code",
   "execution_count": 20,
   "id": "24039bd5",
   "metadata": {},
   "outputs": [
    {
     "name": "stdout",
     "output_type": "stream",
     "text": [
      "moving\n"
     ]
    }
   ],
   "source": [
    "veh = Vehicle(100) #Did he even look there?!\n",
    "veh.travel(10)"
   ]
  },
  {
   "cell_type": "code",
   "execution_count": null,
   "id": "95cf1628",
   "metadata": {},
   "outputs": [],
   "source": [
    "class RadioMixin:\n",
    "    \n",
    "    def __init__(self):\n",
    "        self.radio = Radio()\n",
    "        \n",
    "    def turn_on(self, station):\n",
    "        self.radio.set_station(station)\n",
    "        self.radio.play()\n",
    "        \n",
    "class Radio:\n",
    "    def set_station(self,station):\n",
    "        self.station = station\n",
    "        \n",
    "    def play(self):\n",
    "        print(f'Playing {self.station}')\n",
    "              \n",
    "class Car(Vehicle, RadioMixin):\n",
    "    def __init__(self):\n",
    "        Vehicle.__init__(self,10)\n",
    "        RadioMixin.__init__(self)"
   ]
  },
  {
   "cell_type": "code",
   "execution_count": null,
   "id": "2c240e04",
   "metadata": {},
   "outputs": [],
   "source": [
    "car = Car()\n",
    "car.turn_on(\"Moscow FM\")\n",
    "car.travel(1)\n",
    "car.calculate_route(1,2)"
   ]
  },
  {
   "cell_type": "code",
   "execution_count": null,
   "id": "4be8428e",
   "metadata": {},
   "outputs": [],
   "source": [
    "class ToDictMixin():\n",
    "    def to_dict(self):\n",
    "        return self._traverse_dict(self.__dict__)\n",
    "    \n",
    "    def _traverse_dict(self, instance_dict):\n",
    "        output={}\n",
    "        for key,value in instanse_dict.items():\n",
    "            output[key] = self._traverse(key, value)\n",
    "        return output\n",
    "    def _traverse(self, key, value):\n",
    "        if isinstance(value, ToDictMixin):\n",
    "            return value.to_dict()\n",
    "        elif isinstance(value, dict):\n",
    "            return self._traverse_dict(value)\n",
    "        elif isinstance(value, list):\n",
    "            return [self._traverse(key, i) for i in value]\n",
    "        elif hasattr(value,'__dict__'):\n",
    "            return self._tarverse_dict(value.__dict__)\n",
    "        else:\n",
    "            return value"
   ]
  },
  {
   "cell_type": "code",
   "execution_count": 1,
   "id": "4286395f",
   "metadata": {},
   "outputs": [],
   "source": [
    "from abc import ABC\n",
    "from abc import abstractmethod"
   ]
  },
  {
   "cell_type": "code",
   "execution_count": 2,
   "id": "22f188b7",
   "metadata": {},
   "outputs": [],
   "source": [
    "class Shape(ABC):\n",
    "    def __init__(self):\n",
    "        super().__init__()\n",
    "        \n",
    "    @abstractmethod\n",
    "    def draw(self):\n",
    "        pass\n",
    "    @abstractmethod\n",
    "    def area(self):\n",
    "        pass\n",
    "    @abstractmethod\n",
    "    def perimeter(self):\n",
    "        print('calc perimeter')\n",
    "        # pass        \n",
    "    \n",
    "    def drag(self):\n",
    "        print('Basic dragging functionality')\n",
    "        "
   ]
  },
  {
   "cell_type": "code",
   "execution_count": 3,
   "id": "2bab742b",
   "metadata": {},
   "outputs": [
    {
     "ename": "TypeError",
     "evalue": "Can't instantiate abstract class Shape with abstract methods area, draw, perimeter",
     "output_type": "error",
     "traceback": [
      "\u001b[0;31m---------------------------------------------------------------------------\u001b[0m",
      "\u001b[0;31mTypeError\u001b[0m                                 Traceback (most recent call last)",
      "\u001b[0;32m<ipython-input-3-add4c52145cc>\u001b[0m in \u001b[0;36m<module>\u001b[0;34m\u001b[0m\n\u001b[0;32m----> 1\u001b[0;31m \u001b[0ms\u001b[0m \u001b[0;34m=\u001b[0m \u001b[0mShape\u001b[0m\u001b[0;34m(\u001b[0m\u001b[0;34m)\u001b[0m\u001b[0;34m\u001b[0m\u001b[0;34m\u001b[0m\u001b[0m\n\u001b[0m",
      "\u001b[0;31mTypeError\u001b[0m: Can't instantiate abstract class Shape with abstract methods area, draw, perimeter"
     ]
    }
   ],
   "source": [
    "s = Shape()\n"
   ]
  },
  {
   "cell_type": "code",
   "execution_count": 4,
   "id": "3654b360",
   "metadata": {},
   "outputs": [],
   "source": [
    "import math\n",
    "class Triangle(Shape):\n",
    "    \n",
    "    def __init__(self,a,b,c):\n",
    "        self.a = a\n",
    "        self.b = b\n",
    "        self.c = c\n",
    "    \n",
    "    def draw(self):\n",
    "        print(f'Drawing triangle with sides = {self.a}, {self.b}, {self.c}')\n",
    "    def area(self):\n",
    "        s = (self.a + self.b + self.c) / 2\n",
    "        return math.sqrt(s*(s-self.a)*(s-self.b)*(s-self.c))\n",
    "    \n",
    "    def perimeter(self):\n",
    "        super().perimeter()\n",
    "        return self.a + self.b + self.c\n",
    "    def drag(self):\n",
    "        super().drag()\n",
    "        print('Additional actions')"
   ]
  },
  {
   "cell_type": "code",
   "execution_count": 5,
   "id": "fa077390",
   "metadata": {},
   "outputs": [],
   "source": [
    "t = Triangle(10,10,10)"
   ]
  },
  {
   "cell_type": "code",
   "execution_count": 6,
   "id": "2bf3d92a",
   "metadata": {},
   "outputs": [
    {
     "name": "stdout",
     "output_type": "stream",
     "text": [
      "calc perimeter\n"
     ]
    },
    {
     "data": {
      "text/plain": [
       "30"
      ]
     },
     "execution_count": 6,
     "metadata": {},
     "output_type": "execute_result"
    }
   ],
   "source": [
    "t.perimeter()"
   ]
  },
  {
   "cell_type": "code",
   "execution_count": 7,
   "id": "6256bd93",
   "metadata": {},
   "outputs": [
    {
     "name": "stdout",
     "output_type": "stream",
     "text": [
      "Basic dragging functionality\n",
      "Additional actions\n"
     ]
    }
   ],
   "source": [
    "t.drag()"
   ]
  },
  {
   "cell_type": "code",
   "execution_count": 9,
   "id": "ab1c8cc4",
   "metadata": {},
   "outputs": [],
   "source": [
    "class Point():\n",
    "    def __init__(self, x, y):\n",
    "        self.x = x\n",
    "        self.y = y\n",
    "    def __str__(self):\n",
    "        return f'Point x={self.x}, y={self.y}'"
   ]
  },
  {
   "cell_type": "code",
   "execution_count": 10,
   "id": "5d30c14d",
   "metadata": {},
   "outputs": [
    {
     "name": "stdout",
     "output_type": "stream",
     "text": [
      "Point x=3, y=4\n"
     ]
    }
   ],
   "source": [
    "p = Point(3,4)\n",
    "print(p)"
   ]
  },
  {
   "cell_type": "code",
   "execution_count": 11,
   "id": "fa1da056",
   "metadata": {},
   "outputs": [],
   "source": [
    "class Road():\n",
    "    def __init__(self,length):\n",
    "        self.length = length\n",
    "        \n",
    "    def __len__(self):\n",
    "        return self.length\n",
    "\n",
    "    def __str__(self):\n",
    "        return f'A road length:{self.length}'\n",
    "    def __del__(self):\n",
    "        print('The road has been destroyed')"
   ]
  },
  {
   "cell_type": "code",
   "execution_count": 12,
   "id": "6beab73f",
   "metadata": {},
   "outputs": [
    {
     "name": "stdout",
     "output_type": "stream",
     "text": [
      "A road length:100\n",
      "The road has been destroyed\n"
     ]
    }
   ],
   "source": [
    "r = Road(100)\n",
    "print(r)\n",
    "del(r)\n"
   ]
  },
  {
   "cell_type": "code",
   "execution_count": 13,
   "id": "b7725d31",
   "metadata": {},
   "outputs": [
    {
     "data": {
      "text/plain": [
       "'John Smith'"
      ]
     },
     "execution_count": 13,
     "metadata": {},
     "output_type": "execute_result"
    }
   ],
   "source": [
    "class Name():\n",
    "\n",
    "    def __init__(self, first_name, last_name):\n",
    "        self.first_name = first_name.capitalize()\n",
    "        self.last_name = last_name.capitalize()\n",
    "        self.full_name = f'{self.first_name} {self.last_name}'\n",
    "        self.initials = f'{self.first_name[0]}.{self.last_name[0]}'\n",
    "\n",
    "    #def full_name(self):\n",
    "    #    return f'{self.first_name} {self.last_name}'\n",
    "    \n",
    "   # def initials(self):\n",
    "   #     return f'{self.first_name[0]}.{self.last_name[0]}'\n",
    "    \n",
    "n = Name('JOHN','smiTh')\n",
    "n.full_name"
   ]
  },
  {
   "cell_type": "code",
   "execution_count": 17,
   "id": "ade1a6ec",
   "metadata": {},
   "outputs": [
    {
     "name": "stdout",
     "output_type": "stream",
     "text": [
      "5\n"
     ]
    },
    {
     "data": {
      "text/plain": [
       "1.0"
      ]
     },
     "execution_count": 17,
     "metadata": {},
     "output_type": "execute_result"
    }
   ],
   "source": [
    "class Calculator:\n",
    "    def add(self,x,y):\n",
    "        return x + y\n",
    "    def subtract(self,x,y):\n",
    "        return x - y\n",
    "    def multiply(self,x,y):\n",
    "        return x * y\n",
    "    def divide(self,x,y):\n",
    "        return x / y\n",
    "    \n",
    "c=Calculator()\n",
    "print(c.add(3,2))\n",
    "c.subtract(10,3)\n",
    "#c.multiply(21,21)\n",
    "#c.divide(10,10)"
   ]
  },
  {
   "cell_type": "code",
   "execution_count": 18,
   "id": "b0a01709",
   "metadata": {},
   "outputs": [],
   "source": [
    "class Employee:\n",
    "    def __init__(self, first_name, last_name, salary):\n",
    "        self.first_name = first_name\n",
    "        self.last_name = last_name\n",
    "        self.salary = salary\n",
    "    def from_string(string):\n",
    "        return Employee(*string.split('-'))"
   ]
  },
  {
   "cell_type": "code",
   "execution_count": 21,
   "id": "119cac57",
   "metadata": {},
   "outputs": [
    {
     "data": {
      "text/plain": [
       "'Mary'"
      ]
     },
     "execution_count": 21,
     "metadata": {},
     "output_type": "execute_result"
    }
   ],
   "source": [
    "emp1 = Employee('Mary', 'Sue', 60000)\n",
    "emp2=Employee.from_string('John-Smith-55000')\n",
    "emp2.first_name\n",
    "emp1.first_name"
   ]
  },
  {
   "cell_type": "code",
   "execution_count": null,
   "id": "56bd2ec4",
   "metadata": {},
   "outputs": [],
   "source": [
    "class Employee:\n",
    "    def __init__(self, first_name, last_name, salary):\n",
    "        self.first_name = first_name\n",
    "        self.last_name = last_name\n",
    "        self.salary = salary\n",
    "    def from_string(string):\n",
    "        tmp=string.split('-')\n",
    "        return Employee(tmp[0],tmp[1],int(tmp[2]))"
   ]
  },
  {
   "cell_type": "code",
   "execution_count": null,
   "id": "fb46c176",
   "metadata": {},
   "outputs": [],
   "source": [
    "emp1 = Employee('Mary', 'Sue', 60000)\n",
    "emp2=Employee.from_string('John-Smith-55000')\n",
    "emp2.salary"
   ]
  },
  {
   "cell_type": "code",
   "execution_count": null,
   "id": "a9cb724c",
   "metadata": {},
   "outputs": [],
   "source": [
    "class Employee:\n",
    "    def __init__(self, first_name, last_name, salary):\n",
    "        self.first_name = first_name\n",
    "        self.last_name = last_name\n",
    "        self.salary = salary\n",
    "    @classmethod\n",
    "    def from_string(cls,str_to_parse):\n",
    "        data = str_to_parse.split('-')\n",
    "        return cls(data[0],data[1],int(data[2]))\n",
    "\n",
    "    emp1 = Employee('Mary', 'Sue', 60000)\n",
    "emp2=Employee.from_string('John-Smith-55000')\n",
    "emp2.salary\n",
    "        "
   ]
  },
  {
   "cell_type": "code",
   "execution_count": null,
   "id": "f0041e32",
   "metadata": {},
   "outputs": [],
   "source": [
    "class Pizza():\n",
    "    order_number = 0\n",
    "    def __init__(self, ingredients):\n",
    "        self.ingredients = ingredients\n",
    "        self.order_number = Pizza.order_number +1\n",
    "        Pizza.order_number += 1\n",
    "    def hawaiian():\n",
    "        return Pizza(['ham','pineapple'])\n",
    "    def meat_festival():\n",
    "        return Pizza(['beef', 'meatball', 'bacon'])\n",
    "    def garden_feast():\n",
    "        return Pizza(['spinach', 'olives', 'mushroom'])\n",
    "    \n",
    "p1 = Pizza(['bacon','parmesan','ham'])\n",
    "p2 = Pizza.garden_feast()\n",
    "p3 = Pizza.hawaiian()\n",
    "print(p1.ingredients)\n",
    "print(p2.ingredients)\n",
    "print(p3.ingredients)\n",
    "print(p1.order_number)\n",
    "print(p2.order_number)\n",
    "        "
   ]
  },
  {
   "cell_type": "code",
   "execution_count": null,
   "id": "b8b7992a",
   "metadata": {},
   "outputs": [],
   "source": [
    "class Pizza():\n",
    "    order_number = 0\n",
    "    def __init__(self, ingredients):\n",
    "        Pizza.order_number += 1\n",
    "        self.ingredients = ingredients\n",
    "        self.order_number = Pizza.order_number\n",
    "    @classmethod    \n",
    "    def hawaiian(cls):\n",
    "        return cls(['ham','pineapple'])\n",
    "    @classmethod\n",
    "    def meat_festival(cls):\n",
    "        return cls(['beef', 'meatball', 'bacon'])\n",
    "    @classmethod\n",
    "    def garden_feast(cls):\n",
    "        return cls(['spinach', 'olives', 'mushroom'])\n",
    "    \n",
    "p1 = Pizza(['bacon','parmesan','ham'])\n",
    "p2 = Pizza.garden_feast()\n",
    "p3 = Pizza.hawaiian()\n",
    "print(p1.ingredients)\n",
    "print(p2.ingredients)\n",
    "print(p3.ingredients)\n",
    "print(p1.order_number)\n",
    "print(p2.order_number)\n",
    "print(Pizza.order_number)"
   ]
  },
  {
   "cell_type": "code",
   "execution_count": null,
   "id": "e7d79551",
   "metadata": {},
   "outputs": [],
   "source": [
    "import math\n",
    "class Circle:\n",
    "    def __init__(self, r):\n",
    "        self.r = r\n",
    "    def get_area(self):\n",
    "        return math.pi*(self.r**2)\n",
    "    def get_perimeter(self):\n",
    "        return 2 * math.pi * self.r"
   ]
  },
  {
   "cell_type": "code",
   "execution_count": null,
   "id": "d8005b43",
   "metadata": {},
   "outputs": [],
   "source": [
    "c=Circle(4.44)\n",
    "print(c.get_area())\n",
    "print(c.get_perimeter())"
   ]
  },
  {
   "cell_type": "code",
   "execution_count": 22,
   "id": "f823363b",
   "metadata": {},
   "outputs": [
    {
     "name": "stdout",
     "output_type": "stream",
     "text": [
      "['Strawberries', 'Apple', 'Blueberries'] || ['Banana']\n",
      "$4.25 || $0.50\n",
      "$10.62 || $1.25\n",
      "Apple Blueberry Strawberry Fusion || Banana Smoothie\n"
     ]
    }
   ],
   "source": [
    "prices = {\"Strawberries\" : 1.5, \"Banana\" : 0.5, \"Mango\" : 2.5,\n",
    "        \"Blueberries\" : 1, \"Raspberries\" : 1, \"Apple\" : 1.75,\n",
    "        \"Pineapple\" : 3.5}\n",
    "class Beverage:\n",
    "    def __init__(self,ingredients):\n",
    "        self.ingredients = ingredients\n",
    "    def get_cost(self):\n",
    "        cost =sum(prices[x] for x in self.ingredients)\n",
    "        return f'${cost:1.2f}'\n",
    "    def get_price(self):\n",
    "        price = sum(prices[x] for x in self.ingredients)*2.5\n",
    "        return f'${price:1.2f}'\n",
    "    def get_name(self):\n",
    "        n = len(self.ingredients)\n",
    "        mix=[]\n",
    "        for i in self.ingredients:\n",
    "            if i[-7:] == 'berries':\n",
    "                mix.append(i[:-7] + 'berry')\n",
    "            else:\n",
    "                mix.append(i)        \n",
    "        if n > 1:\n",
    "            return ' '.join(sorted(mix)) + ' Fusion'\n",
    "        else:\n",
    "            return ' '.join(mix) + ' Smoothie'\n",
    "       \n",
    "    \n",
    "c1 = Beverage([\"Strawberries\", \"Apple\", \"Blueberries\"])\n",
    "c2 = Beverage([\"Banana\"])\n",
    "print(c1.ingredients,'||',c2.ingredients)\n",
    "print(c1.get_cost(),'||',c2.get_cost())\n",
    "print(c1.get_price(),'||',c2.get_price())\n",
    "print(c1.get_name(),'||',c2.get_name())"
   ]
  },
  {
   "cell_type": "code",
   "execution_count": 23,
   "id": "995b5ce8",
   "metadata": {},
   "outputs": [
    {
     "name": "stdout",
     "output_type": "stream",
     "text": [
      "['Strawberries', 'Apple', 'Blueberries'] || ['Banana']\n",
      "$4.25 || $0.50\n",
      "$10.62 || $1.25\n",
      "Apple Blueberry Strawberry Fusion || Banana Smothie\n"
     ]
    }
   ],
   "source": [
    "prices = {\"Strawberries\" : 1.5, \"Banana\" : 0.5, \"Mango\" : 2.5,\n",
    "        \"Blueberries\" : 1, \"Raspberries\" : 1, \"Apple\" : 1.75,\n",
    "        \"Pineapple\" : 3.5}\n",
    "class Beverage:\n",
    "    def __init__(self, ingredients):\n",
    "        self.ingredients = ingredients\n",
    "        self.cost = sum(prices[fruit] for fruit in self.ingredients)\n",
    "        self.price = self.cost * 2.5\n",
    "        \n",
    "    def get_cost(self):\n",
    "        return f'${self.cost:.2f}'\n",
    "    def get_price(self):\n",
    "        return f'${self.price:.2f}'\n",
    "    \n",
    "    def get_name(self):\n",
    "        lst = sorted([i.replace('ies','y') for i in self.ingredients])\n",
    "        return f'{\" \".join(lst)} {\"Fusion\" if len(lst) > 1 else \"Smothie\"}'\n",
    "    \n",
    "c1 = Beverage([\"Strawberries\", \"Apple\", \"Blueberries\"])\n",
    "c2 = Beverage([\"Banana\"])\n",
    "print(c1.ingredients,'||',c2.ingredients)\n",
    "print(c1.get_cost(),'||',c2.get_cost())\n",
    "print(c1.get_price(),'||',c2.get_price())\n",
    "print(c1.get_name(),'||',c2.get_name())"
   ]
  },
  {
   "cell_type": "code",
   "execution_count": 24,
   "id": "4ab033a0",
   "metadata": {},
   "outputs": [
    {
     "name": "stdout",
     "output_type": "stream",
     "text": [
      "{0, 3, 5, 7}\n"
     ]
    },
    {
     "data": {
      "text/plain": [
       "0"
      ]
     },
     "execution_count": 24,
     "metadata": {},
     "output_type": "execute_result"
    }
   ],
   "source": [
    "def victory(player_set):\n",
    "    victory_set = [{0,1,2}, {3,4,5}, {6,7,8},\n",
    "                   {0,3,6}, {1,4,7}, {2,5,8},\n",
    "                   {0,4,8}, {2,4,6}]\n",
    "    print(player_set)\n",
    "    if any(x.issubset(player_set) for x in victory_set):\n",
    "        return 1\n",
    "    else:\n",
    "        return 0\n",
    "    \n",
    "victory({0,3,7,5})"
   ]
  },
  {
   "cell_type": "code",
   "execution_count": 25,
   "id": "d7cfc5b0",
   "metadata": {},
   "outputs": [
    {
     "data": {
      "text/plain": [
       "{1, 2, 3, 4}"
      ]
     },
     "execution_count": 25,
     "metadata": {},
     "output_type": "execute_result"
    }
   ],
   "source": [
    "s = {1,2,3}\n",
    "s.add(4)\n",
    "s"
   ]
  },
  {
   "cell_type": "code",
   "execution_count": 26,
   "id": "0b9b431a",
   "metadata": {},
   "outputs": [
    {
     "data": {
      "text/plain": [
       "set"
      ]
     },
     "execution_count": 26,
     "metadata": {},
     "output_type": "execute_result"
    }
   ],
   "source": [
    "l = ({1,3,4,5,7,6},{4,5,6})\n",
    "type(l[1])"
   ]
  },
  {
   "cell_type": "code",
   "execution_count": 27,
   "id": "445d833e",
   "metadata": {},
   "outputs": [
    {
     "data": {
      "text/plain": [
       "True"
      ]
     },
     "execution_count": 27,
     "metadata": {},
     "output_type": "execute_result"
    }
   ],
   "source": [
    "l[1].issubset(l[0])"
   ]
  },
  {
   "cell_type": "code",
   "execution_count": 28,
   "id": "1d734e16",
   "metadata": {},
   "outputs": [
    {
     "data": {
      "text/plain": [
       "set"
      ]
     },
     "execution_count": 28,
     "metadata": {},
     "output_type": "execute_result"
    }
   ],
   "source": [
    "x_set =set()\n",
    "type(x_set)"
   ]
  },
  {
   "cell_type": "code",
   "execution_count": null,
   "id": "97c40446",
   "metadata": {},
   "outputs": [],
   "source": [
    "from IPython.display import clear_output\n",
    "import time\n",
    "\n",
    "game_map = ['*','*','*','*','*','*','*','*','*']\n",
    "free_cells = 9\n",
    "player_turn = 'X'\n",
    "x_set =set()\n",
    "o_set =set()\n",
    "\n",
    "def can_set(cell_index):\n",
    "    return cell_index>=0 and cell_index<=8 and game_map[cell_index] == '*'\n",
    "\n",
    "def victory(player_set):\n",
    "    victory_set = [{0,1,2}, {3,4,5}, {6,7,8},\n",
    "                   {0,3,6}, {1,4,7}, {2,5,8},\n",
    "                   {0,4,8}, {2,4,6}]\n",
    "    if any(x.issubset(player_set) for x in victory_set):\n",
    "        return True\n",
    "    else:\n",
    "        return False\n",
    "    \n",
    "def end_of_game(free_cells):\n",
    "    return free_cells==0\n",
    "\n",
    "def switch_player_turn(turn):\n",
    "    return 'X' if player_turn == 'O' else 'O'\n",
    "\n",
    "    \n",
    "while not end_of_game(free_cells):\n",
    "    clear_output()\n",
    "    print(f'Set {player_turn}\\n')\n",
    "    print(f'{game_map[0]} | {game_map[1]} | {game_map[2]}\\n{game_map[3]} | {game_map[4]} | {game_map[5]}\\n{game_map[6]} | {game_map[7]} | {game_map[8]}')\n",
    "    print('\\n')\n",
    "    cell_index = int(input('Enter cell index: '))\n",
    "    if can_set(cell_index):\n",
    "        game_map[cell_index] = player_turn\n",
    "        free_cells -= 1\n",
    "        if player_turn=='X':\n",
    "            x_set.add(cell_index)\n",
    "            if victory(x_set):\n",
    "                print('X wins')\n",
    "                break\n",
    "        else:\n",
    "            o_set.add(cell_index)\n",
    "            if victory(o_set):\n",
    "                print('O wins')\n",
    "                break\n",
    "                \n",
    "    else:\n",
    "        clear_output()\n",
    "        print('Something is wrong, try again!',cell_index)\n",
    "        time.sleep(1)\n",
    "        continue\n",
    "    player_turn = switch_player_turn(player_turn)"
   ]
  },
  {
   "cell_type": "code",
   "execution_count": 29,
   "id": "4da0600c",
   "metadata": {},
   "outputs": [
    {
     "data": {
      "text/plain": [
       "False"
      ]
     },
     "execution_count": 29,
     "metadata": {},
     "output_type": "execute_result"
    }
   ],
   "source": [
    "(0,1,2)==(1,2,0)"
   ]
  },
  {
   "cell_type": "code",
   "execution_count": null,
   "id": "1ab6d7db",
   "metadata": {},
   "outputs": [],
   "source": [
    "import math\n",
    "from abc import ABC\n",
    "from abc import abstractmethod"
   ]
  },
  {
   "cell_type": "code",
   "execution_count": null,
   "id": "27d33145",
   "metadata": {},
   "outputs": [],
   "source": [
    "class Shape(ABC):\n",
    "    \n",
    "    def __init__(self):\n",
    "        super().__init__()\n",
    "    \n",
    "    @abstractmethod\n",
    "    def draw(self):\n",
    "        pass\n",
    "    \n",
    "    @abstractmethod\n",
    "    def area(self):\n",
    "        pass\n",
    "    @abstractmethod\n",
    "    def perimeter(self):\n",
    "        print('Calc perimeter')\n",
    "    \n",
    "    def drag(self):\n",
    "        print('Basic dragging functionality')\n",
    "    "
   ]
  },
  {
   "cell_type": "code",
   "execution_count": null,
   "id": "8be7dcca",
   "metadata": {},
   "outputs": [],
   "source": [
    "class Triangle(Shape):\n",
    "    def __init__(self, a, b, c):\n",
    "        self.a = a\n",
    "        self.b = b\n",
    "        self.c = c\n",
    "    def draw(self):\n",
    "        print(f'Drawing triangle with sides = {self.a}, {self.b}, {self.c}')\n",
    "    def area(self):\n",
    "        s = (self.a + self.b + self.c) / 2\n",
    "        return math.sqrt(s*(s - self.a)*(s-self.b)*(s-self.c))\n",
    "    def perimeter(self):\n",
    "        super().perimeter()\n",
    "        return self.a + self.b + self.c\n",
    "    def drag(self):\n",
    "        super().drag()\n",
    "        print('Aditional actions')"
   ]
  },
  {
   "cell_type": "code",
   "execution_count": null,
   "id": "53024652",
   "metadata": {},
   "outputs": [],
   "source": [
    "t = Triangle(10,10,10)\n",
    "print(t.perimeter())\n",
    "t.area()\n",
    "t.drag()"
   ]
  },
  {
   "cell_type": "code",
   "execution_count": 30,
   "id": "03f34ca5",
   "metadata": {},
   "outputs": [],
   "source": [
    "import pdb"
   ]
  },
  {
   "cell_type": "code",
   "execution_count": 33,
   "id": "16c88bb4",
   "metadata": {},
   "outputs": [
    {
     "name": "stdout",
     "output_type": "stream",
     "text": [
      "--Return--\n",
      "None\n",
      "> \u001b[0;32m<ipython-input-33-0768be209e5b>\u001b[0m(4)\u001b[0;36m<module>\u001b[0;34m()\u001b[0m\n",
      "\u001b[0;32m      2 \u001b[0;31m\u001b[0my\u001b[0m \u001b[0;34m=\u001b[0m \u001b[0;36m2\u001b[0m\u001b[0;34m\u001b[0m\u001b[0;34m\u001b[0m\u001b[0m\n",
      "\u001b[0m\u001b[0;32m      3 \u001b[0;31m\u001b[0;34m\u001b[0m\u001b[0m\n",
      "\u001b[0m\u001b[0;32m----> 4 \u001b[0;31m\u001b[0mpdb\u001b[0m\u001b[0;34m.\u001b[0m\u001b[0mset_trace\u001b[0m\u001b[0;34m(\u001b[0m\u001b[0;34m)\u001b[0m\u001b[0;34m\u001b[0m\u001b[0;34m\u001b[0m\u001b[0m\n",
      "\u001b[0m\u001b[0;32m      5 \u001b[0;31m\u001b[0;34m\u001b[0m\u001b[0m\n",
      "\u001b[0m\u001b[0;32m      6 \u001b[0;31m\u001b[0mz\u001b[0m \u001b[0;34m=\u001b[0m \u001b[0;36m3\u001b[0m\u001b[0;34m\u001b[0m\u001b[0;34m\u001b[0m\u001b[0m\n",
      "\u001b[0m\n",
      "ipdb> b\n",
      "ipdb> x\n",
      "1\n",
      "ipdb> y\n",
      "2\n",
      "ipdb> c\n",
      "--Return--\n",
      "None\n",
      "> \u001b[0;32m<ipython-input-33-0768be209e5b>\u001b[0m(9)\u001b[0;36m<module>\u001b[0;34m()\u001b[0m\n",
      "\u001b[0;32m      7 \u001b[0;31m\u001b[0mx\u001b[0m \u001b[0;34m+=\u001b[0m \u001b[0;36m1\u001b[0m\u001b[0;34m\u001b[0m\u001b[0;34m\u001b[0m\u001b[0m\n",
      "\u001b[0m\u001b[0;32m      8 \u001b[0;31m\u001b[0;34m\u001b[0m\u001b[0m\n",
      "\u001b[0m\u001b[0;32m----> 9 \u001b[0;31m\u001b[0mpdb\u001b[0m\u001b[0;34m.\u001b[0m\u001b[0mset_trace\u001b[0m\u001b[0;34m(\u001b[0m\u001b[0;34m)\u001b[0m\u001b[0;34m\u001b[0m\u001b[0;34m\u001b[0m\u001b[0m\n",
      "\u001b[0m\u001b[0;32m     10 \u001b[0;31m\u001b[0;34m\u001b[0m\u001b[0m\n",
      "\u001b[0m\u001b[0;32m     11 \u001b[0;31m\u001b[0mprint\u001b[0m\u001b[0;34m(\u001b[0m\u001b[0;34m'Finish!'\u001b[0m\u001b[0;34m)\u001b[0m\u001b[0;34m\u001b[0m\u001b[0;34m\u001b[0m\u001b[0m\n",
      "\u001b[0m\n",
      "ipdb> z\n",
      "3\n",
      "ipdb> c\n",
      "Finish!\n"
     ]
    }
   ],
   "source": [
    "x = 1\n",
    "y = 2\n",
    "\n",
    "pdb.set_trace()\n",
    "\n",
    "z = 3\n",
    "x += 1\n",
    "\n",
    "pdb.set_trace()\n",
    "\n",
    "print('Finish!')"
   ]
  },
  {
   "cell_type": "code",
   "execution_count": null,
   "id": "93757f43",
   "metadata": {},
   "outputs": [],
   "source": [
    "class MyStack:\n",
    "    \n",
    "    def __init__(self):\n",
    "        self.array = []\n",
    "        \n",
    "    def push(self,item):\n",
    "        self.array.append(item)\n",
    "        \n",
    "    def pop(self):\n",
    "        popped_item = self.array.pop()\n",
    "        return popped_item\n",
    "    \n",
    "    def peek(self):\n",
    "        return self.__current()\n",
    "    \n",
    "    def __current(self):\n",
    "        return self.array[self.count()-1]\n",
    "        \n",
    "    def count(self):\n",
    "        return len(self.array)\n",
    "    \n",
    "    def __iter__(self):\n",
    "        self.index = self.count() - 1\n",
    "        return self\n",
    "    def __next__(self):\n",
    "        if self.index < 0:\n",
    "            raise StopIteration()\n",
    "        result = self.array[self.index]\n",
    "        self.index -= 1\n",
    "        return result\n",
    "    "
   ]
  },
  {
   "cell_type": "code",
   "execution_count": null,
   "id": "300e6b79",
   "metadata": {},
   "outputs": [],
   "source": [
    "stack = MyStack()"
   ]
  },
  {
   "cell_type": "code",
   "execution_count": null,
   "id": "2049fbae",
   "metadata": {},
   "outputs": [],
   "source": [
    "stack.push(1)\n",
    "stack.push(2)\n",
    "stack.push(3)"
   ]
  },
  {
   "cell_type": "code",
   "execution_count": null,
   "id": "43344874",
   "metadata": {},
   "outputs": [],
   "source": [
    "stack.pop()"
   ]
  },
  {
   "cell_type": "code",
   "execution_count": null,
   "id": "8a61d0ea",
   "metadata": {},
   "outputs": [],
   "source": [
    "stack.peek()"
   ]
  },
  {
   "cell_type": "code",
   "execution_count": null,
   "id": "a2949beb",
   "metadata": {},
   "outputs": [],
   "source": [
    "stack.count()"
   ]
  },
  {
   "cell_type": "code",
   "execution_count": null,
   "id": "6d28c1cf",
   "metadata": {},
   "outputs": [],
   "source": [
    "stack.push(4)\n",
    "stack.push(5)\n",
    "stack.push(6)"
   ]
  },
  {
   "cell_type": "code",
   "execution_count": null,
   "id": "4d910e05",
   "metadata": {},
   "outputs": [],
   "source": [
    "for i in stack:\n",
    "    print(i)"
   ]
  },
  {
   "cell_type": "code",
   "execution_count": null,
   "id": "c6f84139",
   "metadata": {},
   "outputs": [],
   "source": []
  }
 ],
 "metadata": {
  "kernelspec": {
   "display_name": "Python 3",
   "language": "python",
   "name": "python3"
  },
  "language_info": {
   "codemirror_mode": {
    "name": "ipython",
    "version": 3
   },
   "file_extension": ".py",
   "mimetype": "text/x-python",
   "name": "python",
   "nbconvert_exporter": "python",
   "pygments_lexer": "ipython3",
   "version": "3.8.8"
  }
 },
 "nbformat": 4,
 "nbformat_minor": 5
}
