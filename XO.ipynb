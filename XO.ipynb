{
 "cells": [
  {
   "cell_type": "code",
   "execution_count": 35,
   "id": "7d32002e",
   "metadata": {},
   "outputs": [],
   "source": [
    "from IPython.display import clear_output"
   ]
  },
  {
   "cell_type": "code",
   "execution_count": 36,
   "id": "ecc8d5fb",
   "metadata": {},
   "outputs": [],
   "source": [
    "board = [' ',' ',' ',' ',' ',' ',' ',' ',' ']"
   ]
  },
  {
   "cell_type": "code",
   "execution_count": 37,
   "id": "54a6b87f",
   "metadata": {},
   "outputs": [],
   "source": [
    "def print_state(state):\n",
    "    for i, c in enumerate(state):\n",
    "        if (i+1)%3 == 0:\n",
    "            print(f'{c}')\n",
    "        else:\n",
    "            print(f'{c}|', end = '')"
   ]
  },
  {
   "cell_type": "code",
   "execution_count": 38,
   "id": "6415b5a8",
   "metadata": {},
   "outputs": [],
   "source": [
    "def is_number(digit):\n",
    "    try:\n",
    "        int(digit)\n",
    "        return True\n",
    "    except ValueError:\n",
    "        return False"
   ]
  },
  {
   "cell_type": "code",
   "execution_count": 39,
   "id": "30328123",
   "metadata": {},
   "outputs": [],
   "source": [
    "def game_interface(state,sign):\n",
    "    while True:\n",
    "        player_choise = input(f'Where you want to draw {sign}?')\n",
    "        if is_number(player_choise):\n",
    "            player_choise = int(player_choise)\n",
    "            if player_choise >= 0 and player_choise <= 8 and state[player_choise] == ' ':\n",
    "                break\n",
    "            else:\n",
    "                print('Something is wrong, please try again!')\n",
    "                continue\n",
    "        else:\n",
    "            print('No strings!')\n",
    "        \n",
    "    return player_choise"
   ]
  },
  {
   "cell_type": "code",
   "execution_count": 40,
   "id": "e6a80c14",
   "metadata": {},
   "outputs": [],
   "source": [
    "winning_combinations = [(0,1,2), (3,4,5), (6,7,8),\n",
    "                        (0,3,6), (1,4,7), (2,5,8),\n",
    "                        (0,4,8), (2,4,6)]"
   ]
  },
  {
   "cell_type": "code",
   "execution_count": 41,
   "id": "6f67456c",
   "metadata": {},
   "outputs": [],
   "source": [
    "def get_winner(state, combinations):\n",
    "    for (x,y,z) in combinations:\n",
    "        if state[x] == state[y] and state[y] == state[z] and (state[x] == 'X' or state[x] == 'O'):\n",
    "            return state[x]\n",
    "    return ''    "
   ]
  },
  {
   "cell_type": "code",
   "execution_count": 42,
   "id": "a978f8f6",
   "metadata": {},
   "outputs": [],
   "source": [
    "def play_game(board):\n",
    "    \n",
    "    current_sign = 'X'\n",
    "    while(get_winner(board,winning_combinations) ==''):\n",
    "        print_state(board)\n",
    "        index = game_interface(board,current_sign)#int(input(f'Where you want to draw {current_sign}?'))\n",
    "        board[index] = current_sign\n",
    "        \n",
    "        clear_output()\n",
    "        winner_sign = get_winner(board,winning_combinations)\n",
    "        if winner_sign != '':\n",
    "            print(f'We have a winner:{winner_sign}')\n",
    "        \n",
    "        current_sign = 'X' if current_sign == 'O' else 'O'"
   ]
  },
  {
   "cell_type": "code",
   "execution_count": 43,
   "id": "4d92e070",
   "metadata": {},
   "outputs": [
    {
     "name": "stdout",
     "output_type": "stream",
     "text": [
      "We have a winner:X\n"
     ]
    }
   ],
   "source": [
    "play_game(board)"
   ]
  },
  {
   "cell_type": "code",
   "execution_count": 48,
   "id": "5c0d941b",
   "metadata": {},
   "outputs": [
    {
     "ename": "SyntaxError",
     "evalue": "positional argument follows keyword argument (<ipython-input-48-ed30515e1920>, line 3)",
     "output_type": "error",
     "traceback": [
      "\u001b[0;36m  File \u001b[0;32m\"<ipython-input-48-ed30515e1920>\"\u001b[0;36m, line \u001b[0;32m3\u001b[0m\n\u001b[0;31m    print(f(par2=1,2))\u001b[0m\n\u001b[0m                   ^\u001b[0m\n\u001b[0;31mSyntaxError\u001b[0m\u001b[0;31m:\u001b[0m positional argument follows keyword argument\n"
     ]
    }
   ],
   "source": []
  },
  {
   "cell_type": "code",
   "execution_count": null,
   "id": "4f36e4e3",
   "metadata": {},
   "outputs": [],
   "source": []
  }
 ],
 "metadata": {
  "kernelspec": {
   "display_name": "Python 3",
   "language": "python",
   "name": "python3"
  },
  "language_info": {
   "codemirror_mode": {
    "name": "ipython",
    "version": 3
   },
   "file_extension": ".py",
   "mimetype": "text/x-python",
   "name": "python",
   "nbconvert_exporter": "python",
   "pygments_lexer": "ipython3",
   "version": "3.8.8"
  }
 },
 "nbformat": 4,
 "nbformat_minor": 5
}
