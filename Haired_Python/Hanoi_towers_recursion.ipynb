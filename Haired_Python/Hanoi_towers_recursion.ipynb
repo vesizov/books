{
 "cells": [
  {
   "cell_type": "code",
   "execution_count": 1,
   "id": "2f4932da",
   "metadata": {},
   "outputs": [],
   "source": [
    "def move(f,t):\n",
    "    print(f'Move disk from {f} to {t}')"
   ]
  },
  {
   "cell_type": "code",
   "execution_count": 2,
   "id": "008909cc",
   "metadata": {},
   "outputs": [
    {
     "name": "stdout",
     "output_type": "stream",
     "text": [
      "Move disk from A to B\n"
     ]
    }
   ],
   "source": [
    "move('A','B')"
   ]
  },
  {
   "cell_type": "code",
   "execution_count": 8,
   "id": "9daf34f9",
   "metadata": {},
   "outputs": [],
   "source": [
    "def moveVia(f,v,t):\n",
    "    move(f,v)\n",
    "    move(v,t)"
   ]
  },
  {
   "cell_type": "code",
   "execution_count": 10,
   "id": "f9133184",
   "metadata": {},
   "outputs": [
    {
     "name": "stdout",
     "output_type": "stream",
     "text": [
      "Move disk from A to B\n",
      "Move disk from B to C\n"
     ]
    }
   ],
   "source": [
    "moveVia('A','B','C')"
   ]
  },
  {
   "cell_type": "code",
   "execution_count": 48,
   "id": "0ab38081",
   "metadata": {},
   "outputs": [],
   "source": [
    "def hanoi(number, a, b, c):\n",
    "    if number == 0:\n",
    "        pass\n",
    "    else:\n",
    "        hanoi(number-1,a, c, b)\n",
    "        move(a,c)\n",
    "        print(number)\n",
    "        hanoi(number-1, b, a, c)"
   ]
  },
  {
   "cell_type": "code",
   "execution_count": 49,
   "id": "b544f50f",
   "metadata": {},
   "outputs": [
    {
     "name": "stdout",
     "output_type": "stream",
     "text": [
      "Move disk from A to B\n",
      "1\n",
      "Move disk from A to C\n",
      "2\n",
      "Move disk from B to C\n",
      "1\n"
     ]
    }
   ],
   "source": [
    "hanoi(2,'A','B','C')"
   ]
  },
  {
   "cell_type": "code",
   "execution_count": null,
   "id": "e06816f3",
   "metadata": {},
   "outputs": [],
   "source": []
  }
 ],
 "metadata": {
  "kernelspec": {
   "display_name": "Python 3",
   "language": "python",
   "name": "python3"
  },
  "language_info": {
   "codemirror_mode": {
    "name": "ipython",
    "version": 3
   },
   "file_extension": ".py",
   "mimetype": "text/x-python",
   "name": "python",
   "nbconvert_exporter": "python",
   "pygments_lexer": "ipython3",
   "version": "3.8.8"
  }
 },
 "nbformat": 4,
 "nbformat_minor": 5
}
