{
 "cells": [
  {
   "cell_type": "code",
   "execution_count": 1,
   "id": "c86f4209",
   "metadata": {},
   "outputs": [],
   "source": [
    "def divide(a,b):\n",
    "    try:\n",
    "        result = a / b\n",
    "        print('Result calculated')\n",
    "    except ZeroDivisionError as ex:\n",
    "        print(f'an error occured: {ex}')\n",
    "    try:\n",
    "        return result\n",
    "    except UnboundLocalError as ul:\n",
    "        print(f'an error with {ul}')"
   ]
  },
  {
   "cell_type": "code",
   "execution_count": 2,
   "id": "432df09f",
   "metadata": {},
   "outputs": [
    {
     "name": "stdout",
     "output_type": "stream",
     "text": [
      "an error occured: division by zero\n",
      "an error with local variable 'result' referenced before assignment\n"
     ]
    }
   ],
   "source": [
    "divide(4,0)"
   ]
  },
  {
   "cell_type": "code",
   "execution_count": 48,
   "id": "a13374d5",
   "metadata": {},
   "outputs": [],
   "source": [
    "def divide(a,b):\n",
    "    try:\n",
    "        return a / b\n",
    "    except ZeroDivisionError as ex:\n",
    "        print(f'an error occured: {ex}')\n",
    "    except TypeError as te:\n",
    "        print(f'Unknown error occured: {te}')"
   ]
  },
  {
   "cell_type": "code",
   "execution_count": 51,
   "id": "acb3b79d",
   "metadata": {},
   "outputs": [
    {
     "name": "stdout",
     "output_type": "stream",
     "text": [
      "an error occured: division by zero\n"
     ]
    }
   ],
   "source": [
    "divide(4, 0)"
   ]
  },
  {
   "cell_type": "code",
   "execution_count": 52,
   "id": "b8d7020a",
   "metadata": {},
   "outputs": [
    {
     "name": "stdout",
     "output_type": "stream",
     "text": [
      "Error has occured. Description: No such file or directory\n",
      "Finally\n",
      "Doing some work here\n"
     ]
    }
   ],
   "source": [
    "file = None\n",
    "try:\n",
    "    file = open(r'C:\\tmp.txt')\n",
    "    data = file.read()\n",
    "except FileNotFoundError as ex:\n",
    "    print(f'Error has occured. Description: {ex.strerror}')\n",
    "else:\n",
    "    print('maybe else')\n",
    "finally:\n",
    "    print('Finally')\n",
    "    if file: \n",
    "        file.close()\n",
    "    \n",
    "print('Doing some work here')"
   ]
  },
  {
   "cell_type": "code",
   "execution_count": 66,
   "id": "ba85310c",
   "metadata": {},
   "outputs": [
    {
     "name": "stdout",
     "output_type": "stream",
     "text": [
      "Enter a number....w\n",
      "Not a number! Try again. \n",
      " invalid literal for int() with base 10: 'w'\n",
      "Enter a number....3\n"
     ]
    },
    {
     "data": {
      "text/plain": [
       "3"
      ]
     },
     "execution_count": 66,
     "metadata": {},
     "output_type": "execute_result"
    }
   ],
   "source": [
    "def get_int():\n",
    "    while True:\n",
    "        try:\n",
    "            reply = int(input('Enter a number....'))\n",
    "            return reply\n",
    "        except ValueError as ve:\n",
    "            print(f'Not a number! Try again. \\n {ve}')\n",
    "            continue\n",
    "number = get_int()\n",
    "number"
   ]
  },
  {
   "cell_type": "code",
   "execution_count": 57,
   "id": "78a3ac22",
   "metadata": {},
   "outputs": [
    {
     "name": "stdout",
     "output_type": "stream",
     "text": [
      "7.937253933193772\n"
     ]
    }
   ],
   "source": [
    "import math\n",
    "def calc_square(ab ,ac ,bc):\n",
    "    p = (ab + ac + bc) / 2\n",
    "    s = math.sqrt(p * (p-ab) * (p-ac) * (p-bc))\n",
    "    \n",
    "    return s\n",
    "print(calc_square(-2,8,8))"
   ]
  },
  {
   "cell_type": "code",
   "execution_count": 68,
   "id": "9e880368",
   "metadata": {},
   "outputs": [
    {
     "ename": "ValueError",
     "evalue": "One of the sides is less or equal to 0.",
     "output_type": "error",
     "traceback": [
      "\u001b[0;31m---------------------------------------------------------------------------\u001b[0m",
      "\u001b[0;31mValueError\u001b[0m                                Traceback (most recent call last)",
      "\u001b[0;32m<ipython-input-68-e43e18675cf7>\u001b[0m in \u001b[0;36m<module>\u001b[0;34m\u001b[0m\n\u001b[1;32m      7\u001b[0m \u001b[0;34m\u001b[0m\u001b[0m\n\u001b[1;32m      8\u001b[0m     \u001b[0;32mreturn\u001b[0m \u001b[0ms\u001b[0m\u001b[0;34m\u001b[0m\u001b[0;34m\u001b[0m\u001b[0m\n\u001b[0;32m----> 9\u001b[0;31m \u001b[0mprint\u001b[0m\u001b[0;34m(\u001b[0m\u001b[0mcalc_square\u001b[0m\u001b[0;34m(\u001b[0m\u001b[0;34m-\u001b[0m\u001b[0;36m2\u001b[0m\u001b[0;34m,\u001b[0m\u001b[0;36m8\u001b[0m\u001b[0;34m,\u001b[0m\u001b[0;36m8\u001b[0m\u001b[0;34m)\u001b[0m\u001b[0;34m)\u001b[0m\u001b[0;34m\u001b[0m\u001b[0;34m\u001b[0m\u001b[0m\n\u001b[0m",
      "\u001b[0;32m<ipython-input-68-e43e18675cf7>\u001b[0m in \u001b[0;36mcalc_square\u001b[0;34m(ab, ac, bc)\u001b[0m\n\u001b[1;32m      2\u001b[0m     \u001b[0;32mimport\u001b[0m \u001b[0mmath\u001b[0m\u001b[0;34m\u001b[0m\u001b[0;34m\u001b[0m\u001b[0m\n\u001b[1;32m      3\u001b[0m     \u001b[0;32mif\u001b[0m \u001b[0mab\u001b[0m \u001b[0;34m<=\u001b[0m \u001b[0;36m0\u001b[0m \u001b[0;32mor\u001b[0m \u001b[0mac\u001b[0m \u001b[0;34m<=\u001b[0m\u001b[0;36m0\u001b[0m \u001b[0;32mor\u001b[0m \u001b[0mbc\u001b[0m \u001b[0;34m<=\u001b[0m\u001b[0;36m0\u001b[0m\u001b[0;34m:\u001b[0m\u001b[0;34m\u001b[0m\u001b[0;34m\u001b[0m\u001b[0m\n\u001b[0;32m----> 4\u001b[0;31m         \u001b[0;32mraise\u001b[0m \u001b[0mValueError\u001b[0m\u001b[0;34m(\u001b[0m\u001b[0;34m'One of the sides is less or equal to 0.'\u001b[0m\u001b[0;34m)\u001b[0m\u001b[0;34m\u001b[0m\u001b[0;34m\u001b[0m\u001b[0m\n\u001b[0m\u001b[1;32m      5\u001b[0m     \u001b[0mp\u001b[0m \u001b[0;34m=\u001b[0m \u001b[0;34m(\u001b[0m\u001b[0mab\u001b[0m \u001b[0;34m+\u001b[0m \u001b[0mac\u001b[0m \u001b[0;34m+\u001b[0m\u001b[0mbc\u001b[0m\u001b[0;34m)\u001b[0m \u001b[0;34m/\u001b[0m \u001b[0;36m2\u001b[0m\u001b[0;34m\u001b[0m\u001b[0;34m\u001b[0m\u001b[0m\n\u001b[1;32m      6\u001b[0m     \u001b[0ms\u001b[0m \u001b[0;34m=\u001b[0m \u001b[0mmath\u001b[0m\u001b[0;34m.\u001b[0m\u001b[0msqrt\u001b[0m\u001b[0;34m(\u001b[0m\u001b[0mp\u001b[0m \u001b[0;34m*\u001b[0m \u001b[0;34m(\u001b[0m\u001b[0mp\u001b[0m\u001b[0;34m-\u001b[0m\u001b[0mab\u001b[0m\u001b[0;34m)\u001b[0m \u001b[0;34m*\u001b[0m \u001b[0;34m(\u001b[0m\u001b[0mp\u001b[0m\u001b[0;34m-\u001b[0m\u001b[0mac\u001b[0m\u001b[0;34m)\u001b[0m \u001b[0;34m*\u001b[0m \u001b[0;34m(\u001b[0m\u001b[0mp\u001b[0m\u001b[0;34m-\u001b[0m\u001b[0mbc\u001b[0m\u001b[0;34m)\u001b[0m\u001b[0;34m)\u001b[0m\u001b[0;34m\u001b[0m\u001b[0;34m\u001b[0m\u001b[0m\n",
      "\u001b[0;31mValueError\u001b[0m: One of the sides is less or equal to 0."
     ]
    }
   ],
   "source": [
    "def calc_square(ab ,ac ,bc):\n",
    "    import math\n",
    "    if ab <= 0 or ac <=0 or bc <=0:\n",
    "        raise ValueError('One of the sides is less or equal to 0.')\n",
    "    p = (ab + ac +bc) / 2\n",
    "    s = math.sqrt(p * (p-ab) * (p-ac) * (p-bc))\n",
    "    \n",
    "    return s\n",
    "print(calc_square(-2,8,8))"
   ]
  },
  {
   "cell_type": "code",
   "execution_count": 69,
   "id": "c4a3ba0a",
   "metadata": {},
   "outputs": [],
   "source": [
    "class InvalidTriangleError(Exception):\n",
    "    \"\"\"Raised when a triangle has invalid sides\"\"\""
   ]
  },
  {
   "cell_type": "code",
   "execution_count": 70,
   "id": "0d879710",
   "metadata": {},
   "outputs": [
    {
     "ename": "InvalidTriangleError",
     "evalue": "One of the sides less or equal to 0.",
     "output_type": "error",
     "traceback": [
      "\u001b[0;31m---------------------------------------------------------------------------\u001b[0m",
      "\u001b[0;31mInvalidTriangleError\u001b[0m                      Traceback (most recent call last)",
      "\u001b[0;32m<ipython-input-70-cfba30adb974>\u001b[0m in \u001b[0;36m<module>\u001b[0;34m\u001b[0m\n\u001b[1;32m      7\u001b[0m \u001b[0;34m\u001b[0m\u001b[0m\n\u001b[1;32m      8\u001b[0m     \u001b[0;32mreturn\u001b[0m \u001b[0ms\u001b[0m\u001b[0;34m\u001b[0m\u001b[0;34m\u001b[0m\u001b[0m\n\u001b[0;32m----> 9\u001b[0;31m \u001b[0mprint\u001b[0m\u001b[0;34m(\u001b[0m\u001b[0mcalc_square\u001b[0m\u001b[0;34m(\u001b[0m\u001b[0;34m-\u001b[0m\u001b[0;36m2\u001b[0m\u001b[0;34m,\u001b[0m\u001b[0;36m8\u001b[0m\u001b[0;34m,\u001b[0m\u001b[0;36m8\u001b[0m\u001b[0;34m)\u001b[0m\u001b[0;34m)\u001b[0m\u001b[0;34m\u001b[0m\u001b[0;34m\u001b[0m\u001b[0m\n\u001b[0m",
      "\u001b[0;32m<ipython-input-70-cfba30adb974>\u001b[0m in \u001b[0;36mcalc_square\u001b[0;34m(ab, ac, bc)\u001b[0m\n\u001b[1;32m      2\u001b[0m \u001b[0;32mdef\u001b[0m \u001b[0mcalc_square\u001b[0m\u001b[0;34m(\u001b[0m\u001b[0mab\u001b[0m \u001b[0;34m,\u001b[0m\u001b[0mac\u001b[0m \u001b[0;34m,\u001b[0m\u001b[0mbc\u001b[0m\u001b[0;34m)\u001b[0m\u001b[0;34m:\u001b[0m\u001b[0;34m\u001b[0m\u001b[0;34m\u001b[0m\u001b[0m\n\u001b[1;32m      3\u001b[0m     \u001b[0;32mif\u001b[0m \u001b[0mab\u001b[0m \u001b[0;34m<=\u001b[0m \u001b[0;36m0\u001b[0m \u001b[0;32mor\u001b[0m \u001b[0mac\u001b[0m \u001b[0;34m<=\u001b[0m\u001b[0;36m0\u001b[0m \u001b[0;32mor\u001b[0m \u001b[0mbc\u001b[0m \u001b[0;34m<=\u001b[0m\u001b[0;36m0\u001b[0m\u001b[0;34m:\u001b[0m\u001b[0;34m\u001b[0m\u001b[0;34m\u001b[0m\u001b[0m\n\u001b[0;32m----> 4\u001b[0;31m         \u001b[0;32mraise\u001b[0m \u001b[0mInvalidTriangleError\u001b[0m\u001b[0;34m(\u001b[0m\u001b[0;34m'One of the sides less or equal to 0.'\u001b[0m\u001b[0;34m)\u001b[0m\u001b[0;34m\u001b[0m\u001b[0;34m\u001b[0m\u001b[0m\n\u001b[0m\u001b[1;32m      5\u001b[0m     \u001b[0mp\u001b[0m \u001b[0;34m=\u001b[0m \u001b[0;34m(\u001b[0m\u001b[0mab\u001b[0m \u001b[0;34m+\u001b[0m \u001b[0mac\u001b[0m \u001b[0;34m+\u001b[0m\u001b[0mbc\u001b[0m\u001b[0;34m)\u001b[0m \u001b[0;34m/\u001b[0m \u001b[0;36m2\u001b[0m\u001b[0;34m\u001b[0m\u001b[0;34m\u001b[0m\u001b[0m\n\u001b[1;32m      6\u001b[0m     \u001b[0ms\u001b[0m \u001b[0;34m=\u001b[0m \u001b[0mmath\u001b[0m\u001b[0;34m.\u001b[0m\u001b[0msqrt\u001b[0m\u001b[0;34m(\u001b[0m\u001b[0mp\u001b[0m \u001b[0;34m*\u001b[0m \u001b[0;34m(\u001b[0m\u001b[0mp\u001b[0m\u001b[0;34m-\u001b[0m\u001b[0mab\u001b[0m\u001b[0;34m)\u001b[0m \u001b[0;34m*\u001b[0m \u001b[0;34m(\u001b[0m\u001b[0mp\u001b[0m\u001b[0;34m-\u001b[0m\u001b[0mac\u001b[0m\u001b[0;34m)\u001b[0m \u001b[0;34m*\u001b[0m \u001b[0;34m(\u001b[0m\u001b[0mp\u001b[0m\u001b[0;34m-\u001b[0m\u001b[0mbc\u001b[0m\u001b[0;34m)\u001b[0m\u001b[0;34m)\u001b[0m\u001b[0;34m\u001b[0m\u001b[0;34m\u001b[0m\u001b[0m\n",
      "\u001b[0;31mInvalidTriangleError\u001b[0m: One of the sides less or equal to 0."
     ]
    }
   ],
   "source": [
    "import math\n",
    "def calc_square(ab ,ac ,bc):\n",
    "    if ab <= 0 or ac <=0 or bc <=0:\n",
    "        raise InvalidTriangleError('One of the sides less or equal to 0.')\n",
    "    p = (ab + ac +bc) / 2\n",
    "    s = math.sqrt(p * (p-ab) * (p-ac) * (p-bc))\n",
    "    \n",
    "    return s\n",
    "print(calc_square(-2,8,8))"
   ]
  },
  {
   "cell_type": "code",
   "execution_count": 71,
   "id": "f34d6787",
   "metadata": {},
   "outputs": [
    {
     "name": "stdout",
     "output_type": "stream",
     "text": [
      "One of the sides less or equal to 0.\n"
     ]
    }
   ],
   "source": [
    "try:\n",
    "    square = calc_square(-2,8,8)\n",
    "except InvalidTriangleError as ex:\n",
    "    print(ex)\n",
    "else:\n",
    "    print(square)"
   ]
  },
  {
   "cell_type": "code",
   "execution_count": 72,
   "id": "ffcfc830",
   "metadata": {},
   "outputs": [],
   "source": [
    "def get_reply(number):\n",
    "    if number % 5 == 0 and number % 3 == 0:\n",
    "        return 'FizzBuzz'\n",
    "    elif number % 3 == 0:\n",
    "        return 'Fizz'\n",
    "    elif number % 5 == 0:\n",
    "        return 'Buzz'\n",
    "    else:\n",
    "        return ''"
   ]
  },
  {
   "cell_type": "code",
   "execution_count": 75,
   "id": "12b036c4",
   "metadata": {},
   "outputs": [
    {
     "name": "stdout",
     "output_type": "stream",
     "text": [
      "Input number 0\n"
     ]
    },
    {
     "data": {
      "text/plain": [
       "'FizzBuzz'"
      ]
     },
     "execution_count": 75,
     "metadata": {},
     "output_type": "execute_result"
    }
   ],
   "source": [
    "get_reply(int(input(\"Input number \")))"
   ]
  },
  {
   "cell_type": "code",
   "execution_count": 76,
   "id": "70dbc403",
   "metadata": {},
   "outputs": [
    {
     "data": {
      "text/plain": [
       "list"
      ]
     },
     "execution_count": 76,
     "metadata": {},
     "output_type": "execute_result"
    }
   ],
   "source": [
    "numbers = [1,2,3,4]\n",
    "type(numbers)"
   ]
  },
  {
   "cell_type": "code",
   "execution_count": 77,
   "id": "7bcacbd5",
   "metadata": {},
   "outputs": [],
   "source": [
    "class Character():\n",
    "    def __init__(self, race, damage = 10, armor = 20): # Cool!!!\n",
    "        self.race = race\n",
    "        self.damage = damage\n",
    "        self.armor = armor"
   ]
  },
  {
   "cell_type": "code",
   "execution_count": 78,
   "id": "e344ec06",
   "metadata": {},
   "outputs": [
    {
     "data": {
      "text/plain": [
       "__main__.Character"
      ]
     },
     "execution_count": 78,
     "metadata": {},
     "output_type": "execute_result"
    }
   ],
   "source": [
    "unit = Character('Pinguin',20 , 40)\n",
    "type(unit)"
   ]
  },
  {
   "cell_type": "code",
   "execution_count": 79,
   "id": "51e26e47",
   "metadata": {},
   "outputs": [
    {
     "name": "stdout",
     "output_type": "stream",
     "text": [
      "Pinguin\n",
      "20\n",
      "40\n"
     ]
    }
   ],
   "source": [
    "print(unit.race)\n",
    "print(unit.damage)\n",
    "print(unit.armor)"
   ]
  },
  {
   "cell_type": "code",
   "execution_count": 89,
   "id": "8e887f71",
   "metadata": {},
   "outputs": [],
   "source": [
    "class Character():\n",
    "    max_speed = 100\n",
    "    dead_health = 0\n",
    "    def __init__(self, race, damage = 10, armor = 20):\n",
    "        self.race = race\n",
    "        self.damage = damage\n",
    "        self.armor = armor\n",
    "        self.health = 100\n",
    "    def hit(self, damage):\n",
    "        self.health -= damage\n",
    "    def is_dead(self):\n",
    "        return self.health <= Character.dead_health"
   ]
  },
  {
   "cell_type": "code",
   "execution_count": 90,
   "id": "07515e1c",
   "metadata": {},
   "outputs": [
    {
     "name": "stdout",
     "output_type": "stream",
     "text": [
      "Ork\n",
      "100\n"
     ]
    }
   ],
   "source": [
    "unit= Character('Ork')\n",
    "\n",
    "print(unit.race)\n",
    "print(Character.max_speed)"
   ]
  },
  {
   "cell_type": "code",
   "execution_count": 91,
   "id": "d8666b6b",
   "metadata": {},
   "outputs": [
    {
     "name": "stdout",
     "output_type": "stream",
     "text": [
      "80\n"
     ]
    }
   ],
   "source": [
    "unit.hit(20)\n",
    "print(unit.health)"
   ]
  },
  {
   "cell_type": "code",
   "execution_count": 92,
   "id": "465590c2",
   "metadata": {},
   "outputs": [
    {
     "data": {
      "text/plain": [
       "False"
      ]
     },
     "execution_count": 92,
     "metadata": {},
     "output_type": "execute_result"
    }
   ],
   "source": [
    "unit.is_dead()"
   ]
  },
  {
   "cell_type": "code",
   "execution_count": 93,
   "id": "f15d405b",
   "metadata": {},
   "outputs": [],
   "source": [
    "unit.hit(80)"
   ]
  },
  {
   "cell_type": "code",
   "execution_count": 94,
   "id": "75dde44a",
   "metadata": {},
   "outputs": [
    {
     "data": {
      "text/plain": [
       "True"
      ]
     },
     "execution_count": 94,
     "metadata": {},
     "output_type": "execute_result"
    }
   ],
   "source": [
    "unit.is_dead()"
   ]
  },
  {
   "cell_type": "code",
   "execution_count": 95,
   "id": "47d19315",
   "metadata": {},
   "outputs": [
    {
     "name": "stdout",
     "output_type": "stream",
     "text": [
      "-200\n"
     ]
    },
    {
     "data": {
      "text/plain": [
       "True"
      ]
     },
     "execution_count": 95,
     "metadata": {},
     "output_type": "execute_result"
    }
   ],
   "source": [
    "unit.health = -200\n",
    "print(unit.health)\n",
    "unit.is_dead()"
   ]
  },
  {
   "cell_type": "code",
   "execution_count": 96,
   "id": "73dd1dd3",
   "metadata": {},
   "outputs": [],
   "source": [
    "class Character():\n",
    "    MAX_SPEED = 100\n",
    "\n",
    "    def __init__(self, race, damage =10):\n",
    "        self.damage = damage\n",
    "        self.__race = race #private\n",
    "        self._health = 100 #protected\n",
    "                \n",
    "        self._current_speed = 20\n",
    "        \n",
    "    def hit(self,damage):\n",
    "        self._health -= damage\n",
    "    \n",
    "    @property\n",
    "    def health(self):\n",
    "        return self._health\n",
    "    \n",
    "    @property\n",
    "    def race(self):\n",
    "        return self.__race\n",
    "    \n",
    "    @property\n",
    "    def current_speed(self):\n",
    "        return self._current_speed\n",
    "    \n",
    "    @current_speed.setter\n",
    "    def current_speed(self, current_speed):\n",
    "        if current_speed < 0:\n",
    "            self._current_speed = 0\n",
    "        elif current_speed >100:\n",
    "            self._current_speed = 100\n",
    "        else:\n",
    "            self._current_speed = current_speed"
   ]
  },
  {
   "cell_type": "code",
   "execution_count": 97,
   "id": "5890c757",
   "metadata": {},
   "outputs": [
    {
     "data": {
      "text/plain": [
       "100"
      ]
     },
     "execution_count": 97,
     "metadata": {},
     "output_type": "execute_result"
    }
   ],
   "source": [
    "Character.MAX_SPEED"
   ]
  },
  {
   "cell_type": "code",
   "execution_count": 98,
   "id": "c4754a9d",
   "metadata": {},
   "outputs": [
    {
     "data": {
      "text/plain": [
       "10"
      ]
     },
     "execution_count": 98,
     "metadata": {},
     "output_type": "execute_result"
    }
   ],
   "source": [
    "Character.MAX_SPEED = 10\n",
    "Character.MAX_SPEED"
   ]
  },
  {
   "cell_type": "code",
   "execution_count": 99,
   "id": "f3e218bd",
   "metadata": {},
   "outputs": [],
   "source": [
    "c = Character('Elf')"
   ]
  },
  {
   "cell_type": "code",
   "execution_count": 100,
   "id": "a9252cf5",
   "metadata": {},
   "outputs": [],
   "source": [
    "c._Character__race = 'Pinguin'"
   ]
  },
  {
   "cell_type": "code",
   "execution_count": 101,
   "id": "503c1a8a",
   "metadata": {},
   "outputs": [
    {
     "data": {
      "text/plain": [
       "'Pinguin'"
      ]
     },
     "execution_count": 101,
     "metadata": {},
     "output_type": "execute_result"
    }
   ],
   "source": [
    "c._Character__race"
   ]
  },
  {
   "cell_type": "code",
   "execution_count": 102,
   "id": "db0330ad",
   "metadata": {},
   "outputs": [
    {
     "data": {
      "text/plain": [
       "0"
      ]
     },
     "execution_count": 102,
     "metadata": {},
     "output_type": "execute_result"
    }
   ],
   "source": [
    "c._health = 0\n",
    "c._health"
   ]
  },
  {
   "cell_type": "code",
   "execution_count": null,
   "id": "f11d8a8e",
   "metadata": {},
   "outputs": [],
   "source": [
    "print(c.health)\n",
    "print(c.race)"
   ]
  },
  {
   "cell_type": "code",
   "execution_count": 103,
   "id": "32d0f6eb",
   "metadata": {},
   "outputs": [
    {
     "name": "stdout",
     "output_type": "stream",
     "text": [
      "100\n"
     ]
    }
   ],
   "source": [
    "c.current_speed += 2000\n",
    "print(c.current_speed)"
   ]
  },
  {
   "cell_type": "code",
   "execution_count": 104,
   "id": "6ef4108e",
   "metadata": {},
   "outputs": [],
   "source": [
    "class StaticTest:\n",
    "    x = 1"
   ]
  },
  {
   "cell_type": "code",
   "execution_count": 105,
   "id": "2bea15a8",
   "metadata": {},
   "outputs": [],
   "source": [
    "t1 = StaticTest()"
   ]
  },
  {
   "cell_type": "code",
   "execution_count": 106,
   "id": "bca090a7",
   "metadata": {},
   "outputs": [
    {
     "name": "stdout",
     "output_type": "stream",
     "text": [
      "Via instanse: 1\n",
      "Via class: 1\n"
     ]
    }
   ],
   "source": [
    "print(f'Via instanse: {t1.x}')\n",
    "print(f'Via class: {StaticTest.x}')"
   ]
  },
  {
   "cell_type": "code",
   "execution_count": 107,
   "id": "d5f1edcc",
   "metadata": {},
   "outputs": [
    {
     "name": "stdout",
     "output_type": "stream",
     "text": [
      "Via instanse: 2\n",
      "Via class: 1\n"
     ]
    }
   ],
   "source": [
    "t1.x = 2\n",
    "print(f'Via instanse: {t1.x}')\n",
    "print(f'Via class: {StaticTest.x}')"
   ]
  },
  {
   "cell_type": "code",
   "execution_count": 108,
   "id": "ce783c6b",
   "metadata": {},
   "outputs": [],
   "source": [
    "StaticTest.x = 3"
   ]
  },
  {
   "cell_type": "code",
   "execution_count": 109,
   "id": "7afc5042",
   "metadata": {},
   "outputs": [
    {
     "name": "stdout",
     "output_type": "stream",
     "text": [
      "Via instanse: 2\n",
      "Via class: 3\n"
     ]
    }
   ],
   "source": [
    "print(f'Via instanse: {t1.x}')\n",
    "print(f'Via class: {StaticTest.x}')"
   ]
  },
  {
   "cell_type": "code",
   "execution_count": 110,
   "id": "196bf7d7",
   "metadata": {},
   "outputs": [],
   "source": [
    "class Date:\n",
    "    def __init__(self, month, day, year):\n",
    "        self.month = month\n",
    "        self.day = day\n",
    "        self.year = year\n",
    "    def display(self):\n",
    "        return f\"{self.month}-{self.day}-{self.year}\"\n",
    "    @classmethod\n",
    "    def millenium_c(cls, month, day):\n",
    "        return cls(month, day, 2000)\n",
    "    \n",
    "    @staticmethod\n",
    "    def millenium_s(month, day):\n",
    "        return Date(month, day, 2000)"
   ]
  },
  {
   "cell_type": "code",
   "execution_count": 111,
   "id": "f6329e0e",
   "metadata": {},
   "outputs": [
    {
     "name": "stdout",
     "output_type": "stream",
     "text": [
      "6-9-2000\n",
      "6-9-2000\n"
     ]
    }
   ],
   "source": [
    "d1 = Date.millenium_c(6,9)\n",
    "d2 = Date.millenium_s(6,9)\n",
    "print(d1.display())\n",
    "print(d2.display())"
   ]
  },
  {
   "cell_type": "code",
   "execution_count": 112,
   "id": "085dd20e",
   "metadata": {},
   "outputs": [],
   "source": [
    "class DateTime(Date):\n",
    "    def display(self):\n",
    "        return f\"{self.month}-{self.day}-{self.year} - 00:00:00 PM\""
   ]
  },
  {
   "cell_type": "code",
   "execution_count": 114,
   "id": "bf603b2c",
   "metadata": {},
   "outputs": [
    {
     "name": "stdout",
     "output_type": "stream",
     "text": [
      "True\n",
      "False\n",
      "True\n",
      "10-10-1990 - 00:00:00 PM\n",
      "10-10-2000\n",
      "10-10-2000 - 00:00:00 PM\n",
      "<class '__main__.Date'>\n",
      "<class '__main__.DateTime'>  Wow!\n"
     ]
    }
   ],
   "source": [
    "dt1 = DateTime(10,10,1990)\n",
    "dt2 = DateTime.millenium_s(10,10)\n",
    "dt3 = DateTime.millenium_c(10,10)\n",
    "\n",
    "print(isinstance(dt1, DateTime))\n",
    "print(isinstance(dt2, DateTime))\n",
    "print(isinstance(dt3, DateTime))\n",
    "\n",
    "print(dt1.display())\n",
    "print(dt2.display())\n",
    "print(dt3.display())\n",
    "print(type(dt2))\n",
    "print(type(dt3),' Wow!')"
   ]
  },
  {
   "cell_type": "code",
   "execution_count": 116,
   "id": "0a5f3686",
   "metadata": {},
   "outputs": [],
   "source": [
    "class StrConverter:\n",
    "    \n",
    "    @staticmethod\n",
    "    def to_str(bytes_or_str):\n",
    "        if isinstance(bytes_or_str, bytes):\n",
    "            value = bytes_or_str.decode('utf-8')\n",
    "        else:\n",
    "            value = bytes_or_str\n",
    "        return value\n",
    "    \n",
    "    def to_bytes(bytes_or_str):\n",
    "        if isinstance(bytes_or_str, str):\n",
    "            value = bytes_or_str.encode('utf-8')\n",
    "        else:\n",
    "            value = bytes_or_str\n",
    "        return value"
   ]
  },
  {
   "cell_type": "code",
   "execution_count": 117,
   "id": "d86de577",
   "metadata": {},
   "outputs": [
    {
     "name": "stdout",
     "output_type": "stream",
     "text": [
      "A\n",
      "A\n",
      "b'A'\n",
      "b'A'\n"
     ]
    }
   ],
   "source": [
    "print(StrConverter.to_str('\\x41'))\n",
    "print(StrConverter.to_str('A'))\n",
    "print(StrConverter.to_bytes('\\x41'))\n",
    "print(StrConverter.to_bytes('A'))"
   ]
  },
  {
   "cell_type": "code",
   "execution_count": null,
   "id": "d551118c",
   "metadata": {},
   "outputs": [],
   "source": []
  }
 ],
 "metadata": {
  "kernelspec": {
   "display_name": "Python 3",
   "language": "python",
   "name": "python3"
  },
  "language_info": {
   "codemirror_mode": {
    "name": "ipython",
    "version": 3
   },
   "file_extension": ".py",
   "mimetype": "text/x-python",
   "name": "python",
   "nbconvert_exporter": "python",
   "pygments_lexer": "ipython3",
   "version": "3.8.8"
  }
 },
 "nbformat": 4,
 "nbformat_minor": 5
}
