{
 "cells": [
  {
   "cell_type": "code",
   "execution_count": 1,
   "id": "c7455bd2",
   "metadata": {},
   "outputs": [],
   "source": [
    "from datetime import datetime\n",
    "from datetime import date\n",
    "from datetime import time\n",
    "from datetime import timedelta"
   ]
  },
  {
   "cell_type": "code",
   "execution_count": 43,
   "id": "2e5bc97b",
   "metadata": {},
   "outputs": [
    {
     "name": "stdout",
     "output_type": "stream",
     "text": [
      "2019-03-12\n",
      "2019\n",
      "3\n",
      "12\n"
     ]
    },
    {
     "data": {
      "text/plain": [
       "'12 - 03 - 2019'"
      ]
     },
     "execution_count": 43,
     "metadata": {},
     "output_type": "execute_result"
    }
   ],
   "source": [
    "d1=date(2019, 3, 12)\n",
    "print(d1)\n",
    "print(d1.year)\n",
    "print(d1.month)\n",
    "print(d1.day)\n",
    "d1.strftime('%d - %m - %Y')"
   ]
  },
  {
   "cell_type": "code",
   "execution_count": 8,
   "id": "9243b4ac",
   "metadata": {},
   "outputs": [
    {
     "name": "stdout",
     "output_type": "stream",
     "text": [
      "23:10:59\n",
      "23\n",
      "10\n",
      "59\n"
     ]
    }
   ],
   "source": [
    "t1 = time(23,10,59)\n",
    "print(t1)\n",
    "print(t1.hour)\n",
    "print(t1.minute)\n",
    "print(t1.second)"
   ]
  },
  {
   "cell_type": "code",
   "execution_count": 9,
   "id": "23c0b7aa",
   "metadata": {},
   "outputs": [
    {
     "name": "stdout",
     "output_type": "stream",
     "text": [
      "2021-06-28\n"
     ]
    }
   ],
   "source": [
    "print(date.today())"
   ]
  },
  {
   "cell_type": "code",
   "execution_count": 10,
   "id": "afb2f98b",
   "metadata": {},
   "outputs": [
    {
     "name": "stdout",
     "output_type": "stream",
     "text": [
      "9999-12-31\n"
     ]
    }
   ],
   "source": [
    "print(date.max)"
   ]
  },
  {
   "cell_type": "code",
   "execution_count": 11,
   "id": "02047b55",
   "metadata": {},
   "outputs": [
    {
     "name": "stdout",
     "output_type": "stream",
     "text": [
      "0001-01-01\n"
     ]
    }
   ],
   "source": [
    "print(date.min)"
   ]
  },
  {
   "cell_type": "code",
   "execution_count": 16,
   "id": "3f5352e4",
   "metadata": {},
   "outputs": [
    {
     "name": "stdout",
     "output_type": "stream",
     "text": [
      "2019-03-12 15:17:11.000022\n"
     ]
    }
   ],
   "source": [
    "dt = datetime(2019,3,12,15,17,11,22)\n",
    "print(dt)"
   ]
  },
  {
   "cell_type": "code",
   "execution_count": 19,
   "id": "08177a0b",
   "metadata": {},
   "outputs": [
    {
     "name": "stdout",
     "output_type": "stream",
     "text": [
      "2019\n",
      "15\n"
     ]
    }
   ],
   "source": [
    "print(dt.date().year)\n",
    "print(dt.time().hour)"
   ]
  },
  {
   "cell_type": "code",
   "execution_count": 21,
   "id": "e17ec264",
   "metadata": {},
   "outputs": [
    {
     "data": {
      "text/plain": [
       "datetime.datetime(2021, 6, 28, 21, 27, 30, 146474)"
      ]
     },
     "execution_count": 21,
     "metadata": {},
     "output_type": "execute_result"
    }
   ],
   "source": [
    "now = datetime.now()\n",
    "now"
   ]
  },
  {
   "cell_type": "code",
   "execution_count": 24,
   "id": "e3caf87b",
   "metadata": {},
   "outputs": [
    {
     "name": "stdout",
     "output_type": "stream",
     "text": [
      "2018-06-28 21:27:30.146474\n"
     ]
    }
   ],
   "source": [
    "new_dt = now.replace(year=2018)\n",
    "print(new_dt)"
   ]
  },
  {
   "cell_type": "code",
   "execution_count": 32,
   "id": "77a5818c",
   "metadata": {},
   "outputs": [
    {
     "name": "stdout",
     "output_type": "stream",
     "text": [
      "2018-08-30 00:00:00\n",
      "2018-03-29 10:40:00\n",
      "2018-06-28 09:20:00\n",
      "2018-06-28 00:00:00\n"
     ]
    }
   ],
   "source": [
    "dt = datetime.strptime('30/08/2018','%d/%m/%Y')\n",
    "print(dt)\n",
    "dt = datetime.strptime('29/03/2018 10:40','%d/%m/%Y %H:%M')\n",
    "print(dt)\n",
    "dt = datetime.strptime('06-28-2018 09:20', '%m-%d-%Y %H:%M')\n",
    "print(dt)\n",
    "dt = datetime.strptime('2018-06-28', '%Y-%m-%d')\n",
    "print(dt)"
   ]
  },
  {
   "cell_type": "code",
   "execution_count": 44,
   "id": "8ab48912",
   "metadata": {},
   "outputs": [
    {
     "data": {
      "text/plain": [
       "'ru_RU.UTF-8'"
      ]
     },
     "execution_count": 44,
     "metadata": {},
     "output_type": "execute_result"
    }
   ],
   "source": [
    "import locale\n",
    "locale.setlocale(locale.LC_ALL,\"\")"
   ]
  },
  {
   "cell_type": "code",
   "execution_count": 55,
   "id": "c7c1951c",
   "metadata": {},
   "outputs": [
    {
     "name": "stdout",
     "output_type": "stream",
     "text": [
      "2021-06-29 (вт)\n",
      "2021 июня 29 число (вторник)\n",
      "Something important 2021-06-29 (вт)\n"
     ]
    }
   ],
   "source": [
    "now = datetime.now()\n",
    "print(now.strftime('%Y-%m-%d (%a)'))\n",
    "print(now.strftime('%Y %B %d число (%A)'))\n",
    "fnow = now.strftime('%Y-%m-%d (%a)')\n",
    "print(f'Something important {fnow}')"
   ]
  },
  {
   "cell_type": "code",
   "execution_count": 56,
   "id": "be9e1eea",
   "metadata": {},
   "outputs": [
    {
     "name": "stdout",
     "output_type": "stream",
     "text": [
      "3 days, 2:10:00\n"
     ]
    }
   ],
   "source": [
    "delta1 = timedelta(days=3,hours=2,minutes=10)\n",
    "print(delta1)"
   ]
  },
  {
   "cell_type": "code",
   "execution_count": 59,
   "id": "c423e62a",
   "metadata": {},
   "outputs": [
    {
     "name": "stdout",
     "output_type": "stream",
     "text": [
      "1 day, 1:05:00\n",
      "-2 days, 22:55:00\n"
     ]
    }
   ],
   "source": [
    "delta2 = timedelta(days=2,hours=1,minutes=5)\n",
    "print(delta1-delta2)\n",
    "print(delta2-delta1)"
   ]
  },
  {
   "cell_type": "code",
   "execution_count": 69,
   "id": "d3d150bb",
   "metadata": {},
   "outputs": [
    {
     "name": "stdout",
     "output_type": "stream",
     "text": [
      "<class 'datetime.timedelta'>\n",
      "34\n"
     ]
    }
   ],
   "source": [
    "my_birthday = date(1987,1,30)\n",
    "delta = date.today() - my_birthday\n",
    "print(type(delta))\n",
    "my_age = int(delta.days/365)\n",
    "print(my_age)"
   ]
  },
  {
   "cell_type": "code",
   "execution_count": 72,
   "id": "27aaefdf",
   "metadata": {},
   "outputs": [
    {
     "name": "stdout",
     "output_type": "stream",
     "text": [
      "33\n",
      "-491 days, 0:00:00\n",
      "True\n"
     ]
    }
   ],
   "source": [
    "wife_birthday = date(1988,6,4)\n",
    "wife_age = date.today()- wife_birthday\n",
    "print(int(wife_age.days)//365)\n",
    "print(my_birthday - wife_birthday)\n",
    "am_i_older = my_birthday < wife_birthday\n",
    "print(am_i_older)"
   ]
  },
  {
   "cell_type": "code",
   "execution_count": 73,
   "id": "c81c44c4",
   "metadata": {},
   "outputs": [],
   "source": [
    "class Character:\n",
    "    \n",
    "    def __init__(self):\n",
    "        self.race = 'Elf'"
   ]
  },
  {
   "cell_type": "code",
   "execution_count": 74,
   "id": "5903e6b6",
   "metadata": {},
   "outputs": [
    {
     "data": {
      "text/plain": [
       "'Elf'"
      ]
     },
     "execution_count": 74,
     "metadata": {},
     "output_type": "execute_result"
    }
   ],
   "source": [
    "c = Character()\n",
    "c.race"
   ]
  },
  {
   "cell_type": "code",
   "execution_count": 75,
   "id": "7f702efd",
   "metadata": {},
   "outputs": [],
   "source": [
    "class Character(object):\n",
    "    \n",
    "    def __new__(cls):\n",
    "        obj = super().__new__(cls)\n",
    "        return obj\n",
    "    \n",
    "    def __init__(self):\n",
    "        self.race = 'Elf'"
   ]
  },
  {
   "cell_type": "code",
   "execution_count": 76,
   "id": "66c154b0",
   "metadata": {},
   "outputs": [
    {
     "data": {
      "text/plain": [
       "'Elf'"
      ]
     },
     "execution_count": 76,
     "metadata": {},
     "output_type": "execute_result"
    }
   ],
   "source": [
    "c = Character()\n",
    "c.race"
   ]
  },
  {
   "cell_type": "code",
   "execution_count": 135,
   "id": "0f98b3f3",
   "metadata": {},
   "outputs": [],
   "source": [
    "class Character(object):\n",
    "    \n",
    "    _instance = None\n",
    "    \n",
    "    def __new__(cls):\n",
    "        if not cls._instance:\n",
    "            cls._instance = super().__new__(cls)\n",
    "        return cls._instance\n",
    "    \n",
    "    def __init__(self):\n",
    "        self.race = 'Elf'"
   ]
  },
  {
   "cell_type": "code",
   "execution_count": 136,
   "id": "778033df",
   "metadata": {},
   "outputs": [
    {
     "data": {
      "text/plain": [
       "'Elf'"
      ]
     },
     "execution_count": 136,
     "metadata": {},
     "output_type": "execute_result"
    }
   ],
   "source": [
    "c = Character()\n",
    "c.race"
   ]
  },
  {
   "cell_type": "code",
   "execution_count": 137,
   "id": "2a56d37a",
   "metadata": {},
   "outputs": [
    {
     "name": "stdout",
     "output_type": "stream",
     "text": [
      "Ork\n",
      "Ork\n",
      "True\n"
     ]
    }
   ],
   "source": [
    "d = Character()\n",
    "d.race = 'Ork'\n",
    "print(c.race)\n",
    "print(d.race)\n",
    "print(c == d)"
   ]
  },
  {
   "cell_type": "code",
   "execution_count": 109,
   "id": "0f5b8ea5",
   "metadata": {},
   "outputs": [],
   "source": [
    "class Character:\n",
    "    \n",
    "    def __init__(self, race, armor, damage = 10):\n",
    "        \n",
    "        self.race = race\n",
    "        self.armor = armor\n",
    "        self.damage = damage\n",
    "        self.health = 100\n",
    "        \n",
    "    def hit(self,damage):\n",
    "        self.health -= damage\n",
    "    \n",
    "    def is_dead(self):\n",
    "        return self.health == 0\n",
    "    #def __getstate__(self):\n",
    "    def __setstate__(self, state):\n",
    "        self.race = state.get('race', 'Elf')\n",
    "        self.armor = state.get('armor', 20)\n",
    "        self.damage = state.get('damage', 10)\n",
    "        self.health = state.get('health', 100)"
   ]
  },
  {
   "cell_type": "code",
   "execution_count": 110,
   "id": "3b124a3a",
   "metadata": {},
   "outputs": [
    {
     "name": "stdout",
     "output_type": "stream",
     "text": [
      "False\n",
      "90\n",
      "10\n"
     ]
    }
   ],
   "source": [
    "c = Character('Elf',10)\n",
    "c.hit(10)\n",
    "print(c.is_dead())\n",
    "print(c.health)\n",
    "print(c.armor)"
   ]
  },
  {
   "cell_type": "code",
   "execution_count": 111,
   "id": "85c77209",
   "metadata": {},
   "outputs": [],
   "source": [
    "import pickle\n",
    "\n",
    "with open(r'/Users/vladimir/Documents/JupyterRoot/game_state.bin', 'w+b') as f:\n",
    "    pickle.dump(c,f)"
   ]
  },
  {
   "cell_type": "code",
   "execution_count": 112,
   "id": "8a725fec",
   "metadata": {},
   "outputs": [
    {
     "name": "stdout",
     "output_type": "stream",
     "text": [
      "None\n"
     ]
    }
   ],
   "source": [
    "c = None\n",
    "print(c)"
   ]
  },
  {
   "cell_type": "code",
   "execution_count": 113,
   "id": "293fcc9b",
   "metadata": {},
   "outputs": [
    {
     "name": "stdout",
     "output_type": "stream",
     "text": [
      "90\n"
     ]
    }
   ],
   "source": [
    "with open(r'/Users/vladimir/Documents/JupyterRoot/game_state.bin', 'rb') as f:\n",
    "    c = pickle.load(f)\n",
    "print(c.health)"
   ]
  },
  {
   "cell_type": "code",
   "execution_count": 114,
   "id": "c69c827b",
   "metadata": {},
   "outputs": [
    {
     "name": "stdout",
     "output_type": "stream",
     "text": [
      "{'race': 'Elf', 'armor': 10, 'damage': 10, 'health': 90}\n"
     ]
    }
   ],
   "source": [
    "print(c.__dict__)"
   ]
  },
  {
   "cell_type": "code",
   "execution_count": 115,
   "id": "00e69c4e",
   "metadata": {},
   "outputs": [
    {
     "data": {
      "text/plain": [
       "'[1, 2, 3]'"
      ]
     },
     "execution_count": 115,
     "metadata": {},
     "output_type": "execute_result"
    }
   ],
   "source": [
    "lst = [1, 2, 3]\n",
    "repr(lst)"
   ]
  },
  {
   "cell_type": "code",
   "execution_count": 116,
   "id": "e3de1915",
   "metadata": {},
   "outputs": [
    {
     "name": "stdout",
     "output_type": "stream",
     "text": [
      "[1, 2, 3]\n"
     ]
    }
   ],
   "source": [
    "print(lst)"
   ]
  },
  {
   "cell_type": "code",
   "execution_count": 118,
   "id": "303bc5ae",
   "metadata": {},
   "outputs": [
    {
     "data": {
      "text/plain": [
       "True"
      ]
     },
     "execution_count": 118,
     "metadata": {},
     "output_type": "execute_result"
    }
   ],
   "source": [
    "eval(repr(lst)) == lst"
   ]
  },
  {
   "cell_type": "code",
   "execution_count": 120,
   "id": "5ea50989",
   "metadata": {},
   "outputs": [],
   "source": [
    "from datetime import datetime\n",
    "dt = datetime.now()"
   ]
  },
  {
   "cell_type": "code",
   "execution_count": 121,
   "id": "b5abbece",
   "metadata": {},
   "outputs": [
    {
     "data": {
      "text/plain": [
       "'datetime.datetime(2021, 6, 30, 20, 19, 4, 456732)'"
      ]
     },
     "execution_count": 121,
     "metadata": {},
     "output_type": "execute_result"
    }
   ],
   "source": [
    "repr(dt)"
   ]
  },
  {
   "cell_type": "code",
   "execution_count": 122,
   "id": "5ff03acc",
   "metadata": {},
   "outputs": [
    {
     "name": "stdout",
     "output_type": "stream",
     "text": [
      "2021-06-30 20:19:04.456732\n"
     ]
    }
   ],
   "source": [
    "print(dt)"
   ]
  },
  {
   "cell_type": "code",
   "execution_count": 153,
   "id": "91c32a05",
   "metadata": {},
   "outputs": [],
   "source": [
    "class Character:\n",
    "    def __init__(self, race, damage = 100):\n",
    "        self.race = race\n",
    "        self.damage = damage\n",
    "        \n",
    "  #  def __repr__(self):\n",
    "   #     return f\"Character('{self.race}',{self.damage})\"\n",
    "    def __str__(self):\n",
    "        return f'{self.race} with damage = {self.damage}'\n",
    "    def __eq__(self, other):\n",
    "        if isinstance(other,Character):\n",
    "            return self.race == other.race and self.damage == other.damage\n",
    "        else:\n",
    "            return False\n",
    "    #def __ne__(self,other):   # non equal\n",
    "    #   pass"
   ]
  },
  {
   "cell_type": "code",
   "execution_count": 154,
   "id": "05f1d262",
   "metadata": {},
   "outputs": [],
   "source": [
    "c = Character('Elf')"
   ]
  },
  {
   "cell_type": "code",
   "execution_count": 155,
   "id": "d8035b1e",
   "metadata": {},
   "outputs": [
    {
     "data": {
      "text/plain": [
       "<__main__.Character at 0x7f8b79000e50>"
      ]
     },
     "execution_count": 155,
     "metadata": {},
     "output_type": "execute_result"
    }
   ],
   "source": [
    "c #repr"
   ]
  },
  {
   "cell_type": "code",
   "execution_count": 151,
   "id": "19631849",
   "metadata": {},
   "outputs": [
    {
     "name": "stdout",
     "output_type": "stream",
     "text": [
      "Elf with damage = 100\n"
     ]
    }
   ],
   "source": [
    "print(c)"
   ]
  },
  {
   "cell_type": "code",
   "execution_count": 148,
   "id": "13094856",
   "metadata": {},
   "outputs": [
    {
     "data": {
      "text/plain": [
       "True"
      ]
     },
     "execution_count": 148,
     "metadata": {},
     "output_type": "execute_result"
    }
   ],
   "source": [
    "d = eval(repr(c))\n",
    "c == d"
   ]
  },
  {
   "cell_type": "code",
   "execution_count": 156,
   "id": "02d3a550",
   "metadata": {},
   "outputs": [
    {
     "name": "stdout",
     "output_type": "stream",
     "text": [
      "[1, 2, 3, [4, 5, 6, 7]]\n",
      "[1, 2, 3, [4, 5, 6, 7]]\n"
     ]
    }
   ],
   "source": [
    "list1 = [1,2,3,[4,5,6]]\n",
    "copied_list = list1.copy()\n",
    "copied_list[3].append(7)\n",
    "\n",
    "print(list1)\n",
    "print(copied_list)"
   ]
  },
  {
   "cell_type": "code",
   "execution_count": 157,
   "id": "e2feb340",
   "metadata": {},
   "outputs": [],
   "source": [
    "list1.append(8)"
   ]
  },
  {
   "cell_type": "code",
   "execution_count": 158,
   "id": "28d2ff35",
   "metadata": {},
   "outputs": [
    {
     "name": "stdout",
     "output_type": "stream",
     "text": [
      "[1, 2, 3, [4, 5, 6, 7], 8]\n",
      "[1, 2, 3, [4, 5, 6, 7]]\n"
     ]
    }
   ],
   "source": [
    "print(list1)\n",
    "print(copied_list)"
   ]
  },
  {
   "cell_type": "code",
   "execution_count": 159,
   "id": "5f020da7",
   "metadata": {},
   "outputs": [],
   "source": [
    "list1[3].append(9)"
   ]
  },
  {
   "cell_type": "code",
   "execution_count": 160,
   "id": "9eafe056",
   "metadata": {},
   "outputs": [
    {
     "name": "stdout",
     "output_type": "stream",
     "text": [
      "[1, 2, 3, [4, 5, 6, 7, 9], 8]\n",
      "[1, 2, 3, [4, 5, 6, 7, 9]]\n"
     ]
    }
   ],
   "source": [
    "print(list1)\n",
    "print(copied_list)"
   ]
  },
  {
   "cell_type": "code",
   "execution_count": 6,
   "id": "cb70b024",
   "metadata": {},
   "outputs": [],
   "source": [
    "import copy"
   ]
  },
  {
   "cell_type": "code",
   "execution_count": 162,
   "id": "6aead1fd",
   "metadata": {},
   "outputs": [],
   "source": [
    "shallow_copy = copy.copy(list1)\n",
    "shallow_copy[3].append(8)"
   ]
  },
  {
   "cell_type": "code",
   "execution_count": 163,
   "id": "c9bd7fa7",
   "metadata": {},
   "outputs": [
    {
     "name": "stdout",
     "output_type": "stream",
     "text": [
      "[1, 2, 3, [4, 5, 6, 7, 9, 8], 8]\n",
      "[1, 2, 3, [4, 5, 6, 7, 9, 8], 8]\n"
     ]
    }
   ],
   "source": [
    "print(list1)\n",
    "print(shallow_copy)"
   ]
  },
  {
   "cell_type": "code",
   "execution_count": 165,
   "id": "f1aa5a7b",
   "metadata": {},
   "outputs": [],
   "source": [
    "deep_copy = copy.deepcopy(list1)\n",
    "deep_copy[3].append(10)"
   ]
  },
  {
   "cell_type": "code",
   "execution_count": 166,
   "id": "1876b3d9",
   "metadata": {},
   "outputs": [
    {
     "name": "stdout",
     "output_type": "stream",
     "text": [
      "[1, 2, 3, [4, 5, 6, 7, 9, 8], 8]\n",
      "[1, 2, 3, [4, 5, 6, 7, 9, 8, 10], 8]\n"
     ]
    }
   ],
   "source": [
    "print(list1)\n",
    "print(deep_copy)"
   ]
  },
  {
   "cell_type": "code",
   "execution_count": 7,
   "id": "556b8a8b",
   "metadata": {},
   "outputs": [],
   "source": [
    "class Point():\n",
    "    def __init__(self, x, y):\n",
    "        self.x = x\n",
    "        self.y = y\n",
    "        \n",
    "    def __repr__(self):\n",
    "        return f'Point({self.x}, {self.y})'"
   ]
  },
  {
   "cell_type": "code",
   "execution_count": 19,
   "id": "08041e30",
   "metadata": {},
   "outputs": [],
   "source": [
    "a = Point(1,2)\n",
    "b = copy.copy(a)"
   ]
  },
  {
   "cell_type": "code",
   "execution_count": 20,
   "id": "f4129b02",
   "metadata": {},
   "outputs": [],
   "source": [
    "a.x = 3"
   ]
  },
  {
   "cell_type": "code",
   "execution_count": 21,
   "id": "494b397d",
   "metadata": {},
   "outputs": [
    {
     "name": "stdout",
     "output_type": "stream",
     "text": [
      "Point(3, 2)\n",
      "Point(1, 2)\n"
     ]
    }
   ],
   "source": [
    "print(a)\n",
    "print(b)"
   ]
  },
  {
   "cell_type": "code",
   "execution_count": 22,
   "id": "dce6a10b",
   "metadata": {},
   "outputs": [],
   "source": [
    "class Line():\n",
    "    \n",
    "    def __init__(self, p1, p2):\n",
    "        self.p1 = p1\n",
    "        self.p2 = p2\n",
    "\n",
    "    def __copy__(self):\n",
    "        cls = self.__class__\n",
    "        result = cls.__new__(cls)\n",
    "        result.__dict__.update(self.__dict__)\n",
    "        return result\n",
    "    def __deepcopy__(self,memo):\n",
    "        cls = self.__class__\n",
    "        result = cls.__new__(cls)\n",
    "        memo[id(self)] = result\n",
    "        \n",
    "        for k, v in self.__dict__.items():\n",
    "            setattr(result, k, copy.deepcopy(v,memo))\n",
    "        return result"
   ]
  },
  {
   "cell_type": "code",
   "execution_count": 23,
   "id": "88b2748b",
   "metadata": {},
   "outputs": [
    {
     "name": "stdout",
     "output_type": "stream",
     "text": [
      "Point(3, 2)\n",
      "Point(3, 2)\n"
     ]
    }
   ],
   "source": [
    "l1 = Line(a,b)\n",
    "l2 = copy.deepcopy(l1)\n",
    "\n",
    "print(l1.p1)\n",
    "print(l2.p1)"
   ]
  },
  {
   "cell_type": "code",
   "execution_count": 13,
   "id": "d39033c5",
   "metadata": {},
   "outputs": [],
   "source": [
    "l1.p1.x = 4"
   ]
  },
  {
   "cell_type": "code",
   "execution_count": 14,
   "id": "d007a5e3",
   "metadata": {},
   "outputs": [
    {
     "name": "stdout",
     "output_type": "stream",
     "text": [
      "Point(4, 2)\n",
      "Point(4, 2)\n"
     ]
    }
   ],
   "source": [
    "print(l1.p1)\n",
    "print(l2.p1)"
   ]
  },
  {
   "cell_type": "code",
   "execution_count": 18,
   "id": "b8d37cb5",
   "metadata": {},
   "outputs": [
    {
     "name": "stdout",
     "output_type": "stream",
     "text": [
      "Point(6, 2)\n",
      "Point(6, 2)\n",
      "\n",
      "Point(6, 2)\n",
      "Point(6, 2)\n"
     ]
    }
   ],
   "source": [
    "l1 = Line(a,b)\n",
    "l2 = copy.deepcopy(l1)\n",
    "print(l1.p1)\n",
    "print(l2.p1)\n",
    "\n",
    "l1.p1.x = 6\n",
    "print()\n",
    "print(l1.p1)\n",
    "print(l2.p1)\n"
   ]
  },
  {
   "cell_type": "code",
   "execution_count": 189,
   "id": "7f14c968",
   "metadata": {},
   "outputs": [],
   "source": [
    "from enum import Enum"
   ]
  },
  {
   "cell_type": "code",
   "execution_count": 190,
   "id": "c3563034",
   "metadata": {},
   "outputs": [],
   "source": [
    "class TrafficLight(Enum):\n",
    "    RED = 1\n",
    "    YELLOW = 2\n",
    "    GREEN = 3"
   ]
  },
  {
   "cell_type": "code",
   "execution_count": 191,
   "id": "f4dda571",
   "metadata": {},
   "outputs": [
    {
     "data": {
      "text/plain": [
       "<TrafficLight.RED: 1>"
      ]
     },
     "execution_count": 191,
     "metadata": {},
     "output_type": "execute_result"
    }
   ],
   "source": [
    "TrafficLight.RED"
   ]
  },
  {
   "cell_type": "code",
   "execution_count": 192,
   "id": "dbd6aadf",
   "metadata": {},
   "outputs": [
    {
     "name": "stdout",
     "output_type": "stream",
     "text": [
      "TrafficLight.RED\n"
     ]
    }
   ],
   "source": [
    "print(TrafficLight.RED)"
   ]
  },
  {
   "cell_type": "code",
   "execution_count": 193,
   "id": "91255aca",
   "metadata": {},
   "outputs": [
    {
     "name": "stdout",
     "output_type": "stream",
     "text": [
      "RED\n",
      "1\n"
     ]
    }
   ],
   "source": [
    "print(TrafficLight.RED.name)\n",
    "print(TrafficLight.RED.value)"
   ]
  },
  {
   "cell_type": "code",
   "execution_count": 194,
   "id": "c9c99474",
   "metadata": {},
   "outputs": [
    {
     "name": "stdout",
     "output_type": "stream",
     "text": [
      "TrafficLight.RED\n",
      "TrafficLight.YELLOW\n",
      "TrafficLight.GREEN\n"
     ]
    }
   ],
   "source": [
    "for c in TrafficLight:\n",
    "    print(c)"
   ]
  },
  {
   "cell_type": "code",
   "execution_count": 196,
   "id": "a4d90014",
   "metadata": {},
   "outputs": [
    {
     "data": {
      "text/plain": [
       "<TrafficLight.RED: 1>"
      ]
     },
     "execution_count": 196,
     "metadata": {},
     "output_type": "execute_result"
    }
   ],
   "source": [
    "TrafficLight(1)"
   ]
  },
  {
   "cell_type": "code",
   "execution_count": 197,
   "id": "6ae77497",
   "metadata": {},
   "outputs": [
    {
     "data": {
      "text/plain": [
       "<TrafficLight.RED: 1>"
      ]
     },
     "execution_count": 197,
     "metadata": {},
     "output_type": "execute_result"
    }
   ],
   "source": [
    "TrafficLight['RED']"
   ]
  },
  {
   "cell_type": "code",
   "execution_count": 198,
   "id": "285ccbee",
   "metadata": {},
   "outputs": [
    {
     "name": "stdout",
     "output_type": "stream",
     "text": [
      "True\n"
     ]
    }
   ],
   "source": [
    "print(TrafficLight.RED == TrafficLight.RED)"
   ]
  },
  {
   "cell_type": "code",
   "execution_count": 199,
   "id": "78d8e8ff",
   "metadata": {},
   "outputs": [
    {
     "name": "stdout",
     "output_type": "stream",
     "text": [
      "False\n"
     ]
    }
   ],
   "source": [
    "print(TrafficLight.RED == TrafficLight.GREEN)"
   ]
  },
  {
   "cell_type": "code",
   "execution_count": 200,
   "id": "900a6fbb",
   "metadata": {},
   "outputs": [],
   "source": [
    "from enum import IntEnum"
   ]
  },
  {
   "cell_type": "code",
   "execution_count": 201,
   "id": "9bb38b9b",
   "metadata": {},
   "outputs": [],
   "source": [
    "class Priority(IntEnum):\n",
    "    LOW = 1\n",
    "    NORMAL = 2\n",
    "    HI = 3"
   ]
  },
  {
   "cell_type": "code",
   "execution_count": 202,
   "id": "aedc5fff",
   "metadata": {},
   "outputs": [
    {
     "data": {
      "text/plain": [
       "True"
      ]
     },
     "execution_count": 202,
     "metadata": {},
     "output_type": "execute_result"
    }
   ],
   "source": [
    "Priority.LOW < Priority.NORMAL"
   ]
  },
  {
   "cell_type": "code",
   "execution_count": 203,
   "id": "ec6b3f6a",
   "metadata": {},
   "outputs": [],
   "source": [
    "from enum import IntFlag\n",
    "\n",
    "class Color(IntFlag):\n",
    "    RED = 1\n",
    "    GREEN = 2\n",
    "    BLUE = 4"
   ]
  },
  {
   "cell_type": "code",
   "execution_count": 204,
   "id": "9fd2ff81",
   "metadata": {},
   "outputs": [],
   "source": [
    "combination = Color.RED | Color.GREEN"
   ]
  },
  {
   "cell_type": "code",
   "execution_count": 205,
   "id": "5a0ea30d",
   "metadata": {},
   "outputs": [
    {
     "data": {
      "text/plain": [
       "<Color.GREEN|RED: 3>"
      ]
     },
     "execution_count": 205,
     "metadata": {},
     "output_type": "execute_result"
    }
   ],
   "source": [
    "combination"
   ]
  },
  {
   "cell_type": "code",
   "execution_count": 206,
   "id": "e2edbf43",
   "metadata": {},
   "outputs": [
    {
     "data": {
      "text/plain": [
       "True"
      ]
     },
     "execution_count": 206,
     "metadata": {},
     "output_type": "execute_result"
    }
   ],
   "source": [
    "Color.RED in combination"
   ]
  },
  {
   "cell_type": "code",
   "execution_count": 219,
   "id": "a13b8b39",
   "metadata": {},
   "outputs": [],
   "source": [
    "class Planet(Enum):\n",
    "    MERCURY = (3.303e+23, 2.4397e6)\n",
    "    EARTH = (5.976e+24, 6.37814e6)\n",
    "    JUPITER = (1.9e+27, 7.1492e7)\n",
    "    \n",
    "    def __init__(self,mass,radius):\n",
    "        self.mass = mass\n",
    "        self.radius = radius\n",
    "        \n",
    "    @property\n",
    "    def surface_gravity(self):\n",
    "        G = 6.67300E-11\n",
    "        return G * self.mass / (self.radius * self.radius)"
   ]
  },
  {
   "cell_type": "code",
   "execution_count": 220,
   "id": "1e77e2b6",
   "metadata": {},
   "outputs": [
    {
     "data": {
      "text/plain": [
       "(5.976e+24, 6378140.0)"
      ]
     },
     "execution_count": 220,
     "metadata": {},
     "output_type": "execute_result"
    }
   ],
   "source": [
    "Planet.EARTH.value"
   ]
  },
  {
   "cell_type": "code",
   "execution_count": 222,
   "id": "53d16197",
   "metadata": {},
   "outputs": [
    {
     "data": {
      "text/plain": [
       "9.802652743337129"
      ]
     },
     "execution_count": 222,
     "metadata": {},
     "output_type": "execute_result"
    }
   ],
   "source": [
    "Planet.EARTH.surface_gravity"
   ]
  },
  {
   "cell_type": "code",
   "execution_count": 223,
   "id": "c2874fd2",
   "metadata": {},
   "outputs": [
    {
     "data": {
      "text/plain": [
       "3.7030267229659395"
      ]
     },
     "execution_count": 223,
     "metadata": {},
     "output_type": "execute_result"
    }
   ],
   "source": [
    "Planet.MERCURY.surface_gravity"
   ]
  },
  {
   "cell_type": "code",
   "execution_count": 2,
   "id": "84ccf28f",
   "metadata": {},
   "outputs": [],
   "source": [
    "import json"
   ]
  },
  {
   "cell_type": "code",
   "execution_count": 3,
   "id": "1c5fc2b2",
   "metadata": {},
   "outputs": [],
   "source": [
    "class Tournament:\n",
    "    def __init__(self, name, year):\n",
    "        self.name = name\n",
    "        self.year = year"
   ]
  },
  {
   "cell_type": "code",
   "execution_count": 4,
   "id": "db356791",
   "metadata": {},
   "outputs": [
    {
     "name": "stdout",
     "output_type": "stream",
     "text": [
      "{\n",
      "  \"Aeroflot Open\": 2010,\n",
      "  \"FIDE World Cup\": 2018,\n",
      "  \"FIDE Grand Prix\": 2016\n",
      "}\n",
      "<class 'dict'>\n",
      "{'Aeroflot Open': 2010, 'FIDE World Cup': 2018, 'FIDE Grand Prix': 2016}\n"
     ]
    }
   ],
   "source": [
    "tournaments = {\n",
    "    \"Aeroflot Open\": 2010,\n",
    "    \"FIDE World Cup\": 2018,\n",
    "    \"FIDE Grand Prix\": 2016    \n",
    "}\n",
    "\n",
    "json_data = json.dumps(tournaments, indent = 2)# serialization\n",
    "print(json_data)\n",
    "\n",
    "loaded = json.loads(json_data) #desirialization\n",
    "print(type(loaded))\n",
    "print(loaded)"
   ]
  },
  {
   "cell_type": "code",
   "execution_count": 5,
   "id": "1a121e39",
   "metadata": {},
   "outputs": [
    {
     "ename": "TypeError",
     "evalue": "Object of type Tournament is not JSON serializable",
     "output_type": "error",
     "traceback": [
      "\u001b[0;31m---------------------------------------------------------------------------\u001b[0m",
      "\u001b[0;31mTypeError\u001b[0m                                 Traceback (most recent call last)",
      "\u001b[0;32m/var/folders/82/8prxbgf53bz3dt6dhjymb2ch0000gn/T/ipykernel_22811/2689090691.py\u001b[0m in \u001b[0;36m<module>\u001b[0;34m\u001b[0m\n\u001b[1;32m      1\u001b[0m \u001b[0mt1\u001b[0m \u001b[0;34m=\u001b[0m \u001b[0mTournament\u001b[0m\u001b[0;34m(\u001b[0m\u001b[0;34m\"Aeroflot Open\"\u001b[0m\u001b[0;34m,\u001b[0m \u001b[0;36m2010\u001b[0m\u001b[0;34m)\u001b[0m\u001b[0;34m\u001b[0m\u001b[0;34m\u001b[0m\u001b[0m\n\u001b[0;32m----> 2\u001b[0;31m \u001b[0mjson_data\u001b[0m \u001b[0;34m=\u001b[0m \u001b[0mjson\u001b[0m\u001b[0;34m.\u001b[0m\u001b[0mdumps\u001b[0m\u001b[0;34m(\u001b[0m\u001b[0mt1\u001b[0m\u001b[0;34m)\u001b[0m\u001b[0;34m\u001b[0m\u001b[0;34m\u001b[0m\u001b[0m\n\u001b[0m",
      "\u001b[0;32m~/opt/anaconda3/lib/python3.9/json/__init__.py\u001b[0m in \u001b[0;36mdumps\u001b[0;34m(obj, skipkeys, ensure_ascii, check_circular, allow_nan, cls, indent, separators, default, sort_keys, **kw)\u001b[0m\n\u001b[1;32m    229\u001b[0m         \u001b[0mcls\u001b[0m \u001b[0;32mis\u001b[0m \u001b[0;32mNone\u001b[0m \u001b[0;32mand\u001b[0m \u001b[0mindent\u001b[0m \u001b[0;32mis\u001b[0m \u001b[0;32mNone\u001b[0m \u001b[0;32mand\u001b[0m \u001b[0mseparators\u001b[0m \u001b[0;32mis\u001b[0m \u001b[0;32mNone\u001b[0m \u001b[0;32mand\u001b[0m\u001b[0;34m\u001b[0m\u001b[0;34m\u001b[0m\u001b[0m\n\u001b[1;32m    230\u001b[0m         default is None and not sort_keys and not kw):\n\u001b[0;32m--> 231\u001b[0;31m         \u001b[0;32mreturn\u001b[0m \u001b[0m_default_encoder\u001b[0m\u001b[0;34m.\u001b[0m\u001b[0mencode\u001b[0m\u001b[0;34m(\u001b[0m\u001b[0mobj\u001b[0m\u001b[0;34m)\u001b[0m\u001b[0;34m\u001b[0m\u001b[0;34m\u001b[0m\u001b[0m\n\u001b[0m\u001b[1;32m    232\u001b[0m     \u001b[0;32mif\u001b[0m \u001b[0mcls\u001b[0m \u001b[0;32mis\u001b[0m \u001b[0;32mNone\u001b[0m\u001b[0;34m:\u001b[0m\u001b[0;34m\u001b[0m\u001b[0;34m\u001b[0m\u001b[0m\n\u001b[1;32m    233\u001b[0m         \u001b[0mcls\u001b[0m \u001b[0;34m=\u001b[0m \u001b[0mJSONEncoder\u001b[0m\u001b[0;34m\u001b[0m\u001b[0;34m\u001b[0m\u001b[0m\n",
      "\u001b[0;32m~/opt/anaconda3/lib/python3.9/json/encoder.py\u001b[0m in \u001b[0;36mencode\u001b[0;34m(self, o)\u001b[0m\n\u001b[1;32m    197\u001b[0m         \u001b[0;31m# exceptions aren't as detailed.  The list call should be roughly\u001b[0m\u001b[0;34m\u001b[0m\u001b[0;34m\u001b[0m\u001b[0m\n\u001b[1;32m    198\u001b[0m         \u001b[0;31m# equivalent to the PySequence_Fast that ''.join() would do.\u001b[0m\u001b[0;34m\u001b[0m\u001b[0;34m\u001b[0m\u001b[0m\n\u001b[0;32m--> 199\u001b[0;31m         \u001b[0mchunks\u001b[0m \u001b[0;34m=\u001b[0m \u001b[0mself\u001b[0m\u001b[0;34m.\u001b[0m\u001b[0miterencode\u001b[0m\u001b[0;34m(\u001b[0m\u001b[0mo\u001b[0m\u001b[0;34m,\u001b[0m \u001b[0m_one_shot\u001b[0m\u001b[0;34m=\u001b[0m\u001b[0;32mTrue\u001b[0m\u001b[0;34m)\u001b[0m\u001b[0;34m\u001b[0m\u001b[0;34m\u001b[0m\u001b[0m\n\u001b[0m\u001b[1;32m    200\u001b[0m         \u001b[0;32mif\u001b[0m \u001b[0;32mnot\u001b[0m \u001b[0misinstance\u001b[0m\u001b[0;34m(\u001b[0m\u001b[0mchunks\u001b[0m\u001b[0;34m,\u001b[0m \u001b[0;34m(\u001b[0m\u001b[0mlist\u001b[0m\u001b[0;34m,\u001b[0m \u001b[0mtuple\u001b[0m\u001b[0;34m)\u001b[0m\u001b[0;34m)\u001b[0m\u001b[0;34m:\u001b[0m\u001b[0;34m\u001b[0m\u001b[0;34m\u001b[0m\u001b[0m\n\u001b[1;32m    201\u001b[0m             \u001b[0mchunks\u001b[0m \u001b[0;34m=\u001b[0m \u001b[0mlist\u001b[0m\u001b[0;34m(\u001b[0m\u001b[0mchunks\u001b[0m\u001b[0;34m)\u001b[0m\u001b[0;34m\u001b[0m\u001b[0;34m\u001b[0m\u001b[0m\n",
      "\u001b[0;32m~/opt/anaconda3/lib/python3.9/json/encoder.py\u001b[0m in \u001b[0;36miterencode\u001b[0;34m(self, o, _one_shot)\u001b[0m\n\u001b[1;32m    255\u001b[0m                 \u001b[0mself\u001b[0m\u001b[0;34m.\u001b[0m\u001b[0mkey_separator\u001b[0m\u001b[0;34m,\u001b[0m \u001b[0mself\u001b[0m\u001b[0;34m.\u001b[0m\u001b[0mitem_separator\u001b[0m\u001b[0;34m,\u001b[0m \u001b[0mself\u001b[0m\u001b[0;34m.\u001b[0m\u001b[0msort_keys\u001b[0m\u001b[0;34m,\u001b[0m\u001b[0;34m\u001b[0m\u001b[0;34m\u001b[0m\u001b[0m\n\u001b[1;32m    256\u001b[0m                 self.skipkeys, _one_shot)\n\u001b[0;32m--> 257\u001b[0;31m         \u001b[0;32mreturn\u001b[0m \u001b[0m_iterencode\u001b[0m\u001b[0;34m(\u001b[0m\u001b[0mo\u001b[0m\u001b[0;34m,\u001b[0m \u001b[0;36m0\u001b[0m\u001b[0;34m)\u001b[0m\u001b[0;34m\u001b[0m\u001b[0;34m\u001b[0m\u001b[0m\n\u001b[0m\u001b[1;32m    258\u001b[0m \u001b[0;34m\u001b[0m\u001b[0m\n\u001b[1;32m    259\u001b[0m def _make_iterencode(markers, _default, _encoder, _indent, _floatstr,\n",
      "\u001b[0;32m~/opt/anaconda3/lib/python3.9/json/encoder.py\u001b[0m in \u001b[0;36mdefault\u001b[0;34m(self, o)\u001b[0m\n\u001b[1;32m    177\u001b[0m \u001b[0;34m\u001b[0m\u001b[0m\n\u001b[1;32m    178\u001b[0m         \"\"\"\n\u001b[0;32m--> 179\u001b[0;31m         raise TypeError(f'Object of type {o.__class__.__name__} '\n\u001b[0m\u001b[1;32m    180\u001b[0m                         f'is not JSON serializable')\n\u001b[1;32m    181\u001b[0m \u001b[0;34m\u001b[0m\u001b[0m\n",
      "\u001b[0;31mTypeError\u001b[0m: Object of type Tournament is not JSON serializable"
     ]
    }
   ],
   "source": [
    "t1 = Tournament(\"Aeroflot Open\", 2010)\n",
    "json_data = json.dumps(t1)\n"
   ]
  },
  {
   "cell_type": "code",
   "execution_count": 15,
   "id": "01e71e89",
   "metadata": {},
   "outputs": [
    {
     "name": "stdout",
     "output_type": "stream",
     "text": [
      "{\"name\": \"Aeroflot Open\", \"year\": 2010}\n",
      "{'name': 'Aeroflot Open', 'year': 2010}\n"
     ]
    }
   ],
   "source": [
    "json_data = json.dumps(t1.__dict__)\n",
    "print(json_data)\n",
    "t = Tournament(**json.loads(json_data))\n",
    "\n",
    "print(f\"name = {t.name}, year = {t.year}\\n\", type(t))"
   ]
  },
  {
   "cell_type": "code",
   "execution_count": 7,
   "id": "85a0c392",
   "metadata": {},
   "outputs": [],
   "source": [
    "class ChessPlayer:\n",
    "    \n",
    "    def __init__(self, tournaments):\n",
    "        self.tournaments = tournaments"
   ]
  },
  {
   "cell_type": "code",
   "execution_count": 8,
   "id": "fe570cac",
   "metadata": {},
   "outputs": [],
   "source": [
    "t1 = Tournament(\"Aeroflot Open\", 2010)\n",
    "t2 = Tournament(\"FIDE World Cup\", 2018)\n",
    "t3 = Tournament(\"FIDE Grand Prix\", 2016)\n",
    "\n",
    "p1 = ChessPlayer([t1, t2, t3])"
   ]
  },
  {
   "cell_type": "code",
   "execution_count": 9,
   "id": "f93778b2",
   "metadata": {},
   "outputs": [
    {
     "name": "stdout",
     "output_type": "stream",
     "text": [
      "{\"tournaments\": [{\"name\": \"Aeroflot Open\", \"year\": 2010}, {\"name\": \"FIDE World Cup\", \"year\": 2018}, {\"name\": \"FIDE Grand Prix\", \"year\": 2016}]}\n"
     ]
    }
   ],
   "source": [
    "json_data = json.dumps(p1, default = lambda obj: obj.__dict__)\n",
    "\n",
    "print(json_data)"
   ]
  },
  {
   "cell_type": "code",
   "execution_count": 10,
   "id": "64f5b2f4",
   "metadata": {},
   "outputs": [
    {
     "name": "stdout",
     "output_type": "stream",
     "text": [
      "<__main__.ChessPlayer object at 0x7fbc10a23ee0>\n"
     ]
    }
   ],
   "source": [
    "decoded_player = ChessPlayer(**json.loads(json_data))\n",
    "print(decoded_player)"
   ]
  },
  {
   "cell_type": "code",
   "execution_count": 11,
   "id": "05e3c18d",
   "metadata": {},
   "outputs": [
    {
     "name": "stdout",
     "output_type": "stream",
     "text": [
      "<class 'dict'>\n",
      "{'name': 'Aeroflot Open', 'year': 2010}\n"
     ]
    }
   ],
   "source": [
    "player_tournament = decoded_player.tournaments[0]\n",
    "print(type(player_tournament))\n",
    "print(player_tournament)"
   ]
  },
  {
   "cell_type": "code",
   "execution_count": 12,
   "id": "8b17b33c",
   "metadata": {},
   "outputs": [
    {
     "name": "stdout",
     "output_type": "stream",
     "text": [
      "<class 'str'> \n",
      "\n",
      "{\n",
      "    \"tournaments\": [\n",
      "        {\n",
      "            \"name\": \"Aeroflot Open\",\n",
      "            \"year\": 2010\n",
      "        },\n",
      "        {\n",
      "            \"name\": \"FIDE World Cup\",\n",
      "            \"year\": 2018\n",
      "        },\n",
      "        {\n",
      "            \"name\": \"FIDE Grand Prix\",\n",
      "            \"year\": 2016\n",
      "        }\n",
      "    ]\n",
      "}\n",
      "<__main__.ChessPlayer object at 0x7fbc20812e80>\n",
      "[<__main__.Tournament object at 0x7fbc20812df0>, <__main__.Tournament object at 0x7fbc10a23970>, <__main__.Tournament object at 0x7fbc10a239a0>]\n"
     ]
    }
   ],
   "source": [
    "class Tournament:\n",
    "    def __init__(self, name, year):\n",
    "        self.name = name\n",
    "        self.year = year\n",
    "        \n",
    "    @classmethod\n",
    "    def from_json(cls,json_data):\n",
    "        return cls(**json_data)\n",
    "    \n",
    "class ChessPlayer:\n",
    "    \n",
    "    def __init__(self, tournaments):\n",
    "        self.tournaments = tournaments\n",
    "        \n",
    "    @classmethod\n",
    "    def from_json(cls,json_data):\n",
    "        tournaments = list(map(Tournament.from_json, json_data[\"tournaments\"]))\n",
    "        return cls(tournaments)\n",
    "        \n",
    "        \n",
    "t1 = Tournament(\"Aeroflot Open\", 2010)\n",
    "t2 = Tournament(\"FIDE World Cup\", 2018)\n",
    "t3 = Tournament(\"FIDE Grand Prix\", 2016)\n",
    "\n",
    "p1 = ChessPlayer([t1, t2, t3])\n",
    "\n",
    "json_data = json.dumps(p1, default = lambda obj: obj.__dict__,indent = 4, sort_keys = True)\n",
    "print(type(json_data),'\\n')\n",
    "print(json_data)\n",
    "\n",
    "decoded_player = ChessPlayer.from_json(json.loads(json_data))\n",
    "print(decoded_player)\n",
    "print(decoded_player.tournaments)"
   ]
  },
  {
   "cell_type": "code",
   "execution_count": 8,
   "id": "8aa15cb7",
   "metadata": {},
   "outputs": [
    {
     "name": "stdout",
     "output_type": "stream",
     "text": [
      "{'tournaments': [{'name': 'Aeroflot Open', 'year': 2010}, {'name': 'FIDE World Cup', 'year': 2018}, {'name': 'FIDE Grand Prix', 'year': 2016}]}\n"
     ]
    }
   ],
   "source": [
    "with open(\"player.json\",\"w\") as file:\n",
    "    json.dump(p1, file, default = lambda obj: obj.__dict__)\n",
    "with open(\"player.json\",\"r\") as read_file:\n",
    "    data = json.load(read_file)\n",
    "print(data)"
   ]
  },
  {
   "cell_type": "code",
   "execution_count": 9,
   "id": "9cc3ccd4",
   "metadata": {
    "scrolled": true
   },
   "outputs": [
    {
     "name": "stdout",
     "output_type": "stream",
     "text": [
      "<__main__.ChessPlayer object at 0x7fbc309061c0>\n",
      "[<__main__.Tournament object at 0x7fbc30906700>, <__main__.Tournament object at 0x7fbc30906490>, <__main__.Tournament object at 0x7fbc30906b20>]\n"
     ]
    }
   ],
   "source": [
    "decoded_player = ChessPlayer.from_json(data)\n",
    "print(decoded_player)\n",
    "print(decoded_player.tournaments)"
   ]
  },
  {
   "cell_type": "markdown",
   "id": "9eb07d4e",
   "metadata": {},
   "source": [
    "## Second time\n"
   ]
  },
  {
   "cell_type": "code",
   "execution_count": 37,
   "id": "57562ef3",
   "metadata": {},
   "outputs": [],
   "source": [
    "import requests\n",
    "import json\n",
    "\n",
    "\n",
    "class Tournament:\n",
    "    def __init__(self, name, year):\n",
    "        self.name = name\n",
    "        self.year = year\n",
    "        \n",
    "    @classmethod\n",
    "    def from_json(cls,json_data):\n",
    "        return cls(**json_data)\n",
    "    \n",
    "class ChessPlayer:\n",
    "    \n",
    "    def __init__(self, tournaments):\n",
    "        self.tournaments = tournaments\n",
    "        \n",
    "    @classmethod\n",
    "    def from_json(cls,json_data):\n",
    "        tournaments = list(map(Tournament.from_json, json_data[\"tournaments\"]))\n",
    "        return cls(tournaments)\n",
    "        \n",
    "        \n",
    "t1 = Tournament(\"Aeroflot Open\", 2010)\n",
    "t2 = Tournament(\"FIDE World Cup\", 2018)\n",
    "t3 = Tournament(\"FIDE Grand Prix\", 2016)\n",
    "\n",
    "p1 = ChessPlayer([t1, t2, t3])\n",
    "\n",
    "json_data = json.dumps(p1, default = lambda obj: obj.__dict__,indent = 4, sort_keys = True)"
   ]
  },
  {
   "cell_type": "code",
   "execution_count": 71,
   "id": "48f7fb45",
   "metadata": {},
   "outputs": [],
   "source": [
    "response = requests.post('https://httpbin.org/post', json=json_data)"
   ]
  },
  {
   "cell_type": "code",
   "execution_count": 72,
   "id": "6259f737",
   "metadata": {},
   "outputs": [],
   "source": [
    "json_response = response.json()"
   ]
  },
  {
   "cell_type": "code",
   "execution_count": 73,
   "id": "61fcd8a7",
   "metadata": {},
   "outputs": [
    {
     "data": {
      "text/plain": [
       "{'args': {},\n",
       " 'data': '\"{\\\\n    \\\\\"tournaments\\\\\": [\\\\n        {\\\\n            \\\\\"name\\\\\": \\\\\"Aeroflot Open\\\\\",\\\\n            \\\\\"year\\\\\": 2010\\\\n        },\\\\n        {\\\\n            \\\\\"name\\\\\": \\\\\"FIDE World Cup\\\\\",\\\\n            \\\\\"year\\\\\": 2018\\\\n        },\\\\n        {\\\\n            \\\\\"name\\\\\": \\\\\"FIDE Grand Prix\\\\\",\\\\n            \\\\\"year\\\\\": 2016\\\\n        }\\\\n    ]\\\\n}\"',\n",
       " 'files': {},\n",
       " 'form': {},\n",
       " 'headers': {'Accept': '*/*',\n",
       "  'Accept-Encoding': 'gzip, deflate, br',\n",
       "  'Content-Length': '318',\n",
       "  'Content-Type': 'application/json',\n",
       "  'Host': 'httpbin.org',\n",
       "  'User-Agent': 'python-requests/2.26.0',\n",
       "  'X-Amzn-Trace-Id': 'Root=1-61c38b49-183378287fc7a3432894c79c'},\n",
       " 'json': '{\\n    \"tournaments\": [\\n        {\\n            \"name\": \"Aeroflot Open\",\\n            \"year\": 2010\\n        },\\n        {\\n            \"name\": \"FIDE World Cup\",\\n            \"year\": 2018\\n        },\\n        {\\n            \"name\": \"FIDE Grand Prix\",\\n            \"year\": 2016\\n        }\\n    ]\\n}',\n",
       " 'origin': '46.50.179.40',\n",
       " 'url': 'https://httpbin.org/post'}"
      ]
     },
     "execution_count": 73,
     "metadata": {},
     "output_type": "execute_result"
    }
   ],
   "source": [
    "json_response\n"
   ]
  },
  {
   "cell_type": "code",
   "execution_count": 55,
   "id": "89734ce9",
   "metadata": {},
   "outputs": [
    {
     "name": "stdout",
     "output_type": "stream",
     "text": [
      "\"{\\n    \\\"tournaments\\\": [\\n        {\\n            \\\"name\\\": \\\"Aeroflot Open\\\",\\n            \\\"year\\\": 2010\\n        },\\n        {\\n            \\\"name\\\": \\\"FIDE World Cup\\\",\\n            \\\"year\\\": 2018\\n        },\\n        {\\n            \\\"name\\\": \\\"FIDE Grand Prix\\\",\\n            \\\"year\\\": 2016\\n        }\\n    ]\\n}\"\n"
     ]
    }
   ],
   "source": [
    "print(json_response['data'])"
   ]
  },
  {
   "cell_type": "code",
   "execution_count": 56,
   "id": "38518cf0",
   "metadata": {},
   "outputs": [
    {
     "data": {
      "text/plain": [
       "'application/json'"
      ]
     },
     "execution_count": 56,
     "metadata": {},
     "output_type": "execute_result"
    }
   ],
   "source": [
    "json_response['headers']['Content-Type']"
   ]
  },
  {
   "cell_type": "code",
   "execution_count": 57,
   "id": "db775cba",
   "metadata": {},
   "outputs": [
    {
     "name": "stdout",
     "output_type": "stream",
     "text": [
      "········\n"
     ]
    }
   ],
   "source": [
    "from getpass import getpass\n",
    "auth_response = requests.get('https://api.github.com/user', auth=('user', getpass()))"
   ]
  },
  {
   "cell_type": "code",
   "execution_count": 61,
   "id": "eb00b0df",
   "metadata": {},
   "outputs": [],
   "source": [
    "from requests.exceptions import Timeout\n",
    "\n",
    "try:\n",
    "    response = requests.get('https://www.engineerspock.com', timeout = 10)\n",
    "except Timeout:\n",
    "    print('Time is out')"
   ]
  },
  {
   "cell_type": "code",
   "execution_count": 62,
   "id": "faf4a365",
   "metadata": {},
   "outputs": [
    {
     "data": {
      "text/plain": [
       "<Response [200]>"
      ]
     },
     "execution_count": 62,
     "metadata": {},
     "output_type": "execute_result"
    }
   ],
   "source": [
    "response"
   ]
  },
  {
   "cell_type": "code",
   "execution_count": 66,
   "id": "6c6f693c",
   "metadata": {},
   "outputs": [
    {
     "name": "stdout",
     "output_type": "stream",
     "text": [
      "········\n"
     ]
    }
   ],
   "source": [
    "with requests.Session() as session:\n",
    "    session.auth = ('somechel', getpass())\n",
    "    \n",
    "    response = session.get('https://api.github.com/user')\n",
    "    #do a lot of stuff!!\n",
    "    "
   ]
  },
  {
   "cell_type": "code",
   "execution_count": 67,
   "id": "bfd08f0c",
   "metadata": {},
   "outputs": [],
   "source": [
    "from requests.adapters import HTTPAdapter"
   ]
  },
  {
   "cell_type": "code",
   "execution_count": 68,
   "id": "7ccf757b",
   "metadata": {},
   "outputs": [],
   "source": [
    "adapter = HTTPAdapter(max_retries=3)"
   ]
  },
  {
   "cell_type": "code",
   "execution_count": 70,
   "id": "6b151fe8",
   "metadata": {},
   "outputs": [
    {
     "name": "stdout",
     "output_type": "stream",
     "text": [
      "········\n",
      "OK\n"
     ]
    }
   ],
   "source": [
    "with requests.Session() as session:\n",
    "    session.mount('https://api.github.com/', adapter)\n",
    "    session.auth = ('Some_chel',getpass())\n",
    "    \n",
    "    try:\n",
    "        session.get('https://api.github.com/user')\n",
    "    except ConnectionError as err:\n",
    "        print(f'Failed to connect:{err}')\n",
    "    else:\n",
    "        print('OK')"
   ]
  },
  {
   "cell_type": "code",
   "execution_count": null,
   "id": "a00d5d02",
   "metadata": {},
   "outputs": [],
   "source": []
  }
 ],
 "metadata": {
  "kernelspec": {
   "display_name": "Python 3 (ipykernel)",
   "language": "python",
   "name": "python3"
  },
  "language_info": {
   "codemirror_mode": {
    "name": "ipython",
    "version": 3
   },
   "file_extension": ".py",
   "mimetype": "text/x-python",
   "name": "python",
   "nbconvert_exporter": "python",
   "pygments_lexer": "ipython3",
   "version": "3.9.7"
  }
 },
 "nbformat": 4,
 "nbformat_minor": 5
}
