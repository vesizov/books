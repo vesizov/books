{
 "cells": [
  {
   "cell_type": "code",
   "execution_count": 91,
   "id": "808e708d",
   "metadata": {},
   "outputs": [],
   "source": [
    "class Expr:\n",
    "    pass"
   ]
  },
  {
   "cell_type": "code",
   "execution_count": 103,
   "id": "bd60d651",
   "metadata": {},
   "outputs": [],
   "source": [
    "class Times(Expr):\n",
    "    def __init__(self,l,r):\n",
    "        self.l = l\n",
    "        self.r = r\n",
    "    \n",
    "    def __str__(self):\n",
    "        return f'{str(self.l)} * {str(self.r)}'\n",
    "    \n",
    "    def ev(self, env):\n",
    "        return self.l.ev(env) * self.r.ev(env)"
   ]
  },
  {
   "cell_type": "code",
   "execution_count": 104,
   "id": "c9fb5717",
   "metadata": {},
   "outputs": [],
   "source": [
    "class Plus(Expr):\n",
    "    def __init__(self,l,r):\n",
    "        self.l = l\n",
    "        self.r = r\n",
    "        \n",
    "    def __str__(self):\n",
    "        return f'({self.l} + {self.r})'\n",
    "    \n",
    "    def ev(self, env):\n",
    "        return self.l.ev(env) + self.r.ev(env)"
   ]
  },
  {
   "cell_type": "code",
   "execution_count": 105,
   "id": "622d1f2b",
   "metadata": {},
   "outputs": [],
   "source": [
    "class Const(Expr):\n",
    "    def __init__(self, val):\n",
    "        self.val = val\n",
    "        \n",
    "    def __str__(self):\n",
    "        return str(self.val)\n",
    "    \n",
    "    def ev(self,env):\n",
    "        return self.val"
   ]
  },
  {
   "cell_type": "code",
   "execution_count": 106,
   "id": "d05c35f2",
   "metadata": {},
   "outputs": [],
   "source": [
    "class Var(Expr):\n",
    "    def __init__(self,name):\n",
    "        self.name = name\n",
    "        \n",
    "    def __str__(self):\n",
    "        return self.name\n",
    "    \n",
    "    def ev(self, env):\n",
    "        return env[self.name]"
   ]
  },
  {
   "cell_type": "code",
   "execution_count": 107,
   "id": "95a80896",
   "metadata": {},
   "outputs": [],
   "source": [
    "e1 = Times(Const(3),Plus(Var('y'), Var('x')))"
   ]
  },
  {
   "cell_type": "code",
   "execution_count": 108,
   "id": "93ee3f89",
   "metadata": {},
   "outputs": [],
   "source": [
    "e2 = Plus(Times(Const(3), Var('y')), Var('x'))"
   ]
  },
  {
   "cell_type": "code",
   "execution_count": 112,
   "id": "f2ad56fe",
   "metadata": {},
   "outputs": [
    {
     "name": "stdout",
     "output_type": "stream",
     "text": [
      "18\n"
     ]
    }
   ],
   "source": [
    "print(e1.ev(env))"
   ]
  },
  {
   "cell_type": "code",
   "execution_count": 113,
   "id": "fe514d1e",
   "metadata": {},
   "outputs": [
    {
     "name": "stdout",
     "output_type": "stream",
     "text": [
      "14\n"
     ]
    }
   ],
   "source": [
    "print(e2.ev(env))"
   ]
  },
  {
   "cell_type": "code",
   "execution_count": 111,
   "id": "b266c585",
   "metadata": {},
   "outputs": [],
   "source": [
    "env = {\n",
    "    'x' : 2,\n",
    "    'y' : 4\n",
    "}"
   ]
  },
  {
   "cell_type": "code",
   "execution_count": null,
   "id": "fc8c660d",
   "metadata": {},
   "outputs": [],
   "source": []
  },
  {
   "cell_type": "code",
   "execution_count": null,
   "id": "74b93565",
   "metadata": {},
   "outputs": [],
   "source": []
  }
 ],
 "metadata": {
  "kernelspec": {
   "display_name": "Python 3",
   "language": "python",
   "name": "python3"
  },
  "language_info": {
   "codemirror_mode": {
    "name": "ipython",
    "version": 3
   },
   "file_extension": ".py",
   "mimetype": "text/x-python",
   "name": "python",
   "nbconvert_exporter": "python",
   "pygments_lexer": "ipython3",
   "version": "3.8.8"
  }
 },
 "nbformat": 4,
 "nbformat_minor": 5
}
