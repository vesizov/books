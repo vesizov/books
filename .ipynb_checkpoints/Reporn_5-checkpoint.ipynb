{
 "cells": [
  {
   "cell_type": "code",
   "execution_count": 1,
   "id": "9d0f640c",
   "metadata": {},
   "outputs": [],
   "source": [
    "import random\n"
   ]
  },
  {
   "cell_type": "code",
   "execution_count": 2,
   "id": "a7fe0611",
   "metadata": {},
   "outputs": [],
   "source": [
    "def randoms(min, max, n):\n",
    "    return [random.randint(min, max) for _ in range(n)]"
   ]
  },
  {
   "cell_type": "code",
   "execution_count": 3,
   "id": "fa92897a",
   "metadata": {},
   "outputs": [
    {
     "name": "stdout",
     "output_type": "stream",
     "text": [
      "22\n",
      "29\n",
      "28\n",
      "26\n",
      "29\n"
     ]
    }
   ],
   "source": [
    "for r in randoms(10,30,5):\n",
    "    print(r)"
   ]
  },
  {
   "cell_type": "code",
   "execution_count": 4,
   "id": "d19cb1d0",
   "metadata": {},
   "outputs": [],
   "source": [
    "def randoms(min, max, n):\n",
    "    for i in range(n):\n",
    "        yield random.randint(min, max)"
   ]
  },
  {
   "cell_type": "code",
   "execution_count": 5,
   "id": "28fd258c",
   "metadata": {},
   "outputs": [
    {
     "name": "stdout",
     "output_type": "stream",
     "text": [
      "18\n",
      "21\n",
      "28\n",
      "12\n",
      "12\n"
     ]
    }
   ],
   "source": [
    "for r in randoms(10,30,5):\n",
    "    print(r)"
   ]
  },
  {
   "cell_type": "code",
   "execution_count": 6,
   "id": "f1b59f4c",
   "metadata": {},
   "outputs": [
    {
     "data": {
      "text/plain": [
       "<generator object randoms at 0x7fbec07b1c80>"
      ]
     },
     "execution_count": 6,
     "metadata": {},
     "output_type": "execute_result"
    }
   ],
   "source": [
    "rand_sequence = randoms(1, 10, 10)\n",
    "rand_sequence"
   ]
  },
  {
   "cell_type": "code",
   "execution_count": null,
   "id": "ef5928d8",
   "metadata": {},
   "outputs": [],
   "source": [
    "for i in rand_sequence:\n",
    "    print(i)"
   ]
  },
  {
   "cell_type": "code",
   "execution_count": null,
   "id": "739e73d1",
   "metadata": {},
   "outputs": [],
   "source": [
    "def randoms(min, max, n):\n",
    "    for i in range(n):\n",
    "        yield random.randint(min, max)"
   ]
  },
  {
   "cell_type": "code",
   "execution_count": null,
   "id": "6b1e143c",
   "metadata": {},
   "outputs": [],
   "source": [
    "import itertools\n",
    "rand_sequence = randoms(1,10,10)\n",
    "five_taken = list(itertools.islice(rand_sequence,5))"
   ]
  },
  {
   "cell_type": "code",
   "execution_count": null,
   "id": "d1e78a82",
   "metadata": {},
   "outputs": [],
   "source": [
    "five_taken"
   ]
  },
  {
   "cell_type": "code",
   "execution_count": null,
   "id": "8625cf80",
   "metadata": {},
   "outputs": [],
   "source": [
    "def randoms(min, max):\n",
    "    while True:\n",
    "        yield random.randint(min, max)"
   ]
  },
  {
   "cell_type": "code",
   "execution_count": null,
   "id": "cd0c53d2",
   "metadata": {},
   "outputs": [],
   "source": [
    "rand_sequence = randoms(1,100000)\n",
    "five_taken = list(itertools.islice(rand_sequence,5))\n",
    "five_taken"
   ]
  },
  {
   "cell_type": "code",
   "execution_count": null,
   "id": "fc753820",
   "metadata": {},
   "outputs": [],
   "source": [
    "def read_line_by_line(file):\n",
    "    \"\"\"Lazy function (generator) to read a line by line.\"\"\"\n",
    "    while True:\n",
    "        line = file.readline()\n",
    "        if not line:\n",
    "            break\n",
    "        yield line"
   ]
  },
  {
   "cell_type": "code",
   "execution_count": null,
   "id": "96ca387d",
   "metadata": {},
   "outputs": [],
   "source": [
    "rand_seq = randoms(1,10)\n",
    "n = next(rand_seq)\n",
    "print(n)\n",
    "n = next(rand_seq)\n",
    "print(n)\n",
    "n = next(rand_seq)\n",
    "print(n)"
   ]
  },
  {
   "cell_type": "code",
   "execution_count": null,
   "id": "2c49584c",
   "metadata": {},
   "outputs": [],
   "source": [
    "my_list = [1,2,3,4,5]\n",
    "squares = [x**2 for x in my_list]\n",
    "squares"
   ]
  },
  {
   "cell_type": "code",
   "execution_count": null,
   "id": "5f584633",
   "metadata": {},
   "outputs": [],
   "source": [
    "squares = (x**2 for x in my_list)\n",
    "list(itertools.islice(squares,3))"
   ]
  },
  {
   "cell_type": "code",
   "execution_count": 7,
   "id": "1d0ba4e0",
   "metadata": {},
   "outputs": [
    {
     "name": "stdout",
     "output_type": "stream",
     "text": [
      "<class 'list_iterator'>\n",
      "1\n",
      "2\n",
      "3\n"
     ]
    }
   ],
   "source": [
    "iterable = [1,2,3]\n",
    "iterator = iter(iterable)\n",
    "print(type(iterator))\n",
    "print(next(iterator))\n",
    "\n",
    "print(next(iterator))\n",
    "print(next(iterator))"
   ]
  },
  {
   "cell_type": "code",
   "execution_count": 10,
   "id": "88a5a06a",
   "metadata": {},
   "outputs": [],
   "source": [
    "import itertools as it"
   ]
  },
  {
   "cell_type": "code",
   "execution_count": 11,
   "id": "d19cb340",
   "metadata": {},
   "outputs": [
    {
     "name": "stdout",
     "output_type": "stream",
     "text": [
      "[0, 2, 4, 6, 8]\n"
     ]
    }
   ],
   "source": [
    "even_numbers = [x for x in range(10) if x % 2 == 0]\n",
    "print(even_numbers)"
   ]
  },
  {
   "cell_type": "code",
   "execution_count": 12,
   "id": "d1f2475b",
   "metadata": {},
   "outputs": [
    {
     "data": {
      "text/plain": [
       "count(0, 2)"
      ]
     },
     "execution_count": 12,
     "metadata": {},
     "output_type": "execute_result"
    }
   ],
   "source": [
    "even_numbers = it.count(0,2)\n",
    "even_numbers"
   ]
  },
  {
   "cell_type": "code",
   "execution_count": 13,
   "id": "0e8d2a25",
   "metadata": {},
   "outputs": [
    {
     "data": {
      "text/plain": [
       "[0, 2, 4, 6, 8]"
      ]
     },
     "execution_count": 13,
     "metadata": {},
     "output_type": "execute_result"
    }
   ],
   "source": [
    "list(next(even_numbers) for _ in range(5))"
   ]
  },
  {
   "cell_type": "code",
   "execution_count": 14,
   "id": "6f139fba",
   "metadata": {},
   "outputs": [
    {
     "data": {
      "text/plain": [
       "[]"
      ]
     },
     "execution_count": 14,
     "metadata": {},
     "output_type": "execute_result"
    }
   ],
   "source": [
    "list(zip())"
   ]
  },
  {
   "cell_type": "code",
   "execution_count": 17,
   "id": "e1e5c632",
   "metadata": {},
   "outputs": [],
   "source": [
    "def print_iterable(iterable, end = None):\n",
    "    for x in iterable:\n",
    "        if end:\n",
    "            print(x, end = end)\n",
    "        else:\n",
    "            print(x)"
   ]
  },
  {
   "cell_type": "code",
   "execution_count": 18,
   "id": "8fdd8018",
   "metadata": {},
   "outputs": [
    {
     "name": "stdout",
     "output_type": "stream",
     "text": [
      "1 - 1 - 1 - 1 - 1 - "
     ]
    }
   ],
   "source": [
    "ones = it.repeat(1,5)\n",
    "print_iterable(ones,' - ')"
   ]
  },
  {
   "cell_type": "code",
   "execution_count": 20,
   "id": "8c0b3303",
   "metadata": {},
   "outputs": [
    {
     "data": {
      "text/plain": [
       "[0, 1, 4, 9, 16, 25, 36, 49, 64, 81]"
      ]
     },
     "execution_count": 20,
     "metadata": {},
     "output_type": "execute_result"
    }
   ],
   "source": [
    "list(map(pow,range(10),it.repeat(2))) #wtf?!"
   ]
  },
  {
   "cell_type": "code",
   "execution_count": 22,
   "id": "4a8c2fca",
   "metadata": {},
   "outputs": [
    {
     "data": {
      "text/plain": [
       "[0, 1, 4, 9, 16, 25, 36, 49, 64, 81]"
      ]
     },
     "execution_count": 22,
     "metadata": {},
     "output_type": "execute_result"
    }
   ],
   "source": [
    "list(map(lambda x: x**2 , range(10)))"
   ]
  },
  {
   "cell_type": "code",
   "execution_count": null,
   "id": "df272a19",
   "metadata": {},
   "outputs": [],
   "source": [
    "# for _ in it.repeat(None, 10000):\n",
    "#     do something"
   ]
  }
 ],
 "metadata": {
  "kernelspec": {
   "display_name": "Python 3 (ipykernel)",
   "language": "python",
   "name": "python3"
  },
  "language_info": {
   "codemirror_mode": {
    "name": "ipython",
    "version": 3
   },
   "file_extension": ".py",
   "mimetype": "text/x-python",
   "name": "python",
   "nbconvert_exporter": "python",
   "pygments_lexer": "ipython3",
   "version": "3.9.7"
  }
 },
 "nbformat": 4,
 "nbformat_minor": 5
}
