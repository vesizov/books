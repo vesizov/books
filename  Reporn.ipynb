{
 "cells": [
  {
   "cell_type": "code",
   "execution_count": null,
   "id": "a296cbfe",
   "metadata": {},
   "outputs": [],
   "source": [
    "print('Hello')\n",
    "print('World !!!')"
   ]
  },
  {
   "cell_type": "code",
   "execution_count": null,
   "id": "c9ce4e2d",
   "metadata": {},
   "outputs": [],
   "source": [
    "1+2"
   ]
  },
  {
   "cell_type": "code",
   "execution_count": null,
   "id": "c657a0fe",
   "metadata": {},
   "outputs": [],
   "source": [
    "1-5"
   ]
  },
  {
   "cell_type": "code",
   "execution_count": null,
   "id": "fa218feb",
   "metadata": {},
   "outputs": [],
   "source": [
    "5/4"
   ]
  },
  {
   "cell_type": "code",
   "execution_count": null,
   "id": "8a178a30",
   "metadata": {},
   "outputs": [],
   "source": [
    "1+1,0"
   ]
  },
  {
   "cell_type": "code",
   "execution_count": null,
   "id": "e4ed07f1",
   "metadata": {},
   "outputs": [],
   "source": [
    "1+1.0"
   ]
  },
  {
   "cell_type": "code",
   "execution_count": null,
   "id": "d68894b4",
   "metadata": {},
   "outputs": [],
   "source": [
    "1+2,3"
   ]
  },
  {
   "cell_type": "code",
   "execution_count": null,
   "id": "2bfbf286",
   "metadata": {
    "scrolled": false
   },
   "outputs": [],
   "source": [
    "round(2.1246517,2)"
   ]
  },
  {
   "cell_type": "code",
   "execution_count": null,
   "id": "5f1c8439",
   "metadata": {},
   "outputs": [],
   "source": [
    "3%2"
   ]
  },
  {
   "cell_type": "code",
   "execution_count": null,
   "id": "74e6b1f3",
   "metadata": {},
   "outputs": [],
   "source": [
    "2%2"
   ]
  },
  {
   "cell_type": "code",
   "execution_count": null,
   "id": "9c6190a4",
   "metadata": {},
   "outputs": [],
   "source": [
    "4%2==1"
   ]
  },
  {
   "cell_type": "code",
   "execution_count": null,
   "id": "90607d2b",
   "metadata": {},
   "outputs": [],
   "source": [
    "2**4"
   ]
  },
  {
   "cell_type": "code",
   "execution_count": null,
   "id": "1d2e8ac6",
   "metadata": {},
   "outputs": [],
   "source": [
    "x=3"
   ]
  },
  {
   "cell_type": "code",
   "execution_count": null,
   "id": "26f3c189",
   "metadata": {},
   "outputs": [],
   "source": [
    "x"
   ]
  },
  {
   "cell_type": "code",
   "execution_count": null,
   "id": "d6f85b77",
   "metadata": {},
   "outputs": [],
   "source": [
    "type(x)"
   ]
  },
  {
   "cell_type": "code",
   "execution_count": null,
   "id": "73297c18",
   "metadata": {},
   "outputs": [],
   "source": [
    "a=10\n",
    "b=5\n",
    "c=7\n",
    "\n",
    "p=(a+b+c)/2\n",
    "\n",
    "import math\n",
    "s=math.sqrt(p*(p-a)*(p-b)*(p-c))\n",
    "print(s)"
   ]
  },
  {
   "cell_type": "code",
   "execution_count": null,
   "id": "8de1125d",
   "metadata": {},
   "outputs": [],
   "source": [
    "a=True"
   ]
  },
  {
   "cell_type": "code",
   "execution_count": null,
   "id": "ae189c72",
   "metadata": {},
   "outputs": [],
   "source": [
    "a"
   ]
  },
  {
   "cell_type": "code",
   "execution_count": null,
   "id": "8872c0b1",
   "metadata": {},
   "outputs": [],
   "source": [
    "type(a)"
   ]
  },
  {
   "cell_type": "code",
   "execution_count": 1,
   "id": "b0a1aa21",
   "metadata": {},
   "outputs": [],
   "source": [
    " s='1234'"
   ]
  },
  {
   "cell_type": "code",
   "execution_count": 2,
   "id": "95230cd8",
   "metadata": {},
   "outputs": [
    {
     "data": {
      "text/plain": [
       "'1234'"
      ]
     },
     "execution_count": 2,
     "metadata": {},
     "output_type": "execute_result"
    }
   ],
   "source": [
    "s"
   ]
  },
  {
   "cell_type": "code",
   "execution_count": 3,
   "id": "f55dae3a",
   "metadata": {},
   "outputs": [
    {
     "data": {
      "text/plain": [
       "'4321'"
      ]
     },
     "execution_count": 3,
     "metadata": {},
     "output_type": "execute_result"
    }
   ],
   "source": [
    "s[::-1] #[start:end:step]"
   ]
  },
  {
   "cell_type": "code",
   "execution_count": null,
   "id": "daa369f0",
   "metadata": {},
   "outputs": [],
   "source": [
    "print (\"{} qwe {}\".format('hello', 'world'))"
   ]
  },
  {
   "cell_type": "code",
   "execution_count": null,
   "id": "d719d747",
   "metadata": {},
   "outputs": [],
   "source": [
    "s='hEllo my name is Vladimir'"
   ]
  },
  {
   "cell_type": "code",
   "execution_count": null,
   "id": "a46c64ba",
   "metadata": {},
   "outputs": [],
   "source": [
    "len(s)"
   ]
  },
  {
   "cell_type": "code",
   "execution_count": null,
   "id": "51ebd5e8",
   "metadata": {},
   "outputs": [],
   "source": [
    "s.count('l')"
   ]
  },
  {
   "cell_type": "code",
   "execution_count": null,
   "id": "51c8076a",
   "metadata": {},
   "outputs": [],
   "source": [
    "s.capitalize()"
   ]
  },
  {
   "cell_type": "code",
   "execution_count": null,
   "id": "f61f4c2c",
   "metadata": {},
   "outputs": [],
   "source": [
    "s.upper()"
   ]
  },
  {
   "cell_type": "code",
   "execution_count": null,
   "id": "559dccf5",
   "metadata": {},
   "outputs": [],
   "source": [
    "s.lower()"
   ]
  },
  {
   "cell_type": "code",
   "execution_count": null,
   "id": "31530ef4",
   "metadata": {},
   "outputs": [],
   "source": [
    "s.isupper()"
   ]
  },
  {
   "cell_type": "code",
   "execution_count": null,
   "id": "26050017",
   "metadata": {},
   "outputs": [],
   "source": [
    "s.find(' ',7,20)"
   ]
  },
  {
   "cell_type": "code",
   "execution_count": null,
   "id": "9a0a6437",
   "metadata": {},
   "outputs": [],
   "source": [
    "print(s.find('my'))"
   ]
  },
  {
   "cell_type": "code",
   "execution_count": null,
   "id": "d0e1909b",
   "metadata": {},
   "outputs": [],
   "source": [
    "'123abc*'.isalnum()"
   ]
  },
  {
   "cell_type": "code",
   "execution_count": null,
   "id": "27a1aedb",
   "metadata": {},
   "outputs": [],
   "source": [
    "'abc'.isalpha()"
   ]
  },
  {
   "cell_type": "code",
   "execution_count": null,
   "id": "22d3661e",
   "metadata": {},
   "outputs": [],
   "source": [
    "''.isspace()"
   ]
  },
  {
   "cell_type": "code",
   "execution_count": null,
   "id": "2c99065b",
   "metadata": {},
   "outputs": [],
   "source": [
    "' xx x '.strip()"
   ]
  },
  {
   "cell_type": "code",
   "execution_count": null,
   "id": "291ea8c0",
   "metadata": {},
   "outputs": [],
   "source": [
    "empty_string='let it snow'\n",
    "\n",
    "if not empty_string or empty_string.isspace():\n",
    "    print(\"Now it's really empty\")\n",
    "elif empty_string=='let it snow':\n",
    "    print('Snow')\n",
    "else:\n",
    "    print('Something is there')\n",
    "    "
   ]
  },
  {
   "cell_type": "code",
   "execution_count": null,
   "id": "634b376a",
   "metadata": {},
   "outputs": [],
   "source": [
    "h='hello'\n",
    "print(h.startswith('He'))\n",
    "h.endswith('lo')"
   ]
  },
  {
   "cell_type": "code",
   "execution_count": 4,
   "id": "edd5ce5d",
   "metadata": {},
   "outputs": [
    {
     "data": {
      "text/plain": [
       "['1', '2', '3', '4', '5', '6', '7', '8', '9']"
      ]
     },
     "execution_count": 4,
     "metadata": {},
     "output_type": "execute_result"
    }
   ],
   "source": [
    "'1,2,3,4,5,6,7,8,9'.split(',')"
   ]
  },
  {
   "cell_type": "code",
   "execution_count": 6,
   "id": "23ba97d5",
   "metadata": {},
   "outputs": [
    {
     "data": {
      "text/plain": [
       "('Is ', 'it', ' fun?')"
      ]
     },
     "execution_count": 6,
     "metadata": {},
     "output_type": "execute_result"
    }
   ],
   "source": [
    "'Is it fun?'.partition('it')"
   ]
  },
  {
   "cell_type": "code",
   "execution_count": null,
   "id": "d0b7d82a",
   "metadata": {},
   "outputs": [],
   "source": [
    "print('My name is {}'.format('Vladimir'))"
   ]
  },
  {
   "cell_type": "code",
   "execution_count": null,
   "id": "0a73963c",
   "metadata": {},
   "outputs": [],
   "source": [
    "pi=3.1415\n",
    "print('Pi equals {pi:1.2f}'.format(pi=pi))"
   ]
  },
  {
   "cell_type": "code",
   "execution_count": null,
   "id": "c47c7f57",
   "metadata": {},
   "outputs": [],
   "source": [
    "pi=3.1415\n",
    "print('Pi equals {pi:7.2f}'.format(pi=pi))"
   ]
  },
  {
   "cell_type": "code",
   "execution_count": null,
   "id": "7ab17c19",
   "metadata": {},
   "outputs": [],
   "source": [
    "name='Vladimir'\n",
    "age=34\n",
    "print(f\"My name is {name} and i'm {age}\")"
   ]
  },
  {
   "cell_type": "code",
   "execution_count": null,
   "id": "8307bc05",
   "metadata": {},
   "outputs": [],
   "source": [
    "name='Vladimir'\n",
    "age=34\n",
    "print(f'My name is {name} and i\\'m {age}')"
   ]
  },
  {
   "cell_type": "code",
   "execution_count": null,
   "id": "929f23e9",
   "metadata": {},
   "outputs": [],
   "source": [
    "print(f'Pi equals {pi:.3f}')"
   ]
  },
  {
   "cell_type": "code",
   "execution_count": null,
   "id": "5146e3f8",
   "metadata": {},
   "outputs": [],
   "source": [
    "#os.getcwd()"
   ]
  },
  {
   "cell_type": "code",
   "execution_count": null,
   "id": "8e626747",
   "metadata": {},
   "outputs": [],
   "source": [
    "%%writefile sample.txt\n",
    "Name|Phone\n",
    "John;1234\n",
    "Bob;4321\n",
    "Alice;9432"
   ]
  },
  {
   "cell_type": "code",
   "execution_count": null,
   "id": "8efb8a22",
   "metadata": {},
   "outputs": [],
   "source": [
    "file = open('sample.txt')\n",
    "print(file.read())"
   ]
  },
  {
   "cell_type": "code",
   "execution_count": null,
   "id": "98df15dc",
   "metadata": {},
   "outputs": [],
   "source": [
    "file.seek(0)\n",
    "lines=tuple(file.readlines())\n",
    "print(type(lines))\n",
    "print(lines)\n",
    "file.close()"
   ]
  },
  {
   "cell_type": "code",
   "execution_count": null,
   "id": "c8186d87",
   "metadata": {},
   "outputs": [],
   "source": [
    "pwd"
   ]
  },
  {
   "cell_type": "code",
   "execution_count": null,
   "id": "67a1ec2c",
   "metadata": {},
   "outputs": [],
   "source": [
    "with open('sample.txt',mode='r+') as sample_file:\n",
    "    sample_file.seek(0,2)\n",
    "    sample_file.write('\\nToub;5561')\n",
    "    sample_file.seek(0)\n",
    "    print(sample_file.read())"
   ]
  },
  {
   "cell_type": "code",
   "execution_count": null,
   "id": "df871d93",
   "metadata": {},
   "outputs": [],
   "source": [
    "import sys\n",
    "sys.getdefaultencoding()"
   ]
  },
  {
   "cell_type": "code",
   "execution_count": null,
   "id": "6639e9de",
   "metadata": {},
   "outputs": [],
   "source": [
    "ord('A')"
   ]
  },
  {
   "cell_type": "code",
   "execution_count": null,
   "id": "644095d9",
   "metadata": {},
   "outputs": [],
   "source": [
    "chr(1234)"
   ]
  },
  {
   "cell_type": "code",
   "execution_count": null,
   "id": "adf4b63b",
   "metadata": {},
   "outputs": [],
   "source": [
    "s='Hello'\n",
    "enc_ascii=s.encode('ascii')\n",
    "print(enc_ascii)\n",
    "type(enc_ascii)"
   ]
  },
  {
   "cell_type": "code",
   "execution_count": null,
   "id": "6fc8bfab",
   "metadata": {},
   "outputs": [],
   "source": [
    "ba = bytearray(b'hello')\n",
    "ba[0]=87\n",
    "ba"
   ]
  },
  {
   "cell_type": "code",
   "execution_count": null,
   "id": "28bdb362",
   "metadata": {},
   "outputs": [],
   "source": [
    "s='Hello'\n",
    "#result=str(enc_ascii,'ascii')\n",
    "result=enc_ascii.decode('utf8')\n",
    "print(result)"
   ]
  },
  {
   "cell_type": "code",
   "execution_count": null,
   "id": "30f39f8e",
   "metadata": {},
   "outputs": [],
   "source": [
    "#pwd\n",
    "#jpeg=[20,3,255,0,100]\n"
   ]
  },
  {
   "cell_type": "code",
   "execution_count": null,
   "id": "678a7be4",
   "metadata": {},
   "outputs": [],
   "source": [
    "import sys"
   ]
  },
  {
   "cell_type": "code",
   "execution_count": null,
   "id": "d82423f0",
   "metadata": {},
   "outputs": [],
   "source": [
    "pwd"
   ]
  },
  {
   "cell_type": "code",
   "execution_count": null,
   "id": "7f8cb7de",
   "metadata": {},
   "outputs": [],
   "source": [
    "jpeg=[20,3,255,0,100]\n",
    "print(type(jpeg))\n",
    "with open('btest.bin','w+b') as file:\n",
    "    file.write(bytes(jpeg))"
   ]
  },
  {
   "cell_type": "code",
   "execution_count": null,
   "id": "fe189f99",
   "metadata": {},
   "outputs": [],
   "source": [
    "with open('btest.bin','rb') as file:\n",
    "    data = file.read()\n",
    "for b in data:\n",
    "    print(int(b))"
   ]
  },
  {
   "cell_type": "code",
   "execution_count": null,
   "id": "719bee8e",
   "metadata": {},
   "outputs": [],
   "source": [
    "print(7+5)"
   ]
  },
  {
   "cell_type": "code",
   "execution_count": null,
   "id": "18669c47",
   "metadata": {},
   "outputs": [],
   "source": [
    "print(r'''')"
   ]
  },
  {
   "cell_type": "code",
   "execution_count": null,
   "id": "a11af114",
   "metadata": {},
   "outputs": [],
   "source": [
    "print(r\"C:\\Users\\GoodStudent\")"
   ]
  },
  {
   "cell_type": "code",
   "execution_count": null,
   "id": "0b08d70f",
   "metadata": {},
   "outputs": [],
   "source": [
    "print(\"\"\"I'm a student and I'll become a \"strong\" programmer\"\"\")"
   ]
  },
  {
   "cell_type": "code",
   "execution_count": null,
   "id": "d9617938",
   "metadata": {},
   "outputs": [],
   "source": [
    "x = \"My name is Agent Smith\"\n",
    "print(x[1])\n",
    "print(x[3:16:3])"
   ]
  },
  {
   "cell_type": "code",
   "execution_count": null,
   "id": "e744141e",
   "metadata": {},
   "outputs": [],
   "source": [
    "print(input('Do it! '))"
   ]
  },
  {
   "cell_type": "code",
   "execution_count": null,
   "id": "6d038beb",
   "metadata": {},
   "outputs": [],
   "source": [
    "cups=int(input('Cups amount '))\n",
    "free_cups=cups//6\n",
    "print('Free cups ',free_cups)"
   ]
  },
  {
   "cell_type": "code",
   "execution_count": null,
   "id": "e811e36c",
   "metadata": {},
   "outputs": [],
   "source": [
    "import math\n",
    "\n",
    "dot1=input('1) x,y:  ').split(',')\n",
    "dot2=input('2) x,y:  ').split(',')\n",
    "\n",
    "x1=int(dot1[0])\n",
    "y1=int(dot1[1])\n",
    "\n",
    "x2=int(dot2[0])\n",
    "y2=int(dot2[1])\n",
    "\n",
    "print(round(math.sqrt((x2-x1)**2 + (y2-y1)**2),3)) # **0.5 mb easier next time?!\n",
    "#print(((x2-x1)**2+(y2-y1)**2)**0.5) # Defenitly not!"
   ]
  },
  {
   "cell_type": "code",
   "execution_count": null,
   "id": "24314639",
   "metadata": {},
   "outputs": [],
   "source": [
    "farm=input('Chiken, Swine, Cow:  ').split(',')\n",
    "chicken=int(farm[0])*2\n",
    "swine=int(farm[1])*4\n",
    "cow=int(farm[2])*4\n",
    "summary=chicken+cow+swine\n",
    "print(f'This farm contain {cow} cow legs, {swine} swine legs and {chicken} chicken legs')\n",
    "print('Summary: ',summary, ' leg')"
   ]
  },
  {
   "cell_type": "code",
   "execution_count": null,
   "id": "247fdd54",
   "metadata": {},
   "outputs": [],
   "source": [
    "names1=['Liam','Bob','Alice']\n",
    "names1.append('William')\n",
    "names1.append('James')\n",
    "names1.pop(-1)\n",
    "names1.pop()\n",
    "names1.sort(key=len)\n",
    "print(names1)"
   ]
  },
  {
   "cell_type": "code",
   "execution_count": null,
   "id": "ccdf0cf3",
   "metadata": {},
   "outputs": [],
   "source": [
    "len(names1)"
   ]
  },
  {
   "cell_type": "code",
   "execution_count": 2,
   "id": "576a0849",
   "metadata": {},
   "outputs": [
    {
     "name": "stdout",
     "output_type": "stream",
     "text": [
      "[89, 121, 5, 4, 3, 3, 2, 1, 0]\n"
     ]
    },
    {
     "data": {
      "text/plain": [
       "[0, 1, 2, 3, 3, 4, 5, 89, 121]"
      ]
     },
     "execution_count": 2,
     "metadata": {},
     "output_type": "execute_result"
    }
   ],
   "source": [
    "num = [3,3,2,1,4,5,89,0]\n",
    "num.sort(reverse=True)\n",
    "num.insert(1,121)\n",
    "print(num)\n",
    "num.index(5)\n",
    "sorted(num)"
   ]
  },
  {
   "cell_type": "code",
   "execution_count": null,
   "id": "6b43b2e5",
   "metadata": {},
   "outputs": [],
   "source": [
    "num = [3,2,1,2]\n",
    "print(num.count(2))"
   ]
  },
  {
   "cell_type": "code",
   "execution_count": null,
   "id": "8d5f5b37",
   "metadata": {},
   "outputs": [],
   "source": [
    "dic  = { 'first' : 1,\n",
    "         'second' : 2,\n",
    "         'third' : 3,\n",
    "         'fourth': 4,\n",
    "         'fifth' : 5\n",
    "       }\n",
    "dic1 = dict(one=1,two=2,three=3,four=4,five=5)\n",
    "print(dic['first'])\n",
    "\n",
    "print(type(dic1['two']))\n",
    "print(type(dic))"
   ]
  },
  {
   "cell_type": "code",
   "execution_count": null,
   "id": "204e5105",
   "metadata": {},
   "outputs": [],
   "source": [
    "print(dic.get('second'))\n",
    "printdic['second']"
   ]
  },
  {
   "cell_type": "code",
   "execution_count": null,
   "id": "6eed9b6c",
   "metadata": {},
   "outputs": [],
   "source": [
    "dic['hz']=None\n",
    "#del dic['hz']\n",
    "\n",
    "\n",
    "dic"
   ]
  },
  {
   "cell_type": "code",
   "execution_count": null,
   "id": "664c7700",
   "metadata": {},
   "outputs": [],
   "source": [
    "sorted(dic.keys())"
   ]
  },
  {
   "cell_type": "code",
   "execution_count": null,
   "id": "e44b9221",
   "metadata": {},
   "outputs": [],
   "source": [
    "'first' not in dic"
   ]
  },
  {
   "cell_type": "code",
   "execution_count": null,
   "id": "db3444ea",
   "metadata": {},
   "outputs": [],
   "source": [
    "print(dic.values()) # values are dict_items type and items are list of tuple and they are iterable\n",
    "print('\\n',dic.items(),'\\n')\n",
    "dic"
   ]
  },
  {
   "cell_type": "code",
   "execution_count": null,
   "id": "25293653",
   "metadata": {},
   "outputs": [],
   "source": [
    "for k, v in dic.items():\n",
    "    print(k,v)\n",
    "    print(type(k),type(v))"
   ]
  },
  {
   "cell_type": "code",
   "execution_count": null,
   "id": "d43355fe",
   "metadata": {},
   "outputs": [],
   "source": [
    "from collections import OrderedDict\n",
    "d1=OrderedDict()\n",
    "d1['a']='A'\n",
    "d1['b']='B'\n",
    "d1['c']='C'\n",
    "\n",
    "d2=OrderedDict()\n",
    "d2['c']='C'\n",
    "d2['b']='B'\n",
    "d2['a']='A'\n",
    "\n",
    "d3=OrderedDict()\n",
    "d3['a']='A'\n",
    "d3['b']='B'\n",
    "d3['c']='C'\n",
    "\n",
    "print(d1==d2)\n",
    "print(d1==d3)"
   ]
  },
  {
   "cell_type": "code",
   "execution_count": null,
   "id": "cce42ac6",
   "metadata": {},
   "outputs": [],
   "source": [
    "strings=('12123','222222','str3')\n",
    "person=('John','Silver',22)\n",
    "print(type(person),' ', type(strings))"
   ]
  },
  {
   "cell_type": "code",
   "execution_count": null,
   "id": "d0215204",
   "metadata": {},
   "outputs": [],
   "source": [
    "len(strings)"
   ]
  },
  {
   "cell_type": "code",
   "execution_count": null,
   "id": "3be30934",
   "metadata": {},
   "outputs": [],
   "source": [
    "print(person[0],' ',person[-1])"
   ]
  },
  {
   "cell_type": "code",
   "execution_count": null,
   "id": "be6f05c5",
   "metadata": {},
   "outputs": [],
   "source": [
    "person.count('Silver')"
   ]
  },
  {
   "cell_type": "code",
   "execution_count": null,
   "id": "a76abd57",
   "metadata": {},
   "outputs": [],
   "source": [
    " st=[('triple',222,333),('double',22,33),('single',2,3)]\n",
    "print(type(st))\n",
    "print(type(st[0]))"
   ]
  },
  {
   "cell_type": "code",
   "execution_count": null,
   "id": "56c87076",
   "metadata": {},
   "outputs": [],
   "source": [
    "from collections import namedtuple\n",
    "Player = namedtuple('P','name age rating')\n",
    "players=[Player('Carlsen',1990,2842), Player('Caruana', 1992, 2822),Player ('Mamedyarov', 1985,2801)]\n",
    "print(players[0])\n",
    "print(players[0].age)\n"
   ]
  },
  {
   "cell_type": "code",
   "execution_count": null,
   "id": "7fbe191c",
   "metadata": {},
   "outputs": [],
   "source": [
    "my_set=set()\n",
    "my_set.add(1)\n",
    "my_set"
   ]
  },
  {
   "cell_type": "code",
   "execution_count": 1,
   "id": "dad613dd",
   "metadata": {},
   "outputs": [
    {
     "data": {
      "text/plain": [
       "{1, 2, 3, 4, 10, 11}"
      ]
     },
     "execution_count": 1,
     "metadata": {},
     "output_type": "execute_result"
    }
   ],
   "source": [
    "set([11,10,1,1,1,1,2,2,2,2,3,3,4])"
   ]
  },
  {
   "cell_type": "code",
   "execution_count": 1,
   "id": "d6f637d9",
   "metadata": {},
   "outputs": [
    {
     "name": "stdout",
     "output_type": "stream",
     "text": [
      "{0, 1, 2, 3, 4, 5, 7, 10}\n",
      "{1}\n",
      "{0}\n",
      "{0, 2, 3, 4, 7, 10}\n"
     ]
    }
   ],
   "source": [
    "set1 = {1,2,3,4,0}\n",
    "set2 = {1,2,3,4,5}\n",
    "set3 = {1,7,10}\n",
    "print(set1.union(set2,set3)) #it's awesome!\n",
    "print(set1.intersection(set2,set3))\n",
    "print(set1.difference(set2,set3))\n",
    "print(set1.symmetric_difference(set3)) \n"
   ]
  },
  {
   "cell_type": "code",
   "execution_count": 2,
   "id": "2a1d6fe5",
   "metadata": {},
   "outputs": [
    {
     "data": {
      "text/plain": [
       "False"
      ]
     },
     "execution_count": 2,
     "metadata": {},
     "output_type": "execute_result"
    }
   ],
   "source": [
    "set1.issubset(set2)"
   ]
  },
  {
   "cell_type": "code",
   "execution_count": 4,
   "id": "5feaed15",
   "metadata": {},
   "outputs": [
    {
     "name": "stdout",
     "output_type": "stream",
     "text": [
      "-3\n"
     ]
    },
    {
     "data": {
      "text/plain": [
       "1001"
      ]
     },
     "execution_count": 4,
     "metadata": {},
     "output_type": "execute_result"
    }
   ],
   "source": [
    "from functools import reduce\n",
    "t=(12,13,1000,1001,-3)\n",
    "def reduc(x,y):\n",
    "    return x if x < y else y\n",
    "print(reduce(reduc, t))\n",
    "max(t)"
   ]
  },
  {
   "cell_type": "code",
   "execution_count": 5,
   "id": "724c91d1",
   "metadata": {},
   "outputs": [
    {
     "name": "stdout",
     "output_type": "stream",
     "text": [
      "Enter x y z 10 1 1\n",
      "volume = 10\n"
     ]
    }
   ],
   "source": [
    "from functools import reduce\n",
    "volume = reduce(\n",
    "    lambda x,y: x*y,\n",
    "    map(int, input('Enter x y z ').strip().split())\n",
    ")\n",
    "print(f'{volume = }')"
   ]
  },
  {
   "cell_type": "code",
   "execution_count": 6,
   "id": "86fb55b1",
   "metadata": {},
   "outputs": [
    {
     "data": {
      "text/plain": [
       "False"
      ]
     },
     "execution_count": 6,
     "metadata": {},
     "output_type": "execute_result"
    }
   ],
   "source": [
    "set2.issuperset(set1)"
   ]
  },
  {
   "cell_type": "code",
   "execution_count": 7,
   "id": "bdc4395d",
   "metadata": {},
   "outputs": [
    {
     "data": {
      "text/plain": [
       "False"
      ]
     },
     "execution_count": 7,
     "metadata": {},
     "output_type": "execute_result"
    }
   ],
   "source": [
    "set3.isdisjoint(set1)"
   ]
  },
  {
   "cell_type": "code",
   "execution_count": 10,
   "id": "9c1d83c8",
   "metadata": {},
   "outputs": [
    {
     "name": "stdout",
     "output_type": "stream",
     "text": [
      "{0, 2, 4, 6, 8}\n",
      "{2, 4, 6, 8}\n",
      "{2, 4, 8}\n",
      "{4, 8}\n",
      "set()\n"
     ]
    }
   ],
   "source": [
    "set0 = {0,2,4,6,8,0}\n",
    "print(set0)\n",
    "set0.remove(0)\n",
    "print(set0)\n",
    "set0.discard(6)\n",
    "print(set0)\n",
    "set0.pop()\n",
    "print(set0)\n",
    "set0.clear()\n",
    "print(set0)"
   ]
  },
  {
   "cell_type": "code",
   "execution_count": 4,
   "id": "a2b4c16f",
   "metadata": {},
   "outputs": [
    {
     "name": "stdout",
     "output_type": "stream",
     "text": [
      "[1, 2, 7, 4, 5]\n",
      "1\n",
      "2\n",
      "7\n",
      "4\n",
      "5\n"
     ]
    }
   ],
   "source": [
    "num = [1,2,7,4,5]\n",
    "print(num)\n",
    "for i in num:\n",
    "    print(i)"
   ]
  },
  {
   "cell_type": "code",
   "execution_count": null,
   "id": "2fbe11fc",
   "metadata": {},
   "outputs": [],
   "source": [
    "for i in range(1,6):\n",
    "    if i % 2==0:\n",
    "        print(f'{i} is even')\n",
    "    else:\n",
    "        print(f'{i} is not odd')"
   ]
  },
  {
   "cell_type": "code",
   "execution_count": 5,
   "id": "6f2069bd",
   "metadata": {},
   "outputs": [
    {
     "name": "stdout",
     "output_type": "stream",
     "text": [
      "0 1\n",
      "1 3\n",
      "2 5\n",
      "3 7\n",
      "4 9\n"
     ]
    },
    {
     "data": {
      "text/plain": [
       "[2, 6, 10, 14, 18]"
      ]
     },
     "execution_count": 5,
     "metadata": {},
     "output_type": "execute_result"
    }
   ],
   "source": [
    "numbers = [1,3,5,7,9]\n",
    "numb = [0,3,2,1,5]\n",
    "\n",
    "for i, item in enumerate(numbers):\n",
    "    print(i,item)\n",
    "    numbers[i]*=2\n",
    "numbers"
   ]
  },
  {
   "cell_type": "code",
   "execution_count": 6,
   "id": "dce764cc",
   "metadata": {},
   "outputs": [
    {
     "name": "stdout",
     "output_type": "stream",
     "text": [
      "J <class 'str'>\n",
      "o <class 'str'>\n",
      "h <class 'str'>\n",
      "n <class 'str'>\n"
     ]
    }
   ],
   "source": [
    "name = 'John'\n",
    "for l in name:\n",
    "    print(l, type(l))"
   ]
  },
  {
   "cell_type": "code",
   "execution_count": 7,
   "id": "f4b0e163",
   "metadata": {},
   "outputs": [
    {
     "name": "stdout",
     "output_type": "stream",
     "text": [
      "Alarm!\n",
      "Alarm!\n",
      "Alarm!\n",
      "Alarm!\n",
      "Alarm!\n"
     ]
    }
   ],
   "source": [
    "for _ in range(5):\n",
    "    print('Alarm!')"
   ]
  },
  {
   "cell_type": "code",
   "execution_count": null,
   "id": "236d21cd",
   "metadata": {},
   "outputs": [],
   "source": [
    "person = ('John', 'Silver',22)\n",
    "for i in person:\n",
    "    print(i)"
   ]
  },
  {
   "cell_type": "code",
   "execution_count": 11,
   "id": "4f045f17",
   "metadata": {},
   "outputs": [
    {
     "name": "stdout",
     "output_type": "stream",
     "text": [
      "John is 22 years old\n",
      "Bob is 32 years old\n",
      "Dave is 20 years old\n"
     ]
    }
   ],
   "source": [
    "persons = [('John',22), ('Bob',32), ('Dave', 20)]\n",
    "\n",
    "for name, age in persons:\n",
    "    print(f'{name} is {age} years old')"
   ]
  },
  {
   "cell_type": "code",
   "execution_count": 16,
   "id": "31773363",
   "metadata": {},
   "outputs": [
    {
     "name": "stdout",
     "output_type": "stream",
     "text": [
      "Carlsen\n",
      "Caruana\n",
      "Mamedyarov\n",
      "('Carlsen', 2842)     <class 'tuple'>\n",
      "('Caruana', 2822)     <class 'tuple'>\n",
      "('Mamedyarov', 2801)     <class 'tuple'>\n",
      "Carlsen has 2842 points\n",
      "Caruana has 2822 points\n",
      "Mamedyarov has 2801 points\n",
      "2842\n",
      "2822\n",
      "2801\n"
     ]
    }
   ],
   "source": [
    "players = dict(Carlsen=2842,\n",
    "               Caruana=2822,\n",
    "               Mamedyarov=2801)\n",
    "\n",
    "for item in players: #keys\n",
    "    print(item)\n",
    "    \n",
    "for item in players.items(): #items\n",
    "    print(item,'   ', type(item))\n",
    "    \n",
    "for k,v in players.items(): #unpacking\n",
    "    print(k,f'has {v} points')\n",
    "    \n",
    "for v in players.values():\n",
    "    print(v)"
   ]
  },
  {
   "cell_type": "code",
   "execution_count": 23,
   "id": "2944338a",
   "metadata": {},
   "outputs": [
    {
     "name": "stdout",
     "output_type": "stream",
     "text": [
      "\n",
      " [(10, -10), (1, -1)]\n"
     ]
    },
    {
     "data": {
      "text/plain": [
       "[(10, -10), (1, -1)]"
      ]
     },
     "execution_count": 23,
     "metadata": {},
     "output_type": "execute_result"
    }
   ],
   "source": [
    "first = [10,4,1]\n",
    "second = [-10,3,-1]\n",
    "\n",
    "pairs = []\n",
    "\n",
    "for i, i1 in enumerate(first):\n",
    "    for j, j1 in enumerate(second):\n",
    "        if i1 + j1 == 0:\n",
    "            pairs.append((i1,j1))\n",
    "            #print(f'({i},{j}) [{i1},{j1}]')\n",
    " \n",
    "print('\\n',pairs)\n",
    "\n",
    "pairs2 = [(x,y) for x in first for y in second if x+y ==0]\n",
    "pairs2\n",
    "            \n",
    "    "
   ]
  },
  {
   "cell_type": "code",
   "execution_count": 26,
   "id": "b72b9fff",
   "metadata": {},
   "outputs": [
    {
     "name": "stdout",
     "output_type": "stream",
     "text": [
      "[(10, -10), (1, -1)]\n",
      "[(10, -10), (1, -1)]\n"
     ]
    }
   ],
   "source": [
    "first = [10,4,1]\n",
    "second = [-10,3,-1]\n",
    "\n",
    "pairs = []\n",
    "\n",
    "for i in first:\n",
    "    for j in second:\n",
    "        if i + j == 0:\n",
    "            pairs.append((i,j))\n",
    "print(pairs)\n",
    "\n",
    "pairs = [(i,j) for i in first for j in second if i+j == 0]\n",
    "print(pairs)"
   ]
  },
  {
   "cell_type": "code",
   "execution_count": 2,
   "id": "0a7d37ba",
   "metadata": {},
   "outputs": [
    {
     "data": {
      "text/plain": [
       "['H', 'e', 'l', 'l', 'o', ',', ' ', 'w', 'o', 'r', 'l', 'd']"
      ]
     },
     "execution_count": 2,
     "metadata": {},
     "output_type": "execute_result"
    }
   ],
   "source": [
    "hi = 'Hello, world'\n",
    "chars =[]\n",
    "for l in hi:\n",
    "        chars.append(l)\n",
    "chars"
   ]
  },
  {
   "cell_type": "code",
   "execution_count": 3,
   "id": "e06b1d1d",
   "metadata": {},
   "outputs": [
    {
     "data": {
      "text/plain": [
       "['H', 'e', 'l', 'l', 'o', ',', ' ', 'w', 'o', 'r', 'l', 'd']"
      ]
     },
     "execution_count": 3,
     "metadata": {},
     "output_type": "execute_result"
    }
   ],
   "source": [
    "chars = [l for l in hi]\n",
    "chars"
   ]
  },
  {
   "cell_type": "code",
   "execution_count": 27,
   "id": "b74779ea",
   "metadata": {},
   "outputs": [
    {
     "data": {
      "text/plain": [
       "[1, 9, 25, 49, 81]"
      ]
     },
     "execution_count": 27,
     "metadata": {},
     "output_type": "execute_result"
    }
   ],
   "source": [
    "num = [n*n for n in range(11) if n%2!=0]\n",
    "num"
   ]
  },
  {
   "cell_type": "code",
   "execution_count": 30,
   "id": "8742ebd9",
   "metadata": {},
   "outputs": [
    {
     "name": "stdout",
     "output_type": "stream",
     "text": [
      "[4.72, 3.94, 5.51, 188.19, 4.72, 47.64]\n"
     ]
    }
   ],
   "source": [
    "len_in_centimeters = (12,10,14,478,12,121)\n",
    "len_in_inches = [round(cm / 2.54,2) for cm in len_in_centimeters]\n",
    "print(len_in_inches)"
   ]
  },
  {
   "cell_type": "code",
   "execution_count": 6,
   "id": "59ab9d5e",
   "metadata": {},
   "outputs": [
    {
     "name": "stdout",
     "output_type": "stream",
     "text": [
      "x equals 0\n",
      "x equals 1\n",
      "x equals 2\n"
     ]
    }
   ],
   "source": [
    "x = 0\n",
    "while x < 3:\n",
    "    print(f'x equals {x}')\n",
    "    x+=1"
   ]
  },
  {
   "cell_type": "code",
   "execution_count": 35,
   "id": "e7e98b00",
   "metadata": {},
   "outputs": [
    {
     "name": "stdout",
     "output_type": "stream",
     "text": [
      "How many stars you want? 5\n",
      "*\n",
      "**\n",
      "***\n",
      "****\n",
      "*****\n"
     ]
    }
   ],
   "source": [
    "length =int(input('How many stars you want? '))\n",
    "for l in range(length):\n",
    "    print('*' * (l + 1))"
   ]
  },
  {
   "cell_type": "code",
   "execution_count": 8,
   "id": "fd3c7909",
   "metadata": {},
   "outputs": [
    {
     "name": "stdout",
     "output_type": "stream",
     "text": [
      "How many stars you want? 3\n",
      "*\n",
      "**\n",
      "***\n",
      "*\n",
      "**\n",
      "***\n"
     ]
    }
   ],
   "source": [
    "x=int(input('How many stars you want? '))\n",
    "i=1\n",
    "stars=\"\"\n",
    "while i<=x>0:\n",
    "    print(\"*\"*i)\n",
    "    i+=1\n",
    "while x>0:\n",
    "    stars+='*'\n",
    "    print(f'{stars}')\n",
    "    x-=1"
   ]
  },
  {
   "cell_type": "code",
   "execution_count": null,
   "id": "07933ae9",
   "metadata": {},
   "outputs": [],
   "source": [
    "num = int(input('Enter your number '))\n",
    "for d in range(num+1):\n",
    "    if d%2==0:\n",
    "        print(d,' is EVEN')\n",
    "    else:\n",
    "        print(d,' is ODD')"
   ]
  },
  {
   "cell_type": "code",
   "execution_count": 36,
   "id": "e73803ab",
   "metadata": {},
   "outputs": [
    {
     "name": "stdout",
     "output_type": "stream",
     "text": [
      "0\n",
      "3\n",
      "5\n",
      "6\n",
      "9\n",
      "10\n",
      "33\n"
     ]
    }
   ],
   "source": [
    "limit=10\n",
    "summ = 0\n",
    "for i in range(limit+1):\n",
    "    if i%3==0 or i%5 ==0:\n",
    "        print(i)\n",
    "        summ+=i \n",
    "print(summ)"
   ]
  },
  {
   "cell_type": "code",
   "execution_count": 11,
   "id": "7c897bf9",
   "metadata": {},
   "outputs": [
    {
     "name": "stdout",
     "output_type": "stream",
     "text": [
      "33\n"
     ]
    }
   ],
   "source": [
    "print(sum([i for i in range(11) if i%3==0 or i%5==0]))"
   ]
  },
  {
   "cell_type": "code",
   "execution_count": 43,
   "id": "2f229080",
   "metadata": {},
   "outputs": [
    {
     "data": {
      "text/plain": [
       "33"
      ]
     },
     "execution_count": 43,
     "metadata": {},
     "output_type": "execute_result"
    }
   ],
   "source": [
    "from functools import reduce\n",
    "reduce(\n",
    "lambda i,j: i+j,\n",
    "[i for i in range(11) if i%3==0 or i%5==0])"
   ]
  },
  {
   "cell_type": "code",
   "execution_count": 46,
   "id": "c9231a50",
   "metadata": {},
   "outputs": [
    {
     "data": {
      "text/plain": [
       "[11, 2, 33, 4]"
      ]
     },
     "execution_count": 46,
     "metadata": {},
     "output_type": "execute_result"
    }
   ],
   "source": [
    "n=4\n",
    "first_lst = [1,2,3,4]\n",
    "second_lst = [11,22,33,44]\n",
    "joined_list=[]\n",
    "\n",
    "for i in range(n):\n",
    "    if i%2!=0:\n",
    "        joined_list.append(first_lst[i])\n",
    "    else:\n",
    "        joined_list.append(second_lst[i])\n",
    "joined_list"
   ]
  },
  {
   "cell_type": "code",
   "execution_count": 47,
   "id": "aa3b337b",
   "metadata": {},
   "outputs": [
    {
     "name": "stdout",
     "output_type": "stream",
     "text": [
      "[1, 3, 22, 44]\n"
     ]
    }
   ],
   "source": [
    "first_lst = [1,2,3,4]\n",
    "second_lst = [11,22,33,44]\n",
    "\n",
    "odds = [x for x in first_lst if x%2!=0]\n",
    "evens = [x for x in second_lst if x%2==0]\n",
    "\n",
    "print(odds+evens)\n"
   ]
  },
  {
   "cell_type": "code",
   "execution_count": 18,
   "id": "d46c8e59",
   "metadata": {},
   "outputs": [
    {
     "data": {
      "text/plain": [
       "2"
      ]
     },
     "execution_count": 18,
     "metadata": {},
     "output_type": "execute_result"
    }
   ],
   "source": [
    "current_hand = [2 ,3 , 4, 10, 'Q',5]\n",
    "cards={\n",
    "    2:1,\n",
    "    3:1,\n",
    "    4:1,\n",
    "    5:1,\n",
    "    6:1,\n",
    "    7:0,\n",
    "    8:0,\n",
    "    9:0,\n",
    "    10:-1,\n",
    "    'J':-1,\n",
    "    'Q':-1,\n",
    "    'A':-1\n",
    "}\n",
    "cards_sum=sum([cards[x] for x in current_hand])\n",
    "cards_sum"
   ]
  },
  {
   "cell_type": "code",
   "execution_count": 19,
   "id": "94b89e42",
   "metadata": {},
   "outputs": [
    {
     "name": "stdout",
     "output_type": "stream",
     "text": [
      "3 1 2 1\n",
      "No Flush\n"
     ]
    }
   ],
   "source": [
    "table_cards = ['3_S','10_H','10_D','10_C','10_S']\n",
    "hand_cards = ['3_S','4_D']\n",
    "all_cards= table_cards+hand_cards\n",
    "suits=[]\n",
    "\n",
    "for i in all_cards:\n",
    "    suits+=i.split('_')\n",
    "s = suits.count('S')\n",
    "h = suits.count('H')\n",
    "d = suits.count('D')\n",
    "c = suits.count('C')\n",
    "\n",
    "\n",
    "print(s,h,d,c)\n",
    "\n",
    "if s>=5 or h>=5 or d>=5 or c>=5:\n",
    "    print(\"Flush!\")\n",
    "else:\n",
    "    print(\"No Flush\")\n"
   ]
  },
  {
   "cell_type": "code",
   "execution_count": null,
   "id": "29ce665e",
   "metadata": {},
   "outputs": [],
   "source": [
    "table_cards = ['Q_D','A_D','10_D','10_C','10_S']\n",
    "hand_cards = ['3_D','4_D']\n",
    "\n",
    "cards_in_game=table_cards+hand_cards\n",
    "\n",
    "flush = False\n",
    "\n",
    "suits = [i[-1] for i in cards_in_game]\n",
    "\n",
    "for i in 'CHSD':\n",
    "    if suits.count(i)>=5:\n",
    "        flush = True\n",
    "if flush == True:\n",
    "    print('Flush!')\n",
    "else:\n",
    "    print('No Flush!')"
   ]
  },
  {
   "cell_type": "code",
   "execution_count": 48,
   "id": "d8aa8439",
   "metadata": {},
   "outputs": [
    {
     "name": "stdout",
     "output_type": "stream",
     "text": [
      "Flush!\n"
     ]
    }
   ],
   "source": [
    "table_cards = ['Q_D','A_D','10_D','10_C','10_S']\n",
    "hand_cards = ['3_D','4_D']\n",
    "\n",
    "cards_in_game=table_cards+hand_cards\n",
    "\n",
    "suits = [i[-1] for i in cards_in_game]\n",
    "\n",
    "flush = any([suits.count(suit)>=5 for suit in 'CHSD'])\n",
    "\n",
    "\n",
    "if flush == True:\n",
    "    print('Flush!')\n",
    "else:\n",
    "    print('No Flush!')"
   ]
  },
  {
   "cell_type": "code",
   "execution_count": 51,
   "id": "e01ca5ea",
   "metadata": {},
   "outputs": [
    {
     "name": "stdout",
     "output_type": "stream",
     "text": [
      "Enter your number \n",
      "121\n",
      "121 \n",
      "\n",
      "Palindrome\n"
     ]
    }
   ],
   "source": [
    "import os\n",
    "number = int(input(\"Enter your number \\n\"))\n",
    "decim_pos = 0\n",
    "temp = number\n",
    "rev = 0\n",
    "\n",
    "while temp>0:\n",
    "        temp //= 10\n",
    "        decim_pos += 1\n",
    "\n",
    "\n",
    "temp = number\n",
    "        \n",
    "while  decim_pos > 0:\n",
    "        rev += temp % 10 * 10 ** (decim_pos-1)\n",
    "        #print(rev)\n",
    "        temp //= 10\n",
    "        decim_pos -= 1\n",
    "\n",
    "print(rev,'\\n')\n",
    "\n",
    "if number == rev:\n",
    "    print('Palindrome')\n",
    "else:\n",
    "    print('No Palindrome')\n",
    "    \n"
   ]
  },
  {
   "cell_type": "code",
   "execution_count": null,
   "id": "ee47f045",
   "metadata": {},
   "outputs": [],
   "source": [
    "number = int(input(\"Enter your number \\n\"))\n",
    "original_number = number\n",
    "reversed_number=0\n",
    "\n",
    "while number>0:\n",
    "    reversed_number = (reversed_number * 10) + number % 10\n",
    "    number //= 10\n",
    "if original_number == reversed_number:\n",
    "    print('Palindrome')\n",
    "else:\n",
    "    print('No Palindrome')"
   ]
  },
  {
   "cell_type": "code",
   "execution_count": 60,
   "id": "74b9c488",
   "metadata": {},
   "outputs": [
    {
     "name": "stdout",
     "output_type": "stream",
     "text": [
      "Guess the number: 10\n",
      "Oh no, 10 is lesser!\n",
      "Guess the number: 25\n",
      "Oh no, 25 is lesser!\n",
      "Guess the number: 45\n",
      "Oh no, 45 is greater!\n",
      "Guess the number: 37\n",
      "Oh no, 37 is greater!\n",
      "Guess the number: 31\n",
      "Oh no, 31 is lesser!\n",
      "Guess the number: 34\n",
      "Oh no, 34 is lesser!\n",
      "Sorry, no more tries\n"
     ]
    }
   ],
   "source": [
    "import random\n",
    "tries=6\n",
    "number = random.randint(1,50)\n",
    "#print('It is ',number,'\\n')\n",
    "while tries>0:\n",
    "    input_number = int(input('Guess the number: '))\n",
    "   \n",
    "    if input_number == number:\n",
    "        print(f'Lucky Guy, it was {number}!')\n",
    "        break\n",
    "    elif input_number > number:\n",
    "        print(f'Oh no, {input_number} is greater!')\n",
    "        tries-=1\n",
    "        continue\n",
    "    else:\n",
    "        print(f'Oh no, {input_number} is lesser!')\n",
    "        tries-=1\n",
    "        continue\n",
    "\n",
    "print('Sorry, no more tries')\n"
   ]
  },
  {
   "cell_type": "code",
   "execution_count": 53,
   "id": "e84d482c",
   "metadata": {
    "scrolled": true
   },
   "outputs": [
    {
     "name": "stdout",
     "output_type": "stream",
     "text": [
      "Drop it! S\n",
      "SS  Mmm, your are equal\n",
      "Continue? [y/n] n\n"
     ]
    }
   ],
   "source": [
    "import random\n",
    "\n",
    "game_dict = {0:\"R\",1:\"S\",2:\"P\"}\n",
    "win = ['RS','SP','PR']\n",
    "eq = ['RR','SS','PP']\n",
    "lost = ['RP','SR','PS']\n",
    "user_choise = True\n",
    "while user_choise:\n",
    "        user_hand = input('Drop it! ')\n",
    "        if user_hand not in ['R','S','P']:\n",
    "            print('Incorrect input, try again')\n",
    "            continue\n",
    "        comp_hand=game_dict[random.randint(0,2)]\n",
    "        result = user_hand + comp_hand\n",
    "        if any([result == i for i in ['RS','SP','PR']]): # it works, hardreadmf\n",
    "                print(result,' Winner!')\n",
    "        elif any([result == i for i in eq]):\n",
    "                     print(result,' Mmm, your are equal')\n",
    "        elif any([result == i for i in lost]):\n",
    "                     print(result,' You loose')\n",
    "        user_choise=input(\"Continue? [y/n] \").lower() == 'y'        "
   ]
  },
  {
   "cell_type": "code",
   "execution_count": 61,
   "id": "06b92918",
   "metadata": {},
   "outputs": [
    {
     "name": "stdout",
     "output_type": "stream",
     "text": [
      "[R\\S\\P] R\n",
      " Mmm, your are equal\n",
      "Continue? [y/n] n\n"
     ]
    }
   ],
   "source": [
    "\n",
    "import random\n",
    "\n",
    "game_dict = {0:\"R\",\n",
    "             1:\"S\",\n",
    "             2:\"P\"}\n",
    "\n",
    "should_continue = True\n",
    "winning_combinations = [('R','S'),('S','P'),('P','R')]\n",
    "\n",
    "while should_continue:\n",
    "    comp_hand=game_dict[random.randint(0,2)]\n",
    "    user_hand = input('[R\\S\\P] ').upper()\n",
    "    \n",
    "    if user_hand not in ['R','S','P']:\n",
    "        print('Incorrect input, try again')\n",
    "        continue\n",
    "            \n",
    "    if user_hand == comp_hand:\n",
    "        print(' Mmm, your are equal')\n",
    "    elif (user_hand,comp_hand) in winning_combinations:\n",
    "        print(' Winner!')\n",
    "    else:\n",
    "        print('Looser!')\n",
    "    should_continue = input(\"Continue? [y/n] \").lower() == 'y'\n",
    "    \n"
   ]
  },
  {
   "cell_type": "code",
   "execution_count": 26,
   "id": "0b13b3d6",
   "metadata": {},
   "outputs": [
    {
     "data": {
      "text/plain": [
       "1.2"
      ]
     },
     "execution_count": 26,
     "metadata": {},
     "output_type": "execute_result"
    }
   ],
   "source": [
    "abs(-1.2)"
   ]
  },
  {
   "cell_type": "code",
   "execution_count": 25,
   "id": "687454a6",
   "metadata": {},
   "outputs": [
    {
     "data": {
      "text/plain": [
       "1"
      ]
     },
     "execution_count": 25,
     "metadata": {},
     "output_type": "execute_result"
    }
   ],
   "source": [
    "abs(1)"
   ]
  },
  {
   "cell_type": "code",
   "execution_count": 62,
   "id": "82c8d033",
   "metadata": {},
   "outputs": [
    {
     "data": {
      "text/plain": [
       "5"
      ]
     },
     "execution_count": 62,
     "metadata": {},
     "output_type": "execute_result"
    }
   ],
   "source": [
    "max(1,2,3,4,5)"
   ]
  },
  {
   "cell_type": "code",
   "execution_count": 63,
   "id": "7a824f1a",
   "metadata": {},
   "outputs": [
    {
     "data": {
      "text/plain": [
       "1"
      ]
     },
     "execution_count": 63,
     "metadata": {},
     "output_type": "execute_result"
    }
   ],
   "source": [
    "min([1,2,3,4,5])"
   ]
  },
  {
   "cell_type": "code",
   "execution_count": 64,
   "id": "ea4e9a5c",
   "metadata": {},
   "outputs": [
    {
     "data": {
      "text/plain": [
       "1000"
      ]
     },
     "execution_count": 64,
     "metadata": {},
     "output_type": "execute_result"
    }
   ],
   "source": [
    "10**3"
   ]
  },
  {
   "cell_type": "code",
   "execution_count": 65,
   "id": "d6051ae1",
   "metadata": {},
   "outputs": [
    {
     "data": {
      "text/plain": [
       "1000"
      ]
     },
     "execution_count": 65,
     "metadata": {},
     "output_type": "execute_result"
    }
   ],
   "source": [
    "pow(10,3)"
   ]
  },
  {
   "cell_type": "code",
   "execution_count": 66,
   "id": "6bc8f8a9",
   "metadata": {},
   "outputs": [
    {
     "data": {
      "text/plain": [
       "'0o10'"
      ]
     },
     "execution_count": 66,
     "metadata": {},
     "output_type": "execute_result"
    }
   ],
   "source": [
    "oct(8)"
   ]
  },
  {
   "cell_type": "code",
   "execution_count": 67,
   "id": "dea58356",
   "metadata": {},
   "outputs": [
    {
     "data": {
      "text/plain": [
       "'0b11'"
      ]
     },
     "execution_count": 67,
     "metadata": {},
     "output_type": "execute_result"
    }
   ],
   "source": [
    "bin(3)"
   ]
  },
  {
   "cell_type": "code",
   "execution_count": 29,
   "id": "a3b410fb",
   "metadata": {},
   "outputs": [
    {
     "data": {
      "text/plain": [
       "True"
      ]
     },
     "execution_count": 29,
     "metadata": {},
     "output_type": "execute_result"
    }
   ],
   "source": [
    "all([True,True,True])"
   ]
  },
  {
   "cell_type": "code",
   "execution_count": 28,
   "id": "405c5ee0",
   "metadata": {},
   "outputs": [
    {
     "data": {
      "text/plain": [
       "False"
      ]
     },
     "execution_count": 28,
     "metadata": {},
     "output_type": "execute_result"
    }
   ],
   "source": [
    "all([True,True,False])"
   ]
  },
  {
   "cell_type": "code",
   "execution_count": 68,
   "id": "189c6f85",
   "metadata": {},
   "outputs": [
    {
     "data": {
      "text/plain": [
       "True"
      ]
     },
     "execution_count": 68,
     "metadata": {},
     "output_type": "execute_result"
    }
   ],
   "source": [
    "players = [('Carlsen',2842),\n",
    "           ('Caruana',2822),\n",
    "           ('Mamedyarov',2801),\n",
    "           ('Ding',2797),\n",
    "           ('Giri',2780)]\n",
    "\n",
    "all(rating>2700 for _, rating in players)"
   ]
  },
  {
   "cell_type": "code",
   "execution_count": 69,
   "id": "15c93a85",
   "metadata": {},
   "outputs": [
    {
     "name": "stdout",
     "output_type": "stream",
     "text": [
      "True\n",
      "False\n"
     ]
    }
   ],
   "source": [
    "players = [('Carlsen',2842),\n",
    "           ('Caruana',2822),\n",
    "           ('Mamedyarov',2801),\n",
    "           ('Ding',2797),\n",
    "           ('Giri',2780)]\n",
    "print(any(rating>2800 for _, rating in players))\n",
    "print(any(rating<2700 for _, rating in players))"
   ]
  },
  {
   "cell_type": "code",
   "execution_count": 71,
   "id": "2c324660",
   "metadata": {},
   "outputs": [
    {
     "name": "stdout",
     "output_type": "stream",
     "text": [
      "<class 'zip'>\n",
      "<zip object at 0x7ff308b1eec0>\n",
      "[('a', 10), ('b', 20), ('c', 30)]\n"
     ]
    }
   ],
   "source": [
    "letters = 'abcd'\n",
    "numbers = (10,20,30)\n",
    "\n",
    "zipped = zip(letters,numbers)\n",
    "print(type(zipped))\n",
    "print(zipped)\n",
    "\n",
    "zipped_list = [*zipped]\n",
    "print(zipped_list)"
   ]
  },
  {
   "cell_type": "code",
   "execution_count": 39,
   "id": "dcba4289",
   "metadata": {},
   "outputs": [
    {
     "data": {
      "text/plain": [
       "'a'"
      ]
     },
     "execution_count": 39,
     "metadata": {},
     "output_type": "execute_result"
    }
   ],
   "source": [
    "chr(ord('a'))"
   ]
  },
  {
   "cell_type": "code",
   "execution_count": 72,
   "id": "1936a86b",
   "metadata": {},
   "outputs": [],
   "source": [
    "def greeting():\n",
    "    '''\n",
    "    DOCSTRING: Information about function\n",
    "    INPUT: no input...\n",
    "    OUTPUT: Hello!\n",
    "    '''\n",
    "    print('Hello!')"
   ]
  },
  {
   "cell_type": "code",
   "execution_count": 41,
   "id": "5aef04b5",
   "metadata": {},
   "outputs": [
    {
     "name": "stdout",
     "output_type": "stream",
     "text": [
      "Hello!\n"
     ]
    }
   ],
   "source": [
    "greeting()"
   ]
  },
  {
   "cell_type": "code",
   "execution_count": 42,
   "id": "af58e9cd",
   "metadata": {},
   "outputs": [
    {
     "name": "stdout",
     "output_type": "stream",
     "text": [
      "Help on function greeting in module __main__:\n",
      "\n",
      "greeting()\n",
      "    DOCSTRING: Information about function\n",
      "    INPUT: no input...\n",
      "    OUTPUT: Hello!\n",
      "\n"
     ]
    }
   ],
   "source": [
    "help(greeting)"
   ]
  },
  {
   "cell_type": "code",
   "execution_count": 43,
   "id": "7ce3fe22",
   "metadata": {},
   "outputs": [],
   "source": [
    "def print_name(name='Vladimir'):\n",
    "    '''\n",
    "    DOCSTRING: Returns your arquement in upper case\n",
    "    INPUT: str\n",
    "    OUTPUT: arquement in upper case\n",
    "    '''\n",
    "    print(name.upper())\n",
    "    "
   ]
  },
  {
   "cell_type": "code",
   "execution_count": 44,
   "id": "4413ad35",
   "metadata": {},
   "outputs": [
    {
     "name": "stdout",
     "output_type": "stream",
     "text": [
      "ELIJAH\n",
      "VLADIMIR\n"
     ]
    }
   ],
   "source": [
    "print_name('Elijah')\n",
    "print_name()"
   ]
  },
  {
   "cell_type": "code",
   "execution_count": 45,
   "id": "b342a011",
   "metadata": {},
   "outputs": [],
   "source": [
    "def get_greeting(name = 'Master'):\n",
    "    return 'Hello ' + name"
   ]
  },
  {
   "cell_type": "code",
   "execution_count": 46,
   "id": "a81ab419",
   "metadata": {},
   "outputs": [
    {
     "data": {
      "text/plain": [
       "'Hello Vladimir'"
      ]
     },
     "execution_count": 46,
     "metadata": {},
     "output_type": "execute_result"
    }
   ],
   "source": [
    "get_greeting(\"Vladimir\")"
   ]
  },
  {
   "cell_type": "code",
   "execution_count": 47,
   "id": "6ed12a4b",
   "metadata": {},
   "outputs": [],
   "source": [
    "def get_sum(a,b):\n",
    "    return a+b"
   ]
  },
  {
   "cell_type": "code",
   "execution_count": 48,
   "id": "4670894b",
   "metadata": {},
   "outputs": [
    {
     "data": {
      "text/plain": [
       "10"
      ]
     },
     "execution_count": 48,
     "metadata": {},
     "output_type": "execute_result"
    }
   ],
   "source": [
    "get_sum(7,3)"
   ]
  },
  {
   "cell_type": "code",
   "execution_count": 49,
   "id": "7c74977d",
   "metadata": {},
   "outputs": [],
   "source": [
    "def is_adult(age):\n",
    "    return age >= 18"
   ]
  },
  {
   "cell_type": "code",
   "execution_count": 50,
   "id": "5d906ded",
   "metadata": {},
   "outputs": [
    {
     "data": {
      "text/plain": [
       "True"
      ]
     },
     "execution_count": 50,
     "metadata": {},
     "output_type": "execute_result"
    }
   ],
   "source": [
    "is_adult(18)"
   ]
  },
  {
   "cell_type": "code",
   "execution_count": 51,
   "id": "4587bcb8",
   "metadata": {},
   "outputs": [],
   "source": [
    "def is_palindrome(text):\n",
    "    return text == text[::-1]"
   ]
  },
  {
   "cell_type": "code",
   "execution_count": 52,
   "id": "371d0818",
   "metadata": {},
   "outputs": [
    {
     "name": "stdout",
     "output_type": "stream",
     "text": [
      "True\n",
      "False\n"
     ]
    }
   ],
   "source": [
    "print(is_palindrome('abbbbba'))\n",
    "print(is_palindrome('abbbcca'))"
   ]
  },
  {
   "cell_type": "code",
   "execution_count": 53,
   "id": "d2e5f259",
   "metadata": {},
   "outputs": [],
   "source": [
    "def calc_taxes(p1=0, p2=0, p3=0):\n",
    "    return sum([p1,p2,p3]) * 0.06"
   ]
  },
  {
   "cell_type": "code",
   "execution_count": 54,
   "id": "95779cda",
   "metadata": {},
   "outputs": [
    {
     "data": {
      "text/plain": [
       "3.5999999999999996"
      ]
     },
     "execution_count": 54,
     "metadata": {},
     "output_type": "execute_result"
    }
   ],
   "source": [
    "calc_taxes(10,20,30)"
   ]
  },
  {
   "cell_type": "code",
   "execution_count": 66,
   "id": "f54642a0",
   "metadata": {},
   "outputs": [
    {
     "name": "stdout",
     "output_type": "stream",
     "text": [
      "Got payment = 10\n",
      "Got payment = 20\n",
      "Got payment = 30\n",
      "Got payment = 356\n",
      "\n",
      "Got payment = 10\n",
      "Got payment = 20\n",
      "Got payment = 30\n",
      "Got payment = 356\n"
     ]
    },
    {
     "data": {
      "text/plain": [
       "24.96"
      ]
     },
     "execution_count": 66,
     "metadata": {},
     "output_type": "execute_result"
    }
   ],
   "source": [
    "payments =  (10,20,30,356)\n",
    "def calc_taxes(*args): # Convinient\n",
    "    for x in args:\n",
    "        print(f'Got payment = {x}')\n",
    "    return sum(args)*0.06\n",
    "\n",
    "calc_taxes(10,20,30,356)\n",
    "print()\n",
    "calc_taxes(*payments)"
   ]
  },
  {
   "cell_type": "code",
   "execution_count": null,
   "id": "be32e47e",
   "metadata": {},
   "outputs": [],
   "source": [
    "calc_taxes(10,20,30,40,50)"
   ]
  },
  {
   "cell_type": "code",
   "execution_count": 56,
   "id": "454c98d6",
   "metadata": {},
   "outputs": [],
   "source": [
    "def save_players(**kwargs):\n",
    "    for k, v in kwargs.items():\n",
    "        print(f'Player {k} has rating {v}')"
   ]
  },
  {
   "cell_type": "code",
   "execution_count": 73,
   "id": "6db2da83",
   "metadata": {},
   "outputs": [
    {
     "name": "stdout",
     "output_type": "stream",
     "text": [
      "Player Carlsen has rating 2800\n",
      "Player Giri has rating 2780\n",
      "Player Indreams has rating 3000\n",
      "\n",
      "Player Carlsen has rating 2800\n",
      "Player Giri has rating 2780\n",
      "Player Indreams has rating 3000\n"
     ]
    }
   ],
   "source": [
    "dic = {'Carlsen':2800,\n",
    "       'Giri':2780,\n",
    "       'Indreams':3000} #Hmmm \n",
    "save_players(Carlsen=2800,\n",
    "             Giri=2780,\n",
    "             Indreams=3000)\n",
    "print()\n",
    "save_players(**dic)"
   ]
  },
  {
   "cell_type": "code",
   "execution_count": null,
   "id": "400a75a3",
   "metadata": {},
   "outputs": [],
   "source": [
    "#def_important(a, b, c, *args, **kwargs)"
   ]
  },
  {
   "cell_type": "code",
   "execution_count": 73,
   "id": "422a37ea",
   "metadata": {},
   "outputs": [],
   "source": [
    "def square(*args):\n",
    "    return [x*x for x in args]\n",
    "def triple(*args):\n",
    "    return [x**3 for x in args]"
   ]
  },
  {
   "cell_type": "code",
   "execution_count": 74,
   "id": "4a780440",
   "metadata": {},
   "outputs": [
    {
     "name": "stdout",
     "output_type": "stream",
     "text": [
      "[1, 4, 9, 16, 25]\n"
     ]
    }
   ],
   "source": [
    "print(square(1,2,3,4,5))"
   ]
  },
  {
   "cell_type": "code",
   "execution_count": 75,
   "id": "29dcd72d",
   "metadata": {},
   "outputs": [
    {
     "data": {
      "text/plain": [
       "[1, 8, 27, 64, 125]"
      ]
     },
     "execution_count": 75,
     "metadata": {},
     "output_type": "execute_result"
    }
   ],
   "source": [
    "triple(1,2,3,4,5)"
   ]
  },
  {
   "cell_type": "code",
   "execution_count": 74,
   "id": "674a5200",
   "metadata": {},
   "outputs": [
    {
     "name": "stdout",
     "output_type": "stream",
     "text": [
      "1\n",
      "4\n",
      "9\n",
      "16\n",
      "25\n",
      "(1, 4, 9, 16, 25)\n"
     ]
    }
   ],
   "source": [
    "def square(number):\n",
    "    return number*number\n",
    "numbers =[1,2,3,4,5]\n",
    "for x in map(square,numbers):\n",
    "    print(x)\n",
    "print(tuple(map(square,numbers)))"
   ]
  },
  {
   "cell_type": "code",
   "execution_count": 75,
   "id": "6ee0fd35",
   "metadata": {},
   "outputs": [
    {
     "data": {
      "text/plain": [
       "(18, 21, 30)"
      ]
     },
     "execution_count": 75,
     "metadata": {},
     "output_type": "execute_result"
    }
   ],
   "source": [
    "def is_adult(age):\n",
    "    return age >= 18\n",
    "    \n",
    "ages = [14, 18, 21, 16, 30]\n",
    "\n",
    "tuple(filter(is_adult, ages))"
   ]
  },
  {
   "cell_type": "code",
   "execution_count": null,
   "id": "be16d116",
   "metadata": {},
   "outputs": [],
   "source": [
    "is_adult = lambda age : age >= 18"
   ]
  },
  {
   "cell_type": "code",
   "execution_count": 76,
   "id": "2b2f88cb",
   "metadata": {},
   "outputs": [
    {
     "data": {
      "text/plain": [
       "(18, 21, 30)"
      ]
     },
     "execution_count": 76,
     "metadata": {},
     "output_type": "execute_result"
    }
   ],
   "source": [
    "tuple(filter(lambda age : age >= 18, ages)) #Oh my))"
   ]
  },
  {
   "cell_type": "code",
   "execution_count": 77,
   "id": "d8779f3f",
   "metadata": {},
   "outputs": [],
   "source": [
    "multiplier = lambda x,y: x*y"
   ]
  },
  {
   "cell_type": "code",
   "execution_count": 78,
   "id": "43b610ac",
   "metadata": {},
   "outputs": [
    {
     "data": {
      "text/plain": [
       "30"
      ]
     },
     "execution_count": 78,
     "metadata": {},
     "output_type": "execute_result"
    }
   ],
   "source": [
    "multiplier(2,10)\n",
    "multiplier(3,10)"
   ]
  },
  {
   "cell_type": "code",
   "execution_count": 76,
   "id": "bb92a5dc",
   "metadata": {},
   "outputs": [
    {
     "name": "stdout",
     "output_type": "stream",
     "text": [
      "Hello from the local scope\n",
      "Hello from the enclosing scope\n",
      "Hello from the global scope\n"
     ]
    }
   ],
   "source": [
    "greeting = 'Hello from the global scope'\n",
    "def greet():\n",
    "    greeting = 'Hello from the enclosing scope'\n",
    "    def nested():\n",
    "        greeting = 'Hello from the local scope'\n",
    "        print(greeting)\n",
    "    nested()\n",
    "    print(greeting)\n",
    "greet()\n",
    "print(greeting)\n",
    "    "
   ]
  },
  {
   "cell_type": "code",
   "execution_count": 82,
   "id": "6dea847d",
   "metadata": {},
   "outputs": [
    {
     "name": "stdout",
     "output_type": "stream",
     "text": [
      "Greet in func:Hello from the global scope\n",
      "Greet in func:Hello from the enclosing scope\n",
      "Hello from the local scope\n",
      "Hello from the enclosing scope\n"
     ]
    }
   ],
   "source": [
    "greeting = 'Hello from the global scope'\n",
    "\n",
    "def greet():\n",
    "        global greeting\n",
    "        print(f'Greet in func:{greeting}')\n",
    "        greeting = 'Hello from the enclosing scope'\n",
    "        print(f'Greet in func:{greeting}')\n",
    "        def nested():\n",
    "            greeting = \"Hello from the local scope\"\n",
    "            print(greeting)\n",
    "        nested()\n",
    "greet()\n",
    "print(greeting)"
   ]
  },
  {
   "cell_type": "code",
   "execution_count": 84,
   "id": "bc9666c1",
   "metadata": {},
   "outputs": [
    {
     "name": "stdout",
     "output_type": "stream",
     "text": [
      "Hello, world!\n"
     ]
    }
   ],
   "source": [
    "def hello_world():\n",
    "    print('Hello, world!')\n",
    "hello_world()"
   ]
  },
  {
   "cell_type": "code",
   "execution_count": 87,
   "id": "77c78942",
   "metadata": {},
   "outputs": [
    {
     "data": {
      "text/plain": [
       "<function __main__.hello_world()>"
      ]
     },
     "execution_count": 87,
     "metadata": {},
     "output_type": "execute_result"
    }
   ],
   "source": [
    "hello2 = hello_world\n",
    "hello2"
   ]
  },
  {
   "cell_type": "code",
   "execution_count": 88,
   "id": "bd862dd9",
   "metadata": {},
   "outputs": [
    {
     "name": "stdout",
     "output_type": "stream",
     "text": [
      "Hello, world!\n"
     ]
    }
   ],
   "source": [
    "hello2()"
   ]
  },
  {
   "cell_type": "code",
   "execution_count": 89,
   "id": "5add017c",
   "metadata": {},
   "outputs": [],
   "source": [
    "def hello_world():\n",
    "    def internal():\n",
    "        print('Hello, world!')\n",
    "    return internal"
   ]
  },
  {
   "cell_type": "code",
   "execution_count": 90,
   "id": "5230590a",
   "metadata": {},
   "outputs": [],
   "source": [
    "hello2 = hello_world()"
   ]
  },
  {
   "cell_type": "code",
   "execution_count": 91,
   "id": "6c3912bf",
   "metadata": {},
   "outputs": [
    {
     "name": "stdout",
     "output_type": "stream",
     "text": [
      "Hello, world!\n"
     ]
    }
   ],
   "source": [
    "hello2()"
   ]
  },
  {
   "cell_type": "code",
   "execution_count": 77,
   "id": "7db007f7",
   "metadata": {},
   "outputs": [
    {
     "name": "stdout",
     "output_type": "stream",
     "text": [
      "Hello, world!\n"
     ]
    }
   ],
   "source": [
    "def say_something(func):\n",
    "    func()\n",
    "def hello_world():\n",
    "    print(\"Hello, world!\")\n",
    "    \n",
    "say_something(hello_world)"
   ]
  },
  {
   "cell_type": "code",
   "execution_count": 80,
   "id": "cc1e1bd4",
   "metadata": {},
   "outputs": [
    {
     "name": "stdout",
     "output_type": "stream",
     "text": [
      "Calling <function hello_world at 0x7ff2e8b6e5e0>\n",
      "Hello, world!\n",
      "Func <function hello_world at 0x7ff2e8b6e5e0> finished its work\n"
     ]
    }
   ],
   "source": [
    "def hello_world():\n",
    "    print(\"Hello, world!\")\n",
    "def log_decorator(func):\n",
    "    def wrap():\n",
    "        print(f'Calling {func}')\n",
    "        func()\n",
    "        print(f'Func {func} finished its work')\n",
    "    return wrap #return from log_decorator func \n",
    "wrapped_by_logger=log_decorator(hello_world)\n",
    "wrapped_by_logger()"
   ]
  },
  {
   "cell_type": "code",
   "execution_count": 81,
   "id": "27faa918",
   "metadata": {},
   "outputs": [],
   "source": [
    "@log_decorator\n",
    "def hello_world():\n",
    "    print(\"Hello, world!\")"
   ]
  },
  {
   "cell_type": "code",
   "execution_count": 82,
   "id": "ade49128",
   "metadata": {},
   "outputs": [
    {
     "name": "stdout",
     "output_type": "stream",
     "text": [
      "Calling <function hello_world at 0x7ff2e8b6eca0>\n",
      "Hello, world!\n",
      "Func <function hello_world at 0x7ff2e8b6eca0> finished its work\n"
     ]
    }
   ],
   "source": [
    "hello_world() "
   ]
  },
  {
   "cell_type": "code",
   "execution_count": 84,
   "id": "8d7c8fab",
   "metadata": {},
   "outputs": [],
   "source": [
    "#from timeit import default_timer as timer\n",
    "#import math,time\n",
    "#import time\n",
    "\n",
    "def measure_time(func):\n",
    "    \n",
    "    from timeit import default_timer as timer # seems better\n",
    "    import math,time\n",
    "    \n",
    "    def inner(*args,**kwargs):\n",
    "        start = timer()\n",
    "        \n",
    "        func(*args, **kwargs)\n",
    "        \n",
    "        end = timer()\n",
    "        \n",
    "        print(f'Function {func.__name__} took {end-start} for execution')\n",
    "    return inner"
   ]
  },
  {
   "cell_type": "code",
   "execution_count": 85,
   "id": "3c902240",
   "metadata": {},
   "outputs": [],
   "source": [
    "@measure_time\n",
    "def factorial(num):\n",
    "    time.sleep(3)\n",
    "    print(math.factorial(num))"
   ]
  },
  {
   "cell_type": "code",
   "execution_count": 86,
   "id": "ddbe3255",
   "metadata": {},
   "outputs": [
    {
     "name": "stdout",
     "output_type": "stream",
     "text": [
      "2\n",
      "Function factorial took 3.001927313000124 for execution\n"
     ]
    }
   ],
   "source": [
    "factorial(2)"
   ]
  },
  {
   "cell_type": "code",
   "execution_count": 107,
   "id": "b1b876ce",
   "metadata": {},
   "outputs": [],
   "source": [
    " def log_decorator(func):\n",
    "    def wrap():\n",
    "        print(f'Calling {func}')\n",
    "        func()\n",
    "        print(f'Func {func} finished its work')\n",
    "    return wrap\n",
    "@log_decorator\n",
    "def hello():\n",
    "    print('hello, world')"
   ]
  },
  {
   "cell_type": "code",
   "execution_count": 108,
   "id": "4395770e",
   "metadata": {},
   "outputs": [
    {
     "name": "stdout",
     "output_type": "stream",
     "text": [
      "Calling <function hello at 0x7fa479443dc0>\n",
      "hello, world\n",
      "Func <function hello at 0x7fa479443dc0> finished its work\n"
     ]
    }
   ],
   "source": [
    "hello()"
   ]
  },
  {
   "cell_type": "code",
   "execution_count": 109,
   "id": "c8c5ec92",
   "metadata": {},
   "outputs": [
    {
     "name": "stdout",
     "output_type": "stream",
     "text": [
      "Help on function wrap in module __main__:\n",
      "\n",
      "wrap()\n",
      "\n"
     ]
    }
   ],
   "source": [
    "help(hello)"
   ]
  },
  {
   "cell_type": "code",
   "execution_count": 116,
   "id": "2869004a",
   "metadata": {},
   "outputs": [],
   "source": [
    "from functools import wraps"
   ]
  },
  {
   "cell_type": "code",
   "execution_count": 117,
   "id": "c12595c4",
   "metadata": {},
   "outputs": [],
   "source": [
    "def log_decorator(func):\n",
    "    @wraps(func)\n",
    "    def wrap(*args,**kwargs):\n",
    "        print(f'Calling {func}')\n",
    "        func()\n",
    "        print(f'Func {func} finished its work')\n",
    "    return wrap"
   ]
  },
  {
   "cell_type": "code",
   "execution_count": 118,
   "id": "ac49ab44",
   "metadata": {},
   "outputs": [],
   "source": [
    "@log_decorator\n",
    "def hello():\n",
    "    print('hello, world')"
   ]
  },
  {
   "cell_type": "code",
   "execution_count": 119,
   "id": "c7d6ea9e",
   "metadata": {},
   "outputs": [
    {
     "name": "stdout",
     "output_type": "stream",
     "text": [
      "Help on function hello in module __main__:\n",
      "\n",
      "hello()\n",
      "\n"
     ]
    }
   ],
   "source": [
    "help(hello)"
   ]
  },
  {
   "cell_type": "code",
   "execution_count": 120,
   "id": "08d1b0cc",
   "metadata": {},
   "outputs": [
    {
     "data": {
      "text/plain": [
       "'p1'"
      ]
     },
     "execution_count": 120,
     "metadata": {},
     "output_type": "execute_result"
    }
   ],
   "source": [
    "p1 = '             Bang!   '\n",
    "p2 = '                Bang!  '\n",
    "\n",
    "def whos_first(p1, p2):\n",
    "    p1_time = p1.partition('Bang!')\n",
    "    p2_time = p2.partition('Bang!')\n",
    "    if p1_time[0] < p2_time[0]:\n",
    "        return 'p1'\n",
    "    elif p1_time[0] > p2_time[0]:\n",
    "        return 'p2'\n",
    "    else:\n",
    "        return 'tie'\n",
    "whos_first(p1, p2)"
   ]
  },
  {
   "cell_type": "code",
   "execution_count": null,
   "id": "f363ea10",
   "metadata": {},
   "outputs": [],
   "source": [
    "discs = int(input('How many disks? '))\n",
    "def solve_hanoi_tower(discs):\n",
    "    return 2**discs - 1\n",
    "solve_hanoi_tower(discs)\n"
   ]
  },
  {
   "cell_type": "code",
   "execution_count": 89,
   "id": "0d88ac5a",
   "metadata": {},
   "outputs": [
    {
     "data": {
      "text/plain": [
       "0"
      ]
     },
     "execution_count": 89,
     "metadata": {},
     "output_type": "execute_result"
    }
   ],
   "source": [
    "lst = [(1,1), (3,4), (5,6)]\n",
    "\n",
    "def calc_dice_scores(lst):\n",
    "    score = 0\n",
    "    for x, y in lst:\n",
    "        \n",
    "        if x == y:\n",
    "            score = 0\n",
    "            break\n",
    "        else:\n",
    "            score += x + y\n",
    "    return score\n",
    "calc_dice_scores(lst)"
   ]
  },
  {
   "cell_type": "code",
   "execution_count": 92,
   "id": "2805d05c",
   "metadata": {},
   "outputs": [
    {
     "data": {
      "text/plain": [
       "False"
      ]
     },
     "execution_count": 92,
     "metadata": {},
     "output_type": "execute_result"
    }
   ],
   "source": [
    "square = [[1,3,2],\n",
    "          [9,7,8],\n",
    "          [4,5,6]]\n",
    "def any_duplicates(square):\n",
    "    list = []\n",
    "    for x, y, z in square:\n",
    "        list.append(x)\n",
    "        list.append(y)\n",
    "        list.append(z)\n",
    "    \n",
    "    if len(list) == len(set(list)):\n",
    "        return False\n",
    "    else:\n",
    "        return True\n",
    "any_duplicates(square)\n",
    "    \n",
    "#dup[1][0] #oh my)))"
   ]
  },
  {
   "cell_type": "code",
   "execution_count": 93,
   "id": "cb0900a0",
   "metadata": {},
   "outputs": [],
   "source": [
    "square = [[1,3,2],[9,7,8],[4,5,6]]\n"
   ]
  },
  {
   "cell_type": "code",
   "execution_count": 94,
   "id": "cd0c0c72",
   "metadata": {},
   "outputs": [
    {
     "data": {
      "text/plain": [
       "'p1'"
      ]
     },
     "execution_count": 94,
     "metadata": {},
     "output_type": "execute_result"
    }
   ],
   "source": [
    "p1 = '             Bang!   '\n",
    "p2 = '               Bang!  '\n",
    "\n",
    "def shutdown(p1,p2):\n",
    "    diff = p1.find('B') - p2.find('B')\n",
    "    if diff < 0:\n",
    "        return 'p1'\n",
    "    elif diff > 0:\n",
    "        return 'p2'\n",
    "    else:\n",
    "        return 'tie'\n",
    "shutdown(p1,p2)"
   ]
  },
  {
   "cell_type": "code",
   "execution_count": null,
   "id": "8dd8f176",
   "metadata": {},
   "outputs": [],
   "source": [
    "lst = [(1,2), (3,4), (5,6)]\n",
    "\n",
    "def calc_dice_scores(lst):\n",
    "    return sum(a+b for a, b in lst) if not any(a==b for a, b in lst) else 0\n",
    "calc_dice_scores(lst)"
   ]
  },
  {
   "cell_type": "code",
   "execution_count": 101,
   "id": "28f4e939",
   "metadata": {},
   "outputs": [
    {
     "data": {
      "text/plain": [
       "False"
      ]
     },
     "execution_count": 101,
     "metadata": {},
     "output_type": "execute_result"
    }
   ],
   "source": [
    "square = ([[1,3,2],[9,7,8],[4,5,6]])\n",
    "def any_duplicates(square):\n",
    "    plain = [i for x in square for i in x]\n",
    "    return len(sorted(plain)) != len(set(plain)) \n",
    "    # [1, 2, 3, 4, 5, 6, 7, 8, 9] idea is not fun!\n",
    "any_duplicates(square)"
   ]
  },
  {
   "cell_type": "code",
   "execution_count": null,
   "id": "eec5cc4f",
   "metadata": {},
   "outputs": [],
   "source": [
    "from IPython.display import clear_output\n",
    "\n",
    "player ={}\n",
    "\n",
    "while True:\n",
    "    clear_output()\n",
    "    n_straws = int(input('How many straws? '))\n",
    "    if n_straws < 10:\n",
    "        print(\"Hey, it can't be less than 10!\")\n",
    "        input('Press \"Enter\" and try again!')\n",
    "        continue\n",
    "    n_players = int(input('How many players? '))\n",
    "    if n_players < n_straws + 1:\n",
    "        break\n",
    "    else:\n",
    "        clear_output()\n",
    "        print(\"It won't be fun!\")\n",
    "        input('Press \"Enter\" and try again!')\n",
    "        continue\n",
    "clear_output()\n",
    "def interface():\n",
    "    print(f'{n_players} players are loking on {n_straws} straws \\n')\n",
    "    print('    ','| '*n_straws,'\\n')\n",
    "interface()\n",
    "\n",
    "for i in range(n_players):\n",
    "    player[i] = input(f'Player №{i+1} name: ')\n",
    "\n",
    "rnd = 1\n",
    "\n",
    "while n_straws > 1:\n",
    "    for i in range(n_players):\n",
    "        \n",
    "        clear_output()\n",
    "        print(f'Round {rnd}\\nTime to choose {player[i]}\\n')\n",
    "        interface()\n",
    "        n_straws-=int(input(f'{player[i]} will take(1-3): ')) \n",
    "        if n_straws == 1:\n",
    "            print(f'{player[i]} is the winner!' )\n",
    "            break\n",
    "    rnd+=1    \n",
    "    \n",
    "    \n",
    "    \n",
    "#Лень допиливать уже контроль 1-3 и последнюю палку!        \n",
    "#print('LONG \\n and strange \\n  output')\n",
    "#clear_output()"
   ]
  },
  {
   "cell_type": "code",
   "execution_count": null,
   "id": "4eed3cb0",
   "metadata": {},
   "outputs": [],
   "source": [
    "from IPython.display import clear_output\n",
    "number_of_sticks = 10\n",
    "player_turn = 1\n",
    "\n",
    "while number_of_sticks > 0:\n",
    "    clear_output()\n",
    "    print(f'How many sticks you take? Remaining {number_of_sticks}')\n",
    "    taken = int(input())\n",
    "    \n",
    "    if taken <1 or taken > 3:\n",
    "        print(f'You tried to take {taken}. Allowed to take 1-3 sticks.')\n",
    "        continue\n",
    "    number_of_sticks -= taken\n",
    "    print(f'Sticks taken: {taken}\\n')\n",
    "    \n",
    "    if number_of_sticks <= 0:\n",
    "        print(f'No more sticks in the game. \\nPlayer {player_turn} has lost!')\n",
    "    player_turn = 1 if player_turn == 2 else 2\n",
    "        "
   ]
  },
  {
   "cell_type": "code",
   "execution_count": null,
   "id": "6e0655c1",
   "metadata": {},
   "outputs": [],
   "source": [
    "number_of_sticks = 10\n",
    "player_turn = 1\n",
    "\n",
    "def can_take(sticks):\n",
    "    return sticks >= 1 and sticks <=3\n",
    "\n",
    "def switch_player_turn(turn):\n",
    "    return 1 if player_turn == 2 else 2\n",
    "\n",
    "def end_of_game(sticks):\n",
    "    return sticks <=0\n",
    "\n",
    "while (not end_of_game(number_of_sticks)):\n",
    "    print(f'How many sticks you take? Remaining {number_of_sticks}')\n",
    "    taken = int(input())\n",
    "    \n",
    "    if not can_take(taken):\n",
    "        print(f'You tried to take {taken}. Allowed to take 1-3 sticks.')\n",
    "        continue\n",
    "        \n",
    "    number_of_sticks -= taken\n",
    "    print(f'Sticks taken: {taken}\\n')\n",
    "    \n",
    "    \n",
    "    if end_of_game(number_of_sticks):\n",
    "        print(f'No more sticks in the game. \\nPlayer {player_turn} has lost!')\n",
    "        break\n",
    "        \n",
    "    player_turn = switch_player_turn(player_turn)"
   ]
  },
  {
   "cell_type": "code",
   "execution_count": null,
   "id": "cb143caa",
   "metadata": {},
   "outputs": [],
   "source": []
  }
 ],
 "metadata": {
  "kernelspec": {
   "display_name": "Python 3",
   "language": "python",
   "name": "python3"
  },
  "language_info": {
   "codemirror_mode": {
    "name": "ipython",
    "version": 3
   },
   "file_extension": ".py",
   "mimetype": "text/x-python",
   "name": "python",
   "nbconvert_exporter": "python",
   "pygments_lexer": "ipython3",
   "version": "3.8.8"
  }
 },
 "nbformat": 4,
 "nbformat_minor": 5
}
