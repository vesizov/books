{
 "cells": [
  {
   "cell_type": "code",
   "execution_count": 35,
   "id": "90af95a7",
   "metadata": {},
   "outputs": [],
   "source": [
    "from IPython.display import clear_output"
   ]
  },
  {
   "cell_type": "code",
   "execution_count": 36,
   "id": "3d08c2da",
   "metadata": {},
   "outputs": [],
   "source": [
    "board = [' ',' ',' ',' ',' ',' ',' ',' ',' ']"
   ]
  },
  {
   "cell_type": "code",
   "execution_count": 37,
   "id": "3ede6dbb",
   "metadata": {},
   "outputs": [],
   "source": [
    "def print_state(state):\n",
    "    for i, c in enumerate(state):\n",
    "        if (i+1)%3 == 0:\n",
    "            print(f'{c}')\n",
    "        else:\n",
    "            print(f'{c}|', end = '')"
   ]
  },
  {
   "cell_type": "code",
   "execution_count": 38,
   "id": "09b02650",
   "metadata": {},
   "outputs": [],
   "source": [
    "def is_number(digit):\n",
    "    try:\n",
    "        int(digit)\n",
    "        return True\n",
    "    except ValueError:\n",
    "        return False"
   ]
  },
  {
   "cell_type": "code",
   "execution_count": 39,
   "id": "74c439cd",
   "metadata": {},
   "outputs": [],
   "source": [
    "def game_interface(state,sign):\n",
    "    while True:\n",
    "        player_choise = input(f'Where you want to draw {sign}?')\n",
    "        if is_number(player_choise):\n",
    "            player_choise = int(player_choise)\n",
    "            if player_choise >= 0 and player_choise <= 8 and state[player_choise] == ' ':\n",
    "                break\n",
    "            else:\n",
    "                print('Something is wrong, please try again!')\n",
    "                continue\n",
    "        else:\n",
    "            print('No strings!')\n",
    "        \n",
    "    return player_choise"
   ]
  },
  {
   "cell_type": "code",
   "execution_count": 40,
   "id": "3315fc4e",
   "metadata": {},
   "outputs": [],
   "source": [
    "winning_combinations = [(0,1,2), (3,4,5), (6,7,8),\n",
    "                        (0,3,6), (1,4,7), (2,5,8),\n",
    "                        (0,4,8), (2,4,6)]"
   ]
  },
  {
   "cell_type": "code",
   "execution_count": 41,
   "id": "b1d534af",
   "metadata": {},
   "outputs": [],
   "source": [
    "def get_winner(state, combinations):\n",
    "    for (x,y,z) in combinations:\n",
    "        if state[x] == state[y] and state[y] == state[z] and (state[x] == 'X' or state[x] == 'O'):\n",
    "            return state[x]\n",
    "    return ''    "
   ]
  },
  {
   "cell_type": "code",
   "execution_count": 42,
   "id": "0c15a4b7",
   "metadata": {},
   "outputs": [],
   "source": [
    "def play_game(board):\n",
    "    \n",
    "    current_sign = 'X'\n",
    "    while(get_winner(board,winning_combinations) ==''):\n",
    "        print_state(board)\n",
    "        index = game_interface(board,current_sign)#int(input(f'Where you want to draw {current_sign}?'))\n",
    "        board[index] = current_sign\n",
    "        \n",
    "        clear_output()\n",
    "        winner_sign = get_winner(board,winning_combinations)\n",
    "        if winner_sign != '':\n",
    "            print(f'We have a winner:{winner_sign}')\n",
    "        \n",
    "        current_sign = 'X' if current_sign == 'O' else 'O'"
   ]
  },
  {
   "cell_type": "code",
   "execution_count": 43,
   "id": "9a75a40b",
   "metadata": {},
   "outputs": [
    {
     "name": "stdout",
     "output_type": "stream",
     "text": [
      "We have a winner:X\n"
     ]
    }
   ],
   "source": [
    "play_game(board)"
   ]
  },
  {
   "cell_type": "code",
   "execution_count": null,
   "id": "198df7b1",
   "metadata": {},
   "outputs": [],
   "source": []
  }
 ],
 "metadata": {
  "kernelspec": {
   "display_name": "Python 3",
   "language": "python",
   "name": "python3"
  },
  "language_info": {
   "codemirror_mode": {
    "name": "ipython",
    "version": 3
   },
   "file_extension": ".py",
   "mimetype": "text/x-python",
   "name": "python",
   "nbconvert_exporter": "python",
   "pygments_lexer": "ipython3",
   "version": "3.8.8"
  }
 },
 "nbformat": 4,
 "nbformat_minor": 5
}
