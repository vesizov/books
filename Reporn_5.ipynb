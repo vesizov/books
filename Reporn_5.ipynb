{
 "cells": [
  {
   "cell_type": "code",
   "execution_count": 1,
   "id": "9d0f640c",
   "metadata": {},
   "outputs": [],
   "source": [
    "import random\n"
   ]
  },
  {
   "cell_type": "code",
   "execution_count": 2,
   "id": "a7fe0611",
   "metadata": {},
   "outputs": [],
   "source": [
    "def randoms(min, max, n):\n",
    "    return [random.randint(min, max) for _ in range(n)]"
   ]
  },
  {
   "cell_type": "code",
   "execution_count": 3,
   "id": "fa92897a",
   "metadata": {},
   "outputs": [
    {
     "name": "stdout",
     "output_type": "stream",
     "text": [
      "22\n",
      "29\n",
      "28\n",
      "26\n",
      "29\n"
     ]
    }
   ],
   "source": [
    "for r in randoms(10,30,5):\n",
    "    print(r)"
   ]
  },
  {
   "cell_type": "code",
   "execution_count": 4,
   "id": "d19cb1d0",
   "metadata": {},
   "outputs": [],
   "source": [
    "def randoms(min, max, n):\n",
    "    for i in range(n):\n",
    "        yield random.randint(min, max)"
   ]
  },
  {
   "cell_type": "code",
   "execution_count": 5,
   "id": "28fd258c",
   "metadata": {},
   "outputs": [
    {
     "name": "stdout",
     "output_type": "stream",
     "text": [
      "18\n",
      "21\n",
      "28\n",
      "12\n",
      "12\n"
     ]
    }
   ],
   "source": [
    "for r in randoms(10,30,5):\n",
    "    print(r)"
   ]
  },
  {
   "cell_type": "code",
   "execution_count": 6,
   "id": "f1b59f4c",
   "metadata": {},
   "outputs": [
    {
     "data": {
      "text/plain": [
       "<generator object randoms at 0x7fbec07b1c80>"
      ]
     },
     "execution_count": 6,
     "metadata": {},
     "output_type": "execute_result"
    }
   ],
   "source": [
    "rand_sequence = randoms(1, 10, 10)\n",
    "rand_sequence"
   ]
  },
  {
   "cell_type": "code",
   "execution_count": null,
   "id": "ef5928d8",
   "metadata": {},
   "outputs": [],
   "source": [
    "for i in rand_sequence:\n",
    "    print(i)"
   ]
  },
  {
   "cell_type": "code",
   "execution_count": null,
   "id": "739e73d1",
   "metadata": {},
   "outputs": [],
   "source": [
    "def randoms(min, max, n):\n",
    "    for i in range(n):\n",
    "        yield random.randint(min, max)"
   ]
  },
  {
   "cell_type": "code",
   "execution_count": null,
   "id": "6b1e143c",
   "metadata": {},
   "outputs": [],
   "source": [
    "import itertools\n",
    "rand_sequence = randoms(1,10,10)\n",
    "five_taken = list(itertools.islice(rand_sequence,5))"
   ]
  },
  {
   "cell_type": "code",
   "execution_count": null,
   "id": "d1e78a82",
   "metadata": {},
   "outputs": [],
   "source": [
    "five_taken"
   ]
  },
  {
   "cell_type": "code",
   "execution_count": null,
   "id": "8625cf80",
   "metadata": {},
   "outputs": [],
   "source": [
    "def randoms(min, max):\n",
    "    while True:\n",
    "        yield random.randint(min, max)"
   ]
  },
  {
   "cell_type": "code",
   "execution_count": null,
   "id": "cd0c53d2",
   "metadata": {},
   "outputs": [],
   "source": [
    "rand_sequence = randoms(1,100000)\n",
    "five_taken = list(itertools.islice(rand_sequence,5))\n",
    "five_taken"
   ]
  },
  {
   "cell_type": "code",
   "execution_count": null,
   "id": "fc753820",
   "metadata": {},
   "outputs": [],
   "source": [
    "def read_line_by_line(file):\n",
    "    \"\"\"Lazy function (generator) to read a line by line.\"\"\"\n",
    "    while True:\n",
    "        line = file.readline()\n",
    "        if not line:\n",
    "            break\n",
    "        yield line"
   ]
  },
  {
   "cell_type": "code",
   "execution_count": null,
   "id": "96ca387d",
   "metadata": {},
   "outputs": [],
   "source": [
    "rand_seq = randoms(1,10)\n",
    "n = next(rand_seq)\n",
    "print(n)\n",
    "n = next(rand_seq)\n",
    "print(n)\n",
    "n = next(rand_seq)\n",
    "print(n)"
   ]
  },
  {
   "cell_type": "code",
   "execution_count": null,
   "id": "2c49584c",
   "metadata": {},
   "outputs": [],
   "source": [
    "my_list = [1,2,3,4,5]\n",
    "squares = [x**2 for x in my_list]\n",
    "squares"
   ]
  },
  {
   "cell_type": "code",
   "execution_count": null,
   "id": "5f584633",
   "metadata": {},
   "outputs": [],
   "source": [
    "squares = (x**2 for x in my_list)\n",
    "list(itertools.islice(squares,3))"
   ]
  },
  {
   "cell_type": "code",
   "execution_count": 7,
   "id": "1d0ba4e0",
   "metadata": {},
   "outputs": [
    {
     "name": "stdout",
     "output_type": "stream",
     "text": [
      "<class 'list_iterator'>\n",
      "1\n",
      "2\n",
      "3\n"
     ]
    }
   ],
   "source": [
    "iterable = [1,2,3]\n",
    "iterator = iter(iterable)\n",
    "print(type(iterator))\n",
    "print(next(iterator))\n",
    "\n",
    "print(next(iterator))\n",
    "print(next(iterator))"
   ]
  },
  {
   "cell_type": "code",
   "execution_count": 24,
   "id": "88a5a06a",
   "metadata": {},
   "outputs": [],
   "source": [
    "import itertools as it"
   ]
  },
  {
   "cell_type": "code",
   "execution_count": 11,
   "id": "d19cb340",
   "metadata": {},
   "outputs": [
    {
     "name": "stdout",
     "output_type": "stream",
     "text": [
      "[0, 2, 4, 6, 8]\n"
     ]
    }
   ],
   "source": [
    "even_numbers = [x for x in range(10) if x % 2 == 0]\n",
    "print(even_numbers)"
   ]
  },
  {
   "cell_type": "code",
   "execution_count": 12,
   "id": "d1f2475b",
   "metadata": {},
   "outputs": [
    {
     "data": {
      "text/plain": [
       "count(0, 2)"
      ]
     },
     "execution_count": 12,
     "metadata": {},
     "output_type": "execute_result"
    }
   ],
   "source": [
    "even_numbers = it.count(0,2)\n",
    "even_numbers"
   ]
  },
  {
   "cell_type": "code",
   "execution_count": 13,
   "id": "0e8d2a25",
   "metadata": {},
   "outputs": [
    {
     "data": {
      "text/plain": [
       "[0, 2, 4, 6, 8]"
      ]
     },
     "execution_count": 13,
     "metadata": {},
     "output_type": "execute_result"
    }
   ],
   "source": [
    "list(next(even_numbers) for _ in range(5))"
   ]
  },
  {
   "cell_type": "code",
   "execution_count": 14,
   "id": "6f139fba",
   "metadata": {},
   "outputs": [
    {
     "data": {
      "text/plain": [
       "[]"
      ]
     },
     "execution_count": 14,
     "metadata": {},
     "output_type": "execute_result"
    }
   ],
   "source": [
    "list(zip())"
   ]
  },
  {
   "cell_type": "code",
   "execution_count": 17,
   "id": "796fe77f",
   "metadata": {},
   "outputs": [],
   "source": [
    "def print_iterable(iterable, end = None):\n",
    "    for x in iterable:\n",
    "        if end:\n",
    "            print(x, end = end)\n",
    "        else:\n",
    "            print(x)"
   ]
  },
  {
   "cell_type": "code",
   "execution_count": 18,
   "id": "cfab1c51",
   "metadata": {},
   "outputs": [
    {
     "name": "stdout",
     "output_type": "stream",
     "text": [
      "1 - 1 - 1 - 1 - 1 - "
     ]
    }
   ],
   "source": [
    "ones = it.repeat(1,5)\n",
    "print_iterable(ones,' - ')"
   ]
  },
  {
   "cell_type": "code",
   "execution_count": 20,
   "id": "1a382f1d",
   "metadata": {},
   "outputs": [
    {
     "data": {
      "text/plain": [
       "[0, 1, 4, 9, 16, 25, 36, 49, 64, 81]"
      ]
     },
     "execution_count": 20,
     "metadata": {},
     "output_type": "execute_result"
    }
   ],
   "source": [
    "list(map(pow,range(10),it.repeat(2))) #wtf?!"
   ]
  },
  {
   "cell_type": "code",
   "execution_count": 22,
   "id": "848b4277",
   "metadata": {},
   "outputs": [
    {
     "data": {
      "text/plain": [
       "[0, 1, 4, 9, 16, 25, 36, 49, 64, 81]"
      ]
     },
     "execution_count": 22,
     "metadata": {},
     "output_type": "execute_result"
    }
   ],
   "source": [
    "list(map(lambda x: x**2 , range(10)))"
   ]
  },
  {
   "cell_type": "code",
   "execution_count": 23,
   "id": "62a51d9b",
   "metadata": {},
   "outputs": [],
   "source": [
    "# for _ in it.repeat(None, 10000):\n",
    "#     do something"
   ]
  },
  {
   "cell_type": "code",
   "execution_count": 27,
   "id": "d7ce4c5a",
   "metadata": {},
   "outputs": [
    {
     "data": {
      "text/plain": [
       "[1, -1, 1, -1, 1, -1, 1, -1, 1, -1]"
      ]
     },
     "execution_count": 27,
     "metadata": {},
     "output_type": "execute_result"
    }
   ],
   "source": [
    "pos_neg_ones = it.cycle([1, -1])\n",
    "list(it.islice(pos_neg_ones,10))"
   ]
  },
  {
   "cell_type": "code",
   "execution_count": 29,
   "id": "ed0695f3",
   "metadata": {},
   "outputs": [
    {
     "data": {
      "text/plain": [
       "['A', 'B', 'C', 'A', 'B', 'C', 'A']"
      ]
     },
     "execution_count": 29,
     "metadata": {},
     "output_type": "execute_result"
    }
   ],
   "source": [
    "letters = it.cycle(['A', 'B', 'C'])\n",
    "list(next(letters) for _ in range(7))"
   ]
  },
  {
   "cell_type": "code",
   "execution_count": 32,
   "id": "6727bd4b",
   "metadata": {},
   "outputs": [
    {
     "name": "stdout",
     "output_type": "stream",
     "text": [
      "[1, 3, 6, 10, 15]\n",
      "['A', 'AB', 'ABC']\n"
     ]
    }
   ],
   "source": [
    "print(list(it.accumulate([1, 2, 3, 4, 5])))\n",
    "print(list(it.accumulate(['A', 'B', 'C'])))"
   ]
  },
  {
   "cell_type": "code",
   "execution_count": 39,
   "id": "74ad0204",
   "metadata": {},
   "outputs": [
    {
     "data": {
      "text/plain": [
       "[3, 3, 5, 7, 20, 20, 20, 20]"
      ]
     },
     "execution_count": 39,
     "metadata": {},
     "output_type": "execute_result"
    }
   ],
   "source": [
    "list(it.accumulate([3, 2, 5, 7, 20, 6, 7, 10], max))"
   ]
  },
  {
   "cell_type": "code",
   "execution_count": 40,
   "id": "bbf791ab",
   "metadata": {},
   "outputs": [
    {
     "data": {
      "text/plain": [
       "[3, 1, -4, -11, -31, -37, -44, -54]"
      ]
     },
     "execution_count": 40,
     "metadata": {},
     "output_type": "execute_result"
    }
   ],
   "source": [
    "list(it.accumulate([3, 2, 5, 7, 20, 6, 7, 10], lambda x,y: x-y))"
   ]
  },
  {
   "cell_type": "code",
   "execution_count": 42,
   "id": "c6ca59c1",
   "metadata": {},
   "outputs": [
    {
     "data": {
      "text/plain": [
       "['A', 'B', 'C', 'D', 'E', 'F']"
      ]
     },
     "execution_count": 42,
     "metadata": {},
     "output_type": "execute_result"
    }
   ],
   "source": [
    "list(it.chain('ABC','DEF'))"
   ]
  },
  {
   "cell_type": "code",
   "execution_count": 44,
   "id": "3a8888cd",
   "metadata": {},
   "outputs": [
    {
     "data": {
      "text/plain": [
       "['A', 'B', 'C', 'D', 'E', 'F']"
      ]
     },
     "execution_count": 44,
     "metadata": {},
     "output_type": "execute_result"
    }
   ],
   "source": [
    "list(it.chain.from_iterable(['ABC','DEF']))"
   ]
  },
  {
   "cell_type": "code",
   "execution_count": 45,
   "id": "2caeee84",
   "metadata": {},
   "outputs": [
    {
     "data": {
      "text/plain": [
       "[1, 2, 3, 4, 5, 6, 7, 8, 9]"
      ]
     },
     "execution_count": 45,
     "metadata": {},
     "output_type": "execute_result"
    }
   ],
   "source": [
    "list(it.chain([1,2,3],[4,5,6],[7,8,9]))"
   ]
  },
  {
   "cell_type": "code",
   "execution_count": 46,
   "id": "22b3fc44",
   "metadata": {},
   "outputs": [
    {
     "data": {
      "text/plain": [
       "[3, 4, 5, 6, 7, 8, 9]"
      ]
     },
     "execution_count": 46,
     "metadata": {},
     "output_type": "execute_result"
    }
   ],
   "source": [
    "list(it.dropwhile(lambda x: x<3, [1, 2, 3, 4, 5, 6, 7, 8, 9]))"
   ]
  },
  {
   "cell_type": "code",
   "execution_count": 47,
   "id": "2d9d30cf",
   "metadata": {},
   "outputs": [
    {
     "data": {
      "text/plain": [
       "[1, 2]"
      ]
     },
     "execution_count": 47,
     "metadata": {},
     "output_type": "execute_result"
    }
   ],
   "source": [
    "list(it.takewhile(lambda x: x<3, [1, 2, 3, 4, 5, 6, 7, 8, 9]))"
   ]
  },
  {
   "cell_type": "code",
   "execution_count": 48,
   "id": "10da68ac",
   "metadata": {},
   "outputs": [
    {
     "data": {
      "text/plain": [
       "[1, 3, 5, 7, 9]"
      ]
     },
     "execution_count": 48,
     "metadata": {},
     "output_type": "execute_result"
    }
   ],
   "source": [
    "list(it.filterfalse(lambda x: x%2==0, range(10)))"
   ]
  },
  {
   "cell_type": "code",
   "execution_count": 49,
   "id": "b7e091e9",
   "metadata": {},
   "outputs": [
    {
     "name": "stdout",
     "output_type": "stream",
     "text": [
      "1 2 3 \n",
      "iterable is exausted\n"
     ]
    }
   ],
   "source": [
    "iterable = iter([1, 2, 3])\n",
    "print_iterable(iterable, ' ')\n",
    "print('\\niterable is exausted')"
   ]
  },
  {
   "cell_type": "code",
   "execution_count": 53,
   "id": "5a130090",
   "metadata": {},
   "outputs": [
    {
     "name": "stdout",
     "output_type": "stream",
     "text": [
      "1 2 3 \n",
      "iterable is exausted\n",
      "1 2 3 "
     ]
    }
   ],
   "source": [
    "iterable1, iterable2 = it.tee([1, 2, 3], 2)\n",
    "print_iterable(iterable1, ' ')\n",
    "print('\\niterable is exausted')\n",
    "print_iterable(iterable2, ' ')"
   ]
  },
  {
   "cell_type": "code",
   "execution_count": 54,
   "id": "87dc6a11",
   "metadata": {},
   "outputs": [
    {
     "data": {
      "text/plain": [
       "<itertools.zip_longest at 0x7fbee14a3d10>"
      ]
     },
     "execution_count": 54,
     "metadata": {},
     "output_type": "execute_result"
    }
   ],
   "source": [
    "it.zip_longest()"
   ]
  },
  {
   "cell_type": "code",
   "execution_count": 57,
   "id": "9c743ac4",
   "metadata": {},
   "outputs": [
    {
     "name": "stdout",
     "output_type": "stream",
     "text": [
      "1:[1, 1]\n",
      "None:[None]\n",
      "B:['B']\n",
      "1:[1]\n",
      "A:['A', 'A']\n",
      "B:['B']\n",
      "None:[None]\n"
     ]
    }
   ],
   "source": [
    "for key, grp in it.groupby([1, 1, None, 'B', 1, 'A', 'A', 'B', None]):\n",
    "    print(f'{key}:{list(grp)}')"
   ]
  },
  {
   "cell_type": "code",
   "execution_count": 59,
   "id": "d898d2d7",
   "metadata": {},
   "outputs": [
    {
     "name": "stdout",
     "output_type": "stream",
     "text": [
      "1:[1, 1, 1]\n",
      "2:[2, 2]\n",
      "3:[3, 3, 3, 3]\n"
     ]
    }
   ],
   "source": [
    "for key, grp in it.groupby(sorted([1, 1, 2, 3, 1, 3, 3, 3, 2])):\n",
    "    print(f'{key}:{list(grp)}')"
   ]
  },
  {
   "cell_type": "code",
   "execution_count": 60,
   "id": "df9d8a02",
   "metadata": {},
   "outputs": [],
   "source": [
    "def group_sorted(iterable, key=None):\n",
    "    return it.groupby(sorted(iterable, key=key), key=key)"
   ]
  },
  {
   "cell_type": "code",
   "execution_count": 62,
   "id": "32f250d3",
   "metadata": {},
   "outputs": [],
   "source": [
    "# grouped_date = group_sorted(forecast, key=lambda x: x['humidity'])"
   ]
  },
  {
   "cell_type": "code",
   "execution_count": 69,
   "id": "7d5dd47d",
   "metadata": {},
   "outputs": [
    {
     "name": "stdout",
     "output_type": "stream",
     "text": [
      "[4, 8, 12, 16]\n",
      "[0, 2, 4, 6, 8, 10, 12, 14, 16, 18]\n"
     ]
    }
   ],
   "source": [
    "print(list(it.islice(it.count(0, 2), 2, 10, 2)))\n",
    "print([x for x in range(20) if x%2==0])"
   ]
  },
  {
   "cell_type": "code",
   "execution_count": 70,
   "id": "82796105",
   "metadata": {},
   "outputs": [],
   "source": [
    "pin = [7, 5, 2, 8]"
   ]
  },
  {
   "cell_type": "code",
   "execution_count": 74,
   "id": "d88c8ab8",
   "metadata": {},
   "outputs": [
    {
     "data": {
      "text/plain": [
       "[(7, 5, 2, 8),\n",
       " (7, 5, 8, 2),\n",
       " (7, 2, 5, 8),\n",
       " (7, 2, 8, 5),\n",
       " (7, 8, 5, 2),\n",
       " (7, 8, 2, 5),\n",
       " (5, 7, 2, 8),\n",
       " (5, 7, 8, 2),\n",
       " (5, 2, 7, 8),\n",
       " (5, 2, 8, 7),\n",
       " (5, 8, 7, 2),\n",
       " (5, 8, 2, 7),\n",
       " (2, 7, 5, 8),\n",
       " (2, 7, 8, 5),\n",
       " (2, 5, 7, 8),\n",
       " (2, 5, 8, 7),\n",
       " (2, 8, 7, 5),\n",
       " (2, 8, 5, 7),\n",
       " (8, 7, 5, 2),\n",
       " (8, 7, 2, 5),\n",
       " (8, 5, 7, 2),\n",
       " (8, 5, 2, 7),\n",
       " (8, 2, 7, 5),\n",
       " (8, 2, 5, 7)]"
      ]
     },
     "execution_count": 74,
     "metadata": {},
     "output_type": "execute_result"
    }
   ],
   "source": [
    "list(it.permutations(pin))"
   ]
  },
  {
   "cell_type": "code",
   "execution_count": 76,
   "id": "335ef249",
   "metadata": {},
   "outputs": [
    {
     "data": {
      "text/plain": [
       "[('6', 'H'),\n",
       " ('6', 'D'),\n",
       " ('6', 'C'),\n",
       " ('6', 'S'),\n",
       " ('7', 'H'),\n",
       " ('7', 'D'),\n",
       " ('7', 'C'),\n",
       " ('7', 'S'),\n",
       " ('8', 'H'),\n",
       " ('8', 'D'),\n",
       " ('8', 'C'),\n",
       " ('8', 'S'),\n",
       " ('9', 'H'),\n",
       " ('9', 'D'),\n",
       " ('9', 'C'),\n",
       " ('9', 'S'),\n",
       " ('10', 'H'),\n",
       " ('10', 'D'),\n",
       " ('10', 'C'),\n",
       " ('10', 'S'),\n",
       " ('J', 'H'),\n",
       " ('J', 'D'),\n",
       " ('J', 'C'),\n",
       " ('J', 'S'),\n",
       " ('Q', 'H'),\n",
       " ('Q', 'D'),\n",
       " ('Q', 'C'),\n",
       " ('Q', 'S'),\n",
       " ('K', 'H'),\n",
       " ('K', 'D'),\n",
       " ('K', 'C'),\n",
       " ('K', 'S'),\n",
       " ('A', 'H'),\n",
       " ('A', 'D'),\n",
       " ('A', 'C'),\n",
       " ('A', 'S')]"
      ]
     },
     "execution_count": 76,
     "metadata": {},
     "output_type": "execute_result"
    }
   ],
   "source": [
    "ranks = ['6', '7', '8', '9', '10', 'J', 'Q', 'K', 'A']\n",
    "suits = ['H', 'D', 'C', 'S']\n",
    "\n",
    "lst = list(it.product(ranks, suits))\n",
    "lst"
   ]
  },
  {
   "cell_type": "code",
   "execution_count": 77,
   "id": "7d5e2aff",
   "metadata": {},
   "outputs": [
    {
     "data": {
      "text/plain": [
       "[(('6', 'H'), ('6', 'D')),\n",
       " (('6', 'H'), ('6', 'C')),\n",
       " (('6', 'H'), ('6', 'S')),\n",
       " (('6', 'H'), ('7', 'H')),\n",
       " (('6', 'H'), ('7', 'D')),\n",
       " (('6', 'H'), ('7', 'C')),\n",
       " (('6', 'H'), ('7', 'S')),\n",
       " (('6', 'H'), ('8', 'H')),\n",
       " (('6', 'H'), ('8', 'D')),\n",
       " (('6', 'H'), ('8', 'C')),\n",
       " (('6', 'H'), ('8', 'S')),\n",
       " (('6', 'H'), ('9', 'H')),\n",
       " (('6', 'H'), ('9', 'D')),\n",
       " (('6', 'H'), ('9', 'C')),\n",
       " (('6', 'H'), ('9', 'S')),\n",
       " (('6', 'H'), ('10', 'H')),\n",
       " (('6', 'H'), ('10', 'D')),\n",
       " (('6', 'H'), ('10', 'C')),\n",
       " (('6', 'H'), ('10', 'S')),\n",
       " (('6', 'H'), ('J', 'H')),\n",
       " (('6', 'H'), ('J', 'D')),\n",
       " (('6', 'H'), ('J', 'C')),\n",
       " (('6', 'H'), ('J', 'S')),\n",
       " (('6', 'H'), ('Q', 'H')),\n",
       " (('6', 'H'), ('Q', 'D')),\n",
       " (('6', 'H'), ('Q', 'C')),\n",
       " (('6', 'H'), ('Q', 'S')),\n",
       " (('6', 'H'), ('K', 'H')),\n",
       " (('6', 'H'), ('K', 'D')),\n",
       " (('6', 'H'), ('K', 'C')),\n",
       " (('6', 'H'), ('K', 'S')),\n",
       " (('6', 'H'), ('A', 'H')),\n",
       " (('6', 'H'), ('A', 'D')),\n",
       " (('6', 'H'), ('A', 'C')),\n",
       " (('6', 'H'), ('A', 'S')),\n",
       " (('6', 'D'), ('6', 'C')),\n",
       " (('6', 'D'), ('6', 'S')),\n",
       " (('6', 'D'), ('7', 'H')),\n",
       " (('6', 'D'), ('7', 'D')),\n",
       " (('6', 'D'), ('7', 'C')),\n",
       " (('6', 'D'), ('7', 'S')),\n",
       " (('6', 'D'), ('8', 'H')),\n",
       " (('6', 'D'), ('8', 'D')),\n",
       " (('6', 'D'), ('8', 'C')),\n",
       " (('6', 'D'), ('8', 'S')),\n",
       " (('6', 'D'), ('9', 'H')),\n",
       " (('6', 'D'), ('9', 'D')),\n",
       " (('6', 'D'), ('9', 'C')),\n",
       " (('6', 'D'), ('9', 'S')),\n",
       " (('6', 'D'), ('10', 'H')),\n",
       " (('6', 'D'), ('10', 'D')),\n",
       " (('6', 'D'), ('10', 'C')),\n",
       " (('6', 'D'), ('10', 'S')),\n",
       " (('6', 'D'), ('J', 'H')),\n",
       " (('6', 'D'), ('J', 'D')),\n",
       " (('6', 'D'), ('J', 'C')),\n",
       " (('6', 'D'), ('J', 'S')),\n",
       " (('6', 'D'), ('Q', 'H')),\n",
       " (('6', 'D'), ('Q', 'D')),\n",
       " (('6', 'D'), ('Q', 'C')),\n",
       " (('6', 'D'), ('Q', 'S')),\n",
       " (('6', 'D'), ('K', 'H')),\n",
       " (('6', 'D'), ('K', 'D')),\n",
       " (('6', 'D'), ('K', 'C')),\n",
       " (('6', 'D'), ('K', 'S')),\n",
       " (('6', 'D'), ('A', 'H')),\n",
       " (('6', 'D'), ('A', 'D')),\n",
       " (('6', 'D'), ('A', 'C')),\n",
       " (('6', 'D'), ('A', 'S')),\n",
       " (('6', 'C'), ('6', 'S')),\n",
       " (('6', 'C'), ('7', 'H')),\n",
       " (('6', 'C'), ('7', 'D')),\n",
       " (('6', 'C'), ('7', 'C')),\n",
       " (('6', 'C'), ('7', 'S')),\n",
       " (('6', 'C'), ('8', 'H')),\n",
       " (('6', 'C'), ('8', 'D')),\n",
       " (('6', 'C'), ('8', 'C')),\n",
       " (('6', 'C'), ('8', 'S')),\n",
       " (('6', 'C'), ('9', 'H')),\n",
       " (('6', 'C'), ('9', 'D')),\n",
       " (('6', 'C'), ('9', 'C')),\n",
       " (('6', 'C'), ('9', 'S')),\n",
       " (('6', 'C'), ('10', 'H')),\n",
       " (('6', 'C'), ('10', 'D')),\n",
       " (('6', 'C'), ('10', 'C')),\n",
       " (('6', 'C'), ('10', 'S')),\n",
       " (('6', 'C'), ('J', 'H')),\n",
       " (('6', 'C'), ('J', 'D')),\n",
       " (('6', 'C'), ('J', 'C')),\n",
       " (('6', 'C'), ('J', 'S')),\n",
       " (('6', 'C'), ('Q', 'H')),\n",
       " (('6', 'C'), ('Q', 'D')),\n",
       " (('6', 'C'), ('Q', 'C')),\n",
       " (('6', 'C'), ('Q', 'S')),\n",
       " (('6', 'C'), ('K', 'H')),\n",
       " (('6', 'C'), ('K', 'D')),\n",
       " (('6', 'C'), ('K', 'C')),\n",
       " (('6', 'C'), ('K', 'S')),\n",
       " (('6', 'C'), ('A', 'H')),\n",
       " (('6', 'C'), ('A', 'D')),\n",
       " (('6', 'C'), ('A', 'C')),\n",
       " (('6', 'C'), ('A', 'S')),\n",
       " (('6', 'S'), ('7', 'H')),\n",
       " (('6', 'S'), ('7', 'D')),\n",
       " (('6', 'S'), ('7', 'C')),\n",
       " (('6', 'S'), ('7', 'S')),\n",
       " (('6', 'S'), ('8', 'H')),\n",
       " (('6', 'S'), ('8', 'D')),\n",
       " (('6', 'S'), ('8', 'C')),\n",
       " (('6', 'S'), ('8', 'S')),\n",
       " (('6', 'S'), ('9', 'H')),\n",
       " (('6', 'S'), ('9', 'D')),\n",
       " (('6', 'S'), ('9', 'C')),\n",
       " (('6', 'S'), ('9', 'S')),\n",
       " (('6', 'S'), ('10', 'H')),\n",
       " (('6', 'S'), ('10', 'D')),\n",
       " (('6', 'S'), ('10', 'C')),\n",
       " (('6', 'S'), ('10', 'S')),\n",
       " (('6', 'S'), ('J', 'H')),\n",
       " (('6', 'S'), ('J', 'D')),\n",
       " (('6', 'S'), ('J', 'C')),\n",
       " (('6', 'S'), ('J', 'S')),\n",
       " (('6', 'S'), ('Q', 'H')),\n",
       " (('6', 'S'), ('Q', 'D')),\n",
       " (('6', 'S'), ('Q', 'C')),\n",
       " (('6', 'S'), ('Q', 'S')),\n",
       " (('6', 'S'), ('K', 'H')),\n",
       " (('6', 'S'), ('K', 'D')),\n",
       " (('6', 'S'), ('K', 'C')),\n",
       " (('6', 'S'), ('K', 'S')),\n",
       " (('6', 'S'), ('A', 'H')),\n",
       " (('6', 'S'), ('A', 'D')),\n",
       " (('6', 'S'), ('A', 'C')),\n",
       " (('6', 'S'), ('A', 'S')),\n",
       " (('7', 'H'), ('7', 'D')),\n",
       " (('7', 'H'), ('7', 'C')),\n",
       " (('7', 'H'), ('7', 'S')),\n",
       " (('7', 'H'), ('8', 'H')),\n",
       " (('7', 'H'), ('8', 'D')),\n",
       " (('7', 'H'), ('8', 'C')),\n",
       " (('7', 'H'), ('8', 'S')),\n",
       " (('7', 'H'), ('9', 'H')),\n",
       " (('7', 'H'), ('9', 'D')),\n",
       " (('7', 'H'), ('9', 'C')),\n",
       " (('7', 'H'), ('9', 'S')),\n",
       " (('7', 'H'), ('10', 'H')),\n",
       " (('7', 'H'), ('10', 'D')),\n",
       " (('7', 'H'), ('10', 'C')),\n",
       " (('7', 'H'), ('10', 'S')),\n",
       " (('7', 'H'), ('J', 'H')),\n",
       " (('7', 'H'), ('J', 'D')),\n",
       " (('7', 'H'), ('J', 'C')),\n",
       " (('7', 'H'), ('J', 'S')),\n",
       " (('7', 'H'), ('Q', 'H')),\n",
       " (('7', 'H'), ('Q', 'D')),\n",
       " (('7', 'H'), ('Q', 'C')),\n",
       " (('7', 'H'), ('Q', 'S')),\n",
       " (('7', 'H'), ('K', 'H')),\n",
       " (('7', 'H'), ('K', 'D')),\n",
       " (('7', 'H'), ('K', 'C')),\n",
       " (('7', 'H'), ('K', 'S')),\n",
       " (('7', 'H'), ('A', 'H')),\n",
       " (('7', 'H'), ('A', 'D')),\n",
       " (('7', 'H'), ('A', 'C')),\n",
       " (('7', 'H'), ('A', 'S')),\n",
       " (('7', 'D'), ('7', 'C')),\n",
       " (('7', 'D'), ('7', 'S')),\n",
       " (('7', 'D'), ('8', 'H')),\n",
       " (('7', 'D'), ('8', 'D')),\n",
       " (('7', 'D'), ('8', 'C')),\n",
       " (('7', 'D'), ('8', 'S')),\n",
       " (('7', 'D'), ('9', 'H')),\n",
       " (('7', 'D'), ('9', 'D')),\n",
       " (('7', 'D'), ('9', 'C')),\n",
       " (('7', 'D'), ('9', 'S')),\n",
       " (('7', 'D'), ('10', 'H')),\n",
       " (('7', 'D'), ('10', 'D')),\n",
       " (('7', 'D'), ('10', 'C')),\n",
       " (('7', 'D'), ('10', 'S')),\n",
       " (('7', 'D'), ('J', 'H')),\n",
       " (('7', 'D'), ('J', 'D')),\n",
       " (('7', 'D'), ('J', 'C')),\n",
       " (('7', 'D'), ('J', 'S')),\n",
       " (('7', 'D'), ('Q', 'H')),\n",
       " (('7', 'D'), ('Q', 'D')),\n",
       " (('7', 'D'), ('Q', 'C')),\n",
       " (('7', 'D'), ('Q', 'S')),\n",
       " (('7', 'D'), ('K', 'H')),\n",
       " (('7', 'D'), ('K', 'D')),\n",
       " (('7', 'D'), ('K', 'C')),\n",
       " (('7', 'D'), ('K', 'S')),\n",
       " (('7', 'D'), ('A', 'H')),\n",
       " (('7', 'D'), ('A', 'D')),\n",
       " (('7', 'D'), ('A', 'C')),\n",
       " (('7', 'D'), ('A', 'S')),\n",
       " (('7', 'C'), ('7', 'S')),\n",
       " (('7', 'C'), ('8', 'H')),\n",
       " (('7', 'C'), ('8', 'D')),\n",
       " (('7', 'C'), ('8', 'C')),\n",
       " (('7', 'C'), ('8', 'S')),\n",
       " (('7', 'C'), ('9', 'H')),\n",
       " (('7', 'C'), ('9', 'D')),\n",
       " (('7', 'C'), ('9', 'C')),\n",
       " (('7', 'C'), ('9', 'S')),\n",
       " (('7', 'C'), ('10', 'H')),\n",
       " (('7', 'C'), ('10', 'D')),\n",
       " (('7', 'C'), ('10', 'C')),\n",
       " (('7', 'C'), ('10', 'S')),\n",
       " (('7', 'C'), ('J', 'H')),\n",
       " (('7', 'C'), ('J', 'D')),\n",
       " (('7', 'C'), ('J', 'C')),\n",
       " (('7', 'C'), ('J', 'S')),\n",
       " (('7', 'C'), ('Q', 'H')),\n",
       " (('7', 'C'), ('Q', 'D')),\n",
       " (('7', 'C'), ('Q', 'C')),\n",
       " (('7', 'C'), ('Q', 'S')),\n",
       " (('7', 'C'), ('K', 'H')),\n",
       " (('7', 'C'), ('K', 'D')),\n",
       " (('7', 'C'), ('K', 'C')),\n",
       " (('7', 'C'), ('K', 'S')),\n",
       " (('7', 'C'), ('A', 'H')),\n",
       " (('7', 'C'), ('A', 'D')),\n",
       " (('7', 'C'), ('A', 'C')),\n",
       " (('7', 'C'), ('A', 'S')),\n",
       " (('7', 'S'), ('8', 'H')),\n",
       " (('7', 'S'), ('8', 'D')),\n",
       " (('7', 'S'), ('8', 'C')),\n",
       " (('7', 'S'), ('8', 'S')),\n",
       " (('7', 'S'), ('9', 'H')),\n",
       " (('7', 'S'), ('9', 'D')),\n",
       " (('7', 'S'), ('9', 'C')),\n",
       " (('7', 'S'), ('9', 'S')),\n",
       " (('7', 'S'), ('10', 'H')),\n",
       " (('7', 'S'), ('10', 'D')),\n",
       " (('7', 'S'), ('10', 'C')),\n",
       " (('7', 'S'), ('10', 'S')),\n",
       " (('7', 'S'), ('J', 'H')),\n",
       " (('7', 'S'), ('J', 'D')),\n",
       " (('7', 'S'), ('J', 'C')),\n",
       " (('7', 'S'), ('J', 'S')),\n",
       " (('7', 'S'), ('Q', 'H')),\n",
       " (('7', 'S'), ('Q', 'D')),\n",
       " (('7', 'S'), ('Q', 'C')),\n",
       " (('7', 'S'), ('Q', 'S')),\n",
       " (('7', 'S'), ('K', 'H')),\n",
       " (('7', 'S'), ('K', 'D')),\n",
       " (('7', 'S'), ('K', 'C')),\n",
       " (('7', 'S'), ('K', 'S')),\n",
       " (('7', 'S'), ('A', 'H')),\n",
       " (('7', 'S'), ('A', 'D')),\n",
       " (('7', 'S'), ('A', 'C')),\n",
       " (('7', 'S'), ('A', 'S')),\n",
       " (('8', 'H'), ('8', 'D')),\n",
       " (('8', 'H'), ('8', 'C')),\n",
       " (('8', 'H'), ('8', 'S')),\n",
       " (('8', 'H'), ('9', 'H')),\n",
       " (('8', 'H'), ('9', 'D')),\n",
       " (('8', 'H'), ('9', 'C')),\n",
       " (('8', 'H'), ('9', 'S')),\n",
       " (('8', 'H'), ('10', 'H')),\n",
       " (('8', 'H'), ('10', 'D')),\n",
       " (('8', 'H'), ('10', 'C')),\n",
       " (('8', 'H'), ('10', 'S')),\n",
       " (('8', 'H'), ('J', 'H')),\n",
       " (('8', 'H'), ('J', 'D')),\n",
       " (('8', 'H'), ('J', 'C')),\n",
       " (('8', 'H'), ('J', 'S')),\n",
       " (('8', 'H'), ('Q', 'H')),\n",
       " (('8', 'H'), ('Q', 'D')),\n",
       " (('8', 'H'), ('Q', 'C')),\n",
       " (('8', 'H'), ('Q', 'S')),\n",
       " (('8', 'H'), ('K', 'H')),\n",
       " (('8', 'H'), ('K', 'D')),\n",
       " (('8', 'H'), ('K', 'C')),\n",
       " (('8', 'H'), ('K', 'S')),\n",
       " (('8', 'H'), ('A', 'H')),\n",
       " (('8', 'H'), ('A', 'D')),\n",
       " (('8', 'H'), ('A', 'C')),\n",
       " (('8', 'H'), ('A', 'S')),\n",
       " (('8', 'D'), ('8', 'C')),\n",
       " (('8', 'D'), ('8', 'S')),\n",
       " (('8', 'D'), ('9', 'H')),\n",
       " (('8', 'D'), ('9', 'D')),\n",
       " (('8', 'D'), ('9', 'C')),\n",
       " (('8', 'D'), ('9', 'S')),\n",
       " (('8', 'D'), ('10', 'H')),\n",
       " (('8', 'D'), ('10', 'D')),\n",
       " (('8', 'D'), ('10', 'C')),\n",
       " (('8', 'D'), ('10', 'S')),\n",
       " (('8', 'D'), ('J', 'H')),\n",
       " (('8', 'D'), ('J', 'D')),\n",
       " (('8', 'D'), ('J', 'C')),\n",
       " (('8', 'D'), ('J', 'S')),\n",
       " (('8', 'D'), ('Q', 'H')),\n",
       " (('8', 'D'), ('Q', 'D')),\n",
       " (('8', 'D'), ('Q', 'C')),\n",
       " (('8', 'D'), ('Q', 'S')),\n",
       " (('8', 'D'), ('K', 'H')),\n",
       " (('8', 'D'), ('K', 'D')),\n",
       " (('8', 'D'), ('K', 'C')),\n",
       " (('8', 'D'), ('K', 'S')),\n",
       " (('8', 'D'), ('A', 'H')),\n",
       " (('8', 'D'), ('A', 'D')),\n",
       " (('8', 'D'), ('A', 'C')),\n",
       " (('8', 'D'), ('A', 'S')),\n",
       " (('8', 'C'), ('8', 'S')),\n",
       " (('8', 'C'), ('9', 'H')),\n",
       " (('8', 'C'), ('9', 'D')),\n",
       " (('8', 'C'), ('9', 'C')),\n",
       " (('8', 'C'), ('9', 'S')),\n",
       " (('8', 'C'), ('10', 'H')),\n",
       " (('8', 'C'), ('10', 'D')),\n",
       " (('8', 'C'), ('10', 'C')),\n",
       " (('8', 'C'), ('10', 'S')),\n",
       " (('8', 'C'), ('J', 'H')),\n",
       " (('8', 'C'), ('J', 'D')),\n",
       " (('8', 'C'), ('J', 'C')),\n",
       " (('8', 'C'), ('J', 'S')),\n",
       " (('8', 'C'), ('Q', 'H')),\n",
       " (('8', 'C'), ('Q', 'D')),\n",
       " (('8', 'C'), ('Q', 'C')),\n",
       " (('8', 'C'), ('Q', 'S')),\n",
       " (('8', 'C'), ('K', 'H')),\n",
       " (('8', 'C'), ('K', 'D')),\n",
       " (('8', 'C'), ('K', 'C')),\n",
       " (('8', 'C'), ('K', 'S')),\n",
       " (('8', 'C'), ('A', 'H')),\n",
       " (('8', 'C'), ('A', 'D')),\n",
       " (('8', 'C'), ('A', 'C')),\n",
       " (('8', 'C'), ('A', 'S')),\n",
       " (('8', 'S'), ('9', 'H')),\n",
       " (('8', 'S'), ('9', 'D')),\n",
       " (('8', 'S'), ('9', 'C')),\n",
       " (('8', 'S'), ('9', 'S')),\n",
       " (('8', 'S'), ('10', 'H')),\n",
       " (('8', 'S'), ('10', 'D')),\n",
       " (('8', 'S'), ('10', 'C')),\n",
       " (('8', 'S'), ('10', 'S')),\n",
       " (('8', 'S'), ('J', 'H')),\n",
       " (('8', 'S'), ('J', 'D')),\n",
       " (('8', 'S'), ('J', 'C')),\n",
       " (('8', 'S'), ('J', 'S')),\n",
       " (('8', 'S'), ('Q', 'H')),\n",
       " (('8', 'S'), ('Q', 'D')),\n",
       " (('8', 'S'), ('Q', 'C')),\n",
       " (('8', 'S'), ('Q', 'S')),\n",
       " (('8', 'S'), ('K', 'H')),\n",
       " (('8', 'S'), ('K', 'D')),\n",
       " (('8', 'S'), ('K', 'C')),\n",
       " (('8', 'S'), ('K', 'S')),\n",
       " (('8', 'S'), ('A', 'H')),\n",
       " (('8', 'S'), ('A', 'D')),\n",
       " (('8', 'S'), ('A', 'C')),\n",
       " (('8', 'S'), ('A', 'S')),\n",
       " (('9', 'H'), ('9', 'D')),\n",
       " (('9', 'H'), ('9', 'C')),\n",
       " (('9', 'H'), ('9', 'S')),\n",
       " (('9', 'H'), ('10', 'H')),\n",
       " (('9', 'H'), ('10', 'D')),\n",
       " (('9', 'H'), ('10', 'C')),\n",
       " (('9', 'H'), ('10', 'S')),\n",
       " (('9', 'H'), ('J', 'H')),\n",
       " (('9', 'H'), ('J', 'D')),\n",
       " (('9', 'H'), ('J', 'C')),\n",
       " (('9', 'H'), ('J', 'S')),\n",
       " (('9', 'H'), ('Q', 'H')),\n",
       " (('9', 'H'), ('Q', 'D')),\n",
       " (('9', 'H'), ('Q', 'C')),\n",
       " (('9', 'H'), ('Q', 'S')),\n",
       " (('9', 'H'), ('K', 'H')),\n",
       " (('9', 'H'), ('K', 'D')),\n",
       " (('9', 'H'), ('K', 'C')),\n",
       " (('9', 'H'), ('K', 'S')),\n",
       " (('9', 'H'), ('A', 'H')),\n",
       " (('9', 'H'), ('A', 'D')),\n",
       " (('9', 'H'), ('A', 'C')),\n",
       " (('9', 'H'), ('A', 'S')),\n",
       " (('9', 'D'), ('9', 'C')),\n",
       " (('9', 'D'), ('9', 'S')),\n",
       " (('9', 'D'), ('10', 'H')),\n",
       " (('9', 'D'), ('10', 'D')),\n",
       " (('9', 'D'), ('10', 'C')),\n",
       " (('9', 'D'), ('10', 'S')),\n",
       " (('9', 'D'), ('J', 'H')),\n",
       " (('9', 'D'), ('J', 'D')),\n",
       " (('9', 'D'), ('J', 'C')),\n",
       " (('9', 'D'), ('J', 'S')),\n",
       " (('9', 'D'), ('Q', 'H')),\n",
       " (('9', 'D'), ('Q', 'D')),\n",
       " (('9', 'D'), ('Q', 'C')),\n",
       " (('9', 'D'), ('Q', 'S')),\n",
       " (('9', 'D'), ('K', 'H')),\n",
       " (('9', 'D'), ('K', 'D')),\n",
       " (('9', 'D'), ('K', 'C')),\n",
       " (('9', 'D'), ('K', 'S')),\n",
       " (('9', 'D'), ('A', 'H')),\n",
       " (('9', 'D'), ('A', 'D')),\n",
       " (('9', 'D'), ('A', 'C')),\n",
       " (('9', 'D'), ('A', 'S')),\n",
       " (('9', 'C'), ('9', 'S')),\n",
       " (('9', 'C'), ('10', 'H')),\n",
       " (('9', 'C'), ('10', 'D')),\n",
       " (('9', 'C'), ('10', 'C')),\n",
       " (('9', 'C'), ('10', 'S')),\n",
       " (('9', 'C'), ('J', 'H')),\n",
       " (('9', 'C'), ('J', 'D')),\n",
       " (('9', 'C'), ('J', 'C')),\n",
       " (('9', 'C'), ('J', 'S')),\n",
       " (('9', 'C'), ('Q', 'H')),\n",
       " (('9', 'C'), ('Q', 'D')),\n",
       " (('9', 'C'), ('Q', 'C')),\n",
       " (('9', 'C'), ('Q', 'S')),\n",
       " (('9', 'C'), ('K', 'H')),\n",
       " (('9', 'C'), ('K', 'D')),\n",
       " (('9', 'C'), ('K', 'C')),\n",
       " (('9', 'C'), ('K', 'S')),\n",
       " (('9', 'C'), ('A', 'H')),\n",
       " (('9', 'C'), ('A', 'D')),\n",
       " (('9', 'C'), ('A', 'C')),\n",
       " (('9', 'C'), ('A', 'S')),\n",
       " (('9', 'S'), ('10', 'H')),\n",
       " (('9', 'S'), ('10', 'D')),\n",
       " (('9', 'S'), ('10', 'C')),\n",
       " (('9', 'S'), ('10', 'S')),\n",
       " (('9', 'S'), ('J', 'H')),\n",
       " (('9', 'S'), ('J', 'D')),\n",
       " (('9', 'S'), ('J', 'C')),\n",
       " (('9', 'S'), ('J', 'S')),\n",
       " (('9', 'S'), ('Q', 'H')),\n",
       " (('9', 'S'), ('Q', 'D')),\n",
       " (('9', 'S'), ('Q', 'C')),\n",
       " (('9', 'S'), ('Q', 'S')),\n",
       " (('9', 'S'), ('K', 'H')),\n",
       " (('9', 'S'), ('K', 'D')),\n",
       " (('9', 'S'), ('K', 'C')),\n",
       " (('9', 'S'), ('K', 'S')),\n",
       " (('9', 'S'), ('A', 'H')),\n",
       " (('9', 'S'), ('A', 'D')),\n",
       " (('9', 'S'), ('A', 'C')),\n",
       " (('9', 'S'), ('A', 'S')),\n",
       " (('10', 'H'), ('10', 'D')),\n",
       " (('10', 'H'), ('10', 'C')),\n",
       " (('10', 'H'), ('10', 'S')),\n",
       " (('10', 'H'), ('J', 'H')),\n",
       " (('10', 'H'), ('J', 'D')),\n",
       " (('10', 'H'), ('J', 'C')),\n",
       " (('10', 'H'), ('J', 'S')),\n",
       " (('10', 'H'), ('Q', 'H')),\n",
       " (('10', 'H'), ('Q', 'D')),\n",
       " (('10', 'H'), ('Q', 'C')),\n",
       " (('10', 'H'), ('Q', 'S')),\n",
       " (('10', 'H'), ('K', 'H')),\n",
       " (('10', 'H'), ('K', 'D')),\n",
       " (('10', 'H'), ('K', 'C')),\n",
       " (('10', 'H'), ('K', 'S')),\n",
       " (('10', 'H'), ('A', 'H')),\n",
       " (('10', 'H'), ('A', 'D')),\n",
       " (('10', 'H'), ('A', 'C')),\n",
       " (('10', 'H'), ('A', 'S')),\n",
       " (('10', 'D'), ('10', 'C')),\n",
       " (('10', 'D'), ('10', 'S')),\n",
       " (('10', 'D'), ('J', 'H')),\n",
       " (('10', 'D'), ('J', 'D')),\n",
       " (('10', 'D'), ('J', 'C')),\n",
       " (('10', 'D'), ('J', 'S')),\n",
       " (('10', 'D'), ('Q', 'H')),\n",
       " (('10', 'D'), ('Q', 'D')),\n",
       " (('10', 'D'), ('Q', 'C')),\n",
       " (('10', 'D'), ('Q', 'S')),\n",
       " (('10', 'D'), ('K', 'H')),\n",
       " (('10', 'D'), ('K', 'D')),\n",
       " (('10', 'D'), ('K', 'C')),\n",
       " (('10', 'D'), ('K', 'S')),\n",
       " (('10', 'D'), ('A', 'H')),\n",
       " (('10', 'D'), ('A', 'D')),\n",
       " (('10', 'D'), ('A', 'C')),\n",
       " (('10', 'D'), ('A', 'S')),\n",
       " (('10', 'C'), ('10', 'S')),\n",
       " (('10', 'C'), ('J', 'H')),\n",
       " (('10', 'C'), ('J', 'D')),\n",
       " (('10', 'C'), ('J', 'C')),\n",
       " (('10', 'C'), ('J', 'S')),\n",
       " (('10', 'C'), ('Q', 'H')),\n",
       " (('10', 'C'), ('Q', 'D')),\n",
       " (('10', 'C'), ('Q', 'C')),\n",
       " (('10', 'C'), ('Q', 'S')),\n",
       " (('10', 'C'), ('K', 'H')),\n",
       " (('10', 'C'), ('K', 'D')),\n",
       " (('10', 'C'), ('K', 'C')),\n",
       " (('10', 'C'), ('K', 'S')),\n",
       " (('10', 'C'), ('A', 'H')),\n",
       " (('10', 'C'), ('A', 'D')),\n",
       " (('10', 'C'), ('A', 'C')),\n",
       " (('10', 'C'), ('A', 'S')),\n",
       " (('10', 'S'), ('J', 'H')),\n",
       " (('10', 'S'), ('J', 'D')),\n",
       " (('10', 'S'), ('J', 'C')),\n",
       " (('10', 'S'), ('J', 'S')),\n",
       " (('10', 'S'), ('Q', 'H')),\n",
       " (('10', 'S'), ('Q', 'D')),\n",
       " (('10', 'S'), ('Q', 'C')),\n",
       " (('10', 'S'), ('Q', 'S')),\n",
       " (('10', 'S'), ('K', 'H')),\n",
       " (('10', 'S'), ('K', 'D')),\n",
       " (('10', 'S'), ('K', 'C')),\n",
       " (('10', 'S'), ('K', 'S')),\n",
       " (('10', 'S'), ('A', 'H')),\n",
       " (('10', 'S'), ('A', 'D')),\n",
       " (('10', 'S'), ('A', 'C')),\n",
       " (('10', 'S'), ('A', 'S')),\n",
       " (('J', 'H'), ('J', 'D')),\n",
       " (('J', 'H'), ('J', 'C')),\n",
       " (('J', 'H'), ('J', 'S')),\n",
       " (('J', 'H'), ('Q', 'H')),\n",
       " (('J', 'H'), ('Q', 'D')),\n",
       " (('J', 'H'), ('Q', 'C')),\n",
       " (('J', 'H'), ('Q', 'S')),\n",
       " (('J', 'H'), ('K', 'H')),\n",
       " (('J', 'H'), ('K', 'D')),\n",
       " (('J', 'H'), ('K', 'C')),\n",
       " (('J', 'H'), ('K', 'S')),\n",
       " (('J', 'H'), ('A', 'H')),\n",
       " (('J', 'H'), ('A', 'D')),\n",
       " (('J', 'H'), ('A', 'C')),\n",
       " (('J', 'H'), ('A', 'S')),\n",
       " (('J', 'D'), ('J', 'C')),\n",
       " (('J', 'D'), ('J', 'S')),\n",
       " (('J', 'D'), ('Q', 'H')),\n",
       " (('J', 'D'), ('Q', 'D')),\n",
       " (('J', 'D'), ('Q', 'C')),\n",
       " (('J', 'D'), ('Q', 'S')),\n",
       " (('J', 'D'), ('K', 'H')),\n",
       " (('J', 'D'), ('K', 'D')),\n",
       " (('J', 'D'), ('K', 'C')),\n",
       " (('J', 'D'), ('K', 'S')),\n",
       " (('J', 'D'), ('A', 'H')),\n",
       " (('J', 'D'), ('A', 'D')),\n",
       " (('J', 'D'), ('A', 'C')),\n",
       " (('J', 'D'), ('A', 'S')),\n",
       " (('J', 'C'), ('J', 'S')),\n",
       " (('J', 'C'), ('Q', 'H')),\n",
       " (('J', 'C'), ('Q', 'D')),\n",
       " (('J', 'C'), ('Q', 'C')),\n",
       " (('J', 'C'), ('Q', 'S')),\n",
       " (('J', 'C'), ('K', 'H')),\n",
       " (('J', 'C'), ('K', 'D')),\n",
       " (('J', 'C'), ('K', 'C')),\n",
       " (('J', 'C'), ('K', 'S')),\n",
       " (('J', 'C'), ('A', 'H')),\n",
       " (('J', 'C'), ('A', 'D')),\n",
       " (('J', 'C'), ('A', 'C')),\n",
       " (('J', 'C'), ('A', 'S')),\n",
       " (('J', 'S'), ('Q', 'H')),\n",
       " (('J', 'S'), ('Q', 'D')),\n",
       " (('J', 'S'), ('Q', 'C')),\n",
       " (('J', 'S'), ('Q', 'S')),\n",
       " (('J', 'S'), ('K', 'H')),\n",
       " (('J', 'S'), ('K', 'D')),\n",
       " (('J', 'S'), ('K', 'C')),\n",
       " (('J', 'S'), ('K', 'S')),\n",
       " (('J', 'S'), ('A', 'H')),\n",
       " (('J', 'S'), ('A', 'D')),\n",
       " (('J', 'S'), ('A', 'C')),\n",
       " (('J', 'S'), ('A', 'S')),\n",
       " (('Q', 'H'), ('Q', 'D')),\n",
       " (('Q', 'H'), ('Q', 'C')),\n",
       " (('Q', 'H'), ('Q', 'S')),\n",
       " (('Q', 'H'), ('K', 'H')),\n",
       " (('Q', 'H'), ('K', 'D')),\n",
       " (('Q', 'H'), ('K', 'C')),\n",
       " (('Q', 'H'), ('K', 'S')),\n",
       " (('Q', 'H'), ('A', 'H')),\n",
       " (('Q', 'H'), ('A', 'D')),\n",
       " (('Q', 'H'), ('A', 'C')),\n",
       " (('Q', 'H'), ('A', 'S')),\n",
       " (('Q', 'D'), ('Q', 'C')),\n",
       " (('Q', 'D'), ('Q', 'S')),\n",
       " (('Q', 'D'), ('K', 'H')),\n",
       " (('Q', 'D'), ('K', 'D')),\n",
       " (('Q', 'D'), ('K', 'C')),\n",
       " (('Q', 'D'), ('K', 'S')),\n",
       " (('Q', 'D'), ('A', 'H')),\n",
       " (('Q', 'D'), ('A', 'D')),\n",
       " (('Q', 'D'), ('A', 'C')),\n",
       " (('Q', 'D'), ('A', 'S')),\n",
       " (('Q', 'C'), ('Q', 'S')),\n",
       " (('Q', 'C'), ('K', 'H')),\n",
       " (('Q', 'C'), ('K', 'D')),\n",
       " (('Q', 'C'), ('K', 'C')),\n",
       " (('Q', 'C'), ('K', 'S')),\n",
       " (('Q', 'C'), ('A', 'H')),\n",
       " (('Q', 'C'), ('A', 'D')),\n",
       " (('Q', 'C'), ('A', 'C')),\n",
       " (('Q', 'C'), ('A', 'S')),\n",
       " (('Q', 'S'), ('K', 'H')),\n",
       " (('Q', 'S'), ('K', 'D')),\n",
       " (('Q', 'S'), ('K', 'C')),\n",
       " (('Q', 'S'), ('K', 'S')),\n",
       " (('Q', 'S'), ('A', 'H')),\n",
       " (('Q', 'S'), ('A', 'D')),\n",
       " (('Q', 'S'), ('A', 'C')),\n",
       " (('Q', 'S'), ('A', 'S')),\n",
       " (('K', 'H'), ('K', 'D')),\n",
       " (('K', 'H'), ('K', 'C')),\n",
       " (('K', 'H'), ('K', 'S')),\n",
       " (('K', 'H'), ('A', 'H')),\n",
       " (('K', 'H'), ('A', 'D')),\n",
       " (('K', 'H'), ('A', 'C')),\n",
       " (('K', 'H'), ('A', 'S')),\n",
       " (('K', 'D'), ('K', 'C')),\n",
       " (('K', 'D'), ('K', 'S')),\n",
       " (('K', 'D'), ('A', 'H')),\n",
       " (('K', 'D'), ('A', 'D')),\n",
       " (('K', 'D'), ('A', 'C')),\n",
       " (('K', 'D'), ('A', 'S')),\n",
       " (('K', 'C'), ('K', 'S')),\n",
       " (('K', 'C'), ('A', 'H')),\n",
       " (('K', 'C'), ('A', 'D')),\n",
       " (('K', 'C'), ('A', 'C')),\n",
       " (('K', 'C'), ('A', 'S')),\n",
       " (('K', 'S'), ('A', 'H')),\n",
       " (('K', 'S'), ('A', 'D')),\n",
       " (('K', 'S'), ('A', 'C')),\n",
       " (('K', 'S'), ('A', 'S')),\n",
       " (('A', 'H'), ('A', 'D')),\n",
       " (('A', 'H'), ('A', 'C')),\n",
       " (('A', 'H'), ('A', 'S')),\n",
       " (('A', 'D'), ('A', 'C')),\n",
       " (('A', 'D'), ('A', 'S')),\n",
       " (('A', 'C'), ('A', 'S'))]"
      ]
     },
     "execution_count": 77,
     "metadata": {},
     "output_type": "execute_result"
    }
   ],
   "source": [
    "list(it.combinations(lst,2))"
   ]
  },
  {
   "cell_type": "code",
   "execution_count": 78,
   "id": "f5313e51",
   "metadata": {},
   "outputs": [
    {
     "data": {
      "text/plain": [
       "[('a', 'b'), ('a', 'c'), ('a', 'd'), ('b', 'c'), ('b', 'd'), ('c', 'd')]"
      ]
     },
     "execution_count": 78,
     "metadata": {},
     "output_type": "execute_result"
    }
   ],
   "source": [
    "list(it.combinations('abcd', 2))"
   ]
  },
  {
   "cell_type": "code",
   "execution_count": 79,
   "id": "244334f4",
   "metadata": {},
   "outputs": [
    {
     "data": {
      "text/plain": [
       "[('a', 'a'),\n",
       " ('a', 'b'),\n",
       " ('a', 'c'),\n",
       " ('a', 'd'),\n",
       " ('b', 'b'),\n",
       " ('b', 'c'),\n",
       " ('b', 'd'),\n",
       " ('c', 'c'),\n",
       " ('c', 'd'),\n",
       " ('d', 'd')]"
      ]
     },
     "execution_count": 79,
     "metadata": {},
     "output_type": "execute_result"
    }
   ],
   "source": [
    "list(it.combinations_with_replacement('abcd', 2))"
   ]
  },
  {
   "cell_type": "code",
   "execution_count": 80,
   "id": "b58a03c8",
   "metadata": {},
   "outputs": [],
   "source": [
    "#callable()    __call__()"
   ]
  },
  {
   "cell_type": "code",
   "execution_count": 81,
   "id": "9274b7a9",
   "metadata": {},
   "outputs": [],
   "source": [
    "class Some:\n",
    "    pass"
   ]
  },
  {
   "cell_type": "code",
   "execution_count": 82,
   "id": "23e7942b",
   "metadata": {},
   "outputs": [
    {
     "data": {
      "text/plain": [
       "['__class__',\n",
       " '__delattr__',\n",
       " '__dict__',\n",
       " '__dir__',\n",
       " '__doc__',\n",
       " '__eq__',\n",
       " '__format__',\n",
       " '__ge__',\n",
       " '__getattribute__',\n",
       " '__gt__',\n",
       " '__hash__',\n",
       " '__init__',\n",
       " '__init_subclass__',\n",
       " '__le__',\n",
       " '__lt__',\n",
       " '__module__',\n",
       " '__ne__',\n",
       " '__new__',\n",
       " '__reduce__',\n",
       " '__reduce_ex__',\n",
       " '__repr__',\n",
       " '__setattr__',\n",
       " '__sizeof__',\n",
       " '__str__',\n",
       " '__subclasshook__',\n",
       " '__weakref__']"
      ]
     },
     "execution_count": 82,
     "metadata": {},
     "output_type": "execute_result"
    }
   ],
   "source": [
    "dir(Some)"
   ]
  },
  {
   "cell_type": "code",
   "execution_count": null,
   "id": "adad845f",
   "metadata": {},
   "outputs": [],
   "source": [
    " "
   ]
  }
 ],
 "metadata": {
  "kernelspec": {
   "display_name": "Python 3 (ipykernel)",
   "language": "python",
   "name": "python3"
  },
  "language_info": {
   "codemirror_mode": {
    "name": "ipython",
    "version": 3
   },
   "file_extension": ".py",
   "mimetype": "text/x-python",
   "name": "python",
   "nbconvert_exporter": "python",
   "pygments_lexer": "ipython3",
   "version": "3.9.7"
  }
 },
 "nbformat": 4,
 "nbformat_minor": 5
}
